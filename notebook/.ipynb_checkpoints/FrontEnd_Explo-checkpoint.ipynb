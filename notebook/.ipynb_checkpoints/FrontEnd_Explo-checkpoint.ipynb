{
 "cells": [
  {
   "cell_type": "markdown",
   "id": "8d268201",
   "metadata": {},
   "source": [
    "Bare minimum for \n",
    "- consumption of model.joblib\n",
    "- export of properly formatted .json"
   ]
  },
  {
   "cell_type": "markdown",
   "id": "3c8348b9",
   "metadata": {},
   "source": [
    "# imports"
   ]
  },
  {
   "cell_type": "code",
   "execution_count": 1,
   "id": "972e3d34",
   "metadata": {},
   "outputs": [],
   "source": [
    "import streamlit as st\n",
    "import requests\n",
    "import numpy as np\n",
    "import pandas as pd"
   ]
  },
  {
   "cell_type": "code",
   "execution_count": 23,
   "id": "770e488d",
   "metadata": {},
   "outputs": [],
   "source": [
    "# needs to run an api from AnimeList_API repo on github\n",
    "url_api ='http://0.0.0.0:8000/predict'"
   ]
  },
  {
   "cell_type": "markdown",
   "id": "4eb729a3",
   "metadata": {},
   "source": [
    "# get and show data from api"
   ]
  },
  {
   "cell_type": "markdown",
   "id": "625fef2e",
   "metadata": {},
   "source": [
    "## get data "
   ]
  },
  {
   "cell_type": "code",
   "execution_count": 5,
   "id": "a73ed824",
   "metadata": {},
   "outputs": [],
   "source": [
    "anime_input = 'Naruto'\n",
    "predict_size_input = 10\n",
    "model_input = 'notation'\n",
    "params = {\n",
    "    'anime' : anime_input,\n",
    "    'length' : predict_size_input,\n",
    "    'model' : model_input\n",
    "}\n",
    "\n",
    "response = requests.get(url_api, params=params).json()\n",
    "prediction = response['prediction']"
   ]
  },
  {
   "cell_type": "code",
   "execution_count": 6,
   "id": "e06f6a80",
   "metadata": {},
   "outputs": [
    {
     "data": {
      "text/plain": [
       "{'Naruto: Shippuuden': 0.16479568859309957,\n",
       " 'Death Note': 0.28978191191199754,\n",
       " 'Bleach': 0.31862997487679345,\n",
       " 'Shingeki no Kyojin': 0.3200006084059118,\n",
       " 'Fullmetal Alchemist: Brotherhood': 0.34244184214998474,\n",
       " 'Sword Art Online': 0.3471770420949094,\n",
       " 'Code Geass: Hangyaku no Lelouch': 0.36965757726627224,\n",
       " 'One Punch Man': 0.37465993577686285,\n",
       " 'Tokyo Ghoul': 0.3842327761099542,\n",
       " 'Fairy Tail': 0.38772256888731504}"
      ]
     },
     "execution_count": 6,
     "metadata": {},
     "output_type": "execute_result"
    }
   ],
   "source": [
    "prediction"
   ]
  },
  {
   "cell_type": "code",
   "execution_count": 10,
   "id": "99aea5fb",
   "metadata": {},
   "outputs": [
    {
     "data": {
      "text/plain": [
       "dict"
      ]
     },
     "execution_count": 10,
     "metadata": {},
     "output_type": "execute_result"
    }
   ],
   "source": [
    "type(prediction)"
   ]
  },
  {
   "cell_type": "markdown",
   "id": "5769df27",
   "metadata": {},
   "source": [
    "## convert dict from json to list"
   ]
  },
  {
   "cell_type": "code",
   "execution_count": 17,
   "id": "b1a37b42",
   "metadata": {},
   "outputs": [],
   "source": [
    "def convert_dict_to_list(dict):\n",
    "    temp = []\n",
    "    dictList = []\n",
    "    for key, value in dict.items():\n",
    "        temp = [key,value]\n",
    "        dictList.append(temp)\n",
    "    return dictList"
   ]
  },
  {
   "cell_type": "code",
   "execution_count": 18,
   "id": "1ffb26c1",
   "metadata": {},
   "outputs": [],
   "source": [
    "prediction_convert = convert_dict_to_list(prediction)"
   ]
  },
  {
   "cell_type": "code",
   "execution_count": 21,
   "id": "5412a663",
   "metadata": {},
   "outputs": [
    {
     "data": {
      "text/plain": [
       "[['Naruto: Shippuuden', 0.16479568859309957],\n",
       " ['Death Note', 0.28978191191199754],\n",
       " ['Bleach', 0.31862997487679345],\n",
       " ['Shingeki no Kyojin', 0.3200006084059118],\n",
       " ['Fullmetal Alchemist: Brotherhood', 0.34244184214998474],\n",
       " ['Sword Art Online', 0.3471770420949094],\n",
       " ['Code Geass: Hangyaku no Lelouch', 0.36965757726627224],\n",
       " ['One Punch Man', 0.37465993577686285],\n",
       " ['Tokyo Ghoul', 0.3842327761099542],\n",
       " ['Fairy Tail', 0.38772256888731504]]"
      ]
     },
     "execution_count": 21,
     "metadata": {},
     "output_type": "execute_result"
    }
   ],
   "source": [
    "prediction_convert"
   ]
  },
  {
   "cell_type": "markdown",
   "id": "61d87ef5",
   "metadata": {},
   "source": [
    "## print list properly"
   ]
  },
  {
   "cell_type": "code",
   "execution_count": 28,
   "id": "3951d933",
   "metadata": {},
   "outputs": [
    {
     "data": {
      "text/plain": [
       "'Naruto: Shippuuden'"
      ]
     },
     "execution_count": 28,
     "metadata": {},
     "output_type": "execute_result"
    }
   ],
   "source": [
    "prediction_convert[0][0]"
   ]
  },
  {
   "cell_type": "code",
   "execution_count": 31,
   "id": "587c51b1",
   "metadata": {},
   "outputs": [
    {
     "data": {
      "text/plain": [
       "'Death Note'"
      ]
     },
     "execution_count": 31,
     "metadata": {},
     "output_type": "execute_result"
    }
   ],
   "source": [
    "prediction_convert[1][0]"
   ]
  },
  {
   "cell_type": "code",
   "execution_count": 34,
   "id": "eb5878b0",
   "metadata": {},
   "outputs": [
    {
     "ename": "SyntaxError",
     "evalue": "Missing parentheses in call to 'print'. Did you mean print(prediction_convert[x], end=\" \")? (859047408.py, line 2)",
     "output_type": "error",
     "traceback": [
      "\u001b[0;36m  File \u001b[0;32m\"/tmp/ipykernel_38555/859047408.py\"\u001b[0;36m, line \u001b[0;32m2\u001b[0m\n\u001b[0;31m    print prediction_convert[x],\u001b[0m\n\u001b[0m          ^\u001b[0m\n\u001b[0;31mSyntaxError\u001b[0m\u001b[0;31m:\u001b[0m Missing parentheses in call to 'print'. Did you mean print(prediction_convert[x], end=\" \")?\n"
     ]
    }
   ],
   "source": [
    "for x in range(len(prediction_convert)):\n",
    "    print prediction_convert[x],"
   ]
  },
  {
   "cell_type": "code",
   "execution_count": 37,
   "id": "c2df91c6",
   "metadata": {},
   "outputs": [
    {
     "name": "stdout",
     "output_type": "stream",
     "text": [
      "['Naruto: Shippuuden', 0.16479568859309957] ['Death Note', 0.28978191191199754] ['Bleach', 0.31862997487679345] ['Shingeki no Kyojin', 0.3200006084059118] ['Fullmetal Alchemist: Brotherhood', 0.34244184214998474] ['Sword Art Online', 0.3471770420949094] ['Code Geass: Hangyaku no Lelouch', 0.36965757726627224] ['One Punch Man', 0.37465993577686285] ['Tokyo Ghoul', 0.3842327761099542] ['Fairy Tail', 0.38772256888731504]\n"
     ]
    }
   ],
   "source": [
    "print(' '.join(map(str, prediction_convert))) "
   ]
  },
  {
   "cell_type": "code",
   "execution_count": 40,
   "id": "85e5c3b6",
   "metadata": {},
   "outputs": [
    {
     "ename": "AttributeError",
     "evalue": "'dict' object has no attribute 'index'",
     "output_type": "error",
     "traceback": [
      "\u001b[0;31m---------------------------------------------------------------------------\u001b[0m",
      "\u001b[0;31mAttributeError\u001b[0m                            Traceback (most recent call last)",
      "\u001b[0;32m/tmp/ipykernel_38555/490543220.py\u001b[0m in \u001b[0;36m<module>\u001b[0;34m\u001b[0m\n\u001b[0;32m----> 1\u001b[0;31m \u001b[0mprint\u001b[0m\u001b[0;34m(\u001b[0m\u001b[0mprediction\u001b[0m\u001b[0;34m.\u001b[0m\u001b[0mindex\u001b[0m\u001b[0;34m.\u001b[0m\u001b[0mtolist\u001b[0m\u001b[0;34m(\u001b[0m\u001b[0;34m)\u001b[0m\u001b[0;34m)\u001b[0m\u001b[0;34m\u001b[0m\u001b[0;34m\u001b[0m\u001b[0m\n\u001b[0m",
      "\u001b[0;31mAttributeError\u001b[0m: 'dict' object has no attribute 'index'"
     ]
    }
   ],
   "source": [
    "print(prediction.index.tolist())"
   ]
  },
  {
   "cell_type": "code",
   "execution_count": 62,
   "id": "b4dd1664",
   "metadata": {
    "scrolled": true
   },
   "outputs": [
    {
     "ename": "TypeError",
     "evalue": "'list' object cannot be interpreted as an integer",
     "output_type": "error",
     "traceback": [
      "\u001b[0;31m---------------------------------------------------------------------------\u001b[0m",
      "\u001b[0;31mTypeError\u001b[0m                                 Traceback (most recent call last)",
      "\u001b[0;32m/tmp/ipykernel_38555/2972921836.py\u001b[0m in \u001b[0;36m<module>\u001b[0;34m\u001b[0m\n\u001b[0;32m----> 1\u001b[0;31m \u001b[0mprint\u001b[0m\u001b[0;34m(\u001b[0m\u001b[0mprediction_convert\u001b[0m\u001b[0;34m[\u001b[0m\u001b[0mi\u001b[0m\u001b[0;34m]\u001b[0m \u001b[0;32mfor\u001b[0m \u001b[0mi\u001b[0m \u001b[0;32min\u001b[0m \u001b[0mrange\u001b[0m\u001b[0;34m(\u001b[0m\u001b[0;36m0\u001b[0m\u001b[0;34m,\u001b[0m \u001b[0mprediction_convert\u001b[0m\u001b[0;34m)\u001b[0m\u001b[0;34m)\u001b[0m\u001b[0;34m\u001b[0m\u001b[0;34m\u001b[0m\u001b[0m\n\u001b[0m",
      "\u001b[0;31mTypeError\u001b[0m: 'list' object cannot be interpreted as an integer"
     ]
    }
   ],
   "source": [
    "print(prediction_convert[i] for i in range(0, prediction_convert))"
   ]
  },
  {
   "cell_type": "code",
   "execution_count": 71,
   "id": "c8f65eb0",
   "metadata": {},
   "outputs": [
    {
     "name": "stdout",
     "output_type": "stream",
     "text": [
      "Naruto: Shippuuden\n",
      "Death Note\n",
      "Bleach\n",
      "Shingeki no Kyojin\n",
      "Fullmetal Alchemist: Brotherhood\n",
      "Sword Art Online\n",
      "Code Geass: Hangyaku no Lelouch\n",
      "One Punch Man\n",
      "Tokyo Ghoul\n",
      "Fairy Tail\n"
     ]
    }
   ],
   "source": [
    "for i in range(len(prediction_convert)):\n",
    "    print(prediction_convert[i][0])"
   ]
  },
  {
   "cell_type": "code",
   "execution_count": 87,
   "id": "1659d804",
   "metadata": {},
   "outputs": [],
   "source": [
    "prediction_list_names = [prediction_convert[i][0] for i in range(len(prediction_convert))]"
   ]
  },
  {
   "cell_type": "code",
   "execution_count": 88,
   "id": "e636564c",
   "metadata": {},
   "outputs": [
    {
     "data": {
      "text/plain": [
       "['Naruto: Shippuuden',\n",
       " 'Death Note',\n",
       " 'Bleach',\n",
       " 'Shingeki no Kyojin',\n",
       " 'Fullmetal Alchemist: Brotherhood',\n",
       " 'Sword Art Online',\n",
       " 'Code Geass: Hangyaku no Lelouch',\n",
       " 'One Punch Man',\n",
       " 'Tokyo Ghoul',\n",
       " 'Fairy Tail']"
      ]
     },
     "execution_count": 88,
     "metadata": {},
     "output_type": "execute_result"
    }
   ],
   "source": [
    "prediction_list_names"
   ]
  },
  {
   "cell_type": "code",
   "execution_count": null,
   "id": "876da287",
   "metadata": {},
   "outputs": [],
   "source": [
    "# print list elements\n",
    "# https://stackoverflow.com/questions/15769246/pythonic-way-to-print-list-items"
   ]
  },
  {
   "cell_type": "code",
   "execution_count": 89,
   "id": "c6f26912",
   "metadata": {},
   "outputs": [
    {
     "name": "stdout",
     "output_type": "stream",
     "text": [
      "Naruto: Shippuuden\n",
      "Death Note\n",
      "Bleach\n",
      "Shingeki no Kyojin\n",
      "Fullmetal Alchemist: Brotherhood\n",
      "Sword Art Online\n",
      "Code Geass: Hangyaku no Lelouch\n",
      "One Punch Man\n",
      "Tokyo Ghoul\n",
      "Fairy Tail\n"
     ]
    }
   ],
   "source": [
    "print(*prediction_list_names, sep='\\n')"
   ]
  },
  {
   "cell_type": "code",
   "execution_count": 90,
   "id": "64f08b3a",
   "metadata": {},
   "outputs": [
    {
     "name": "stdout",
     "output_type": "stream",
     "text": [
      "Naruto: Shippuuden\n",
      "Death Note\n",
      "Bleach\n",
      "Shingeki no Kyojin\n",
      "Fullmetal Alchemist: Brotherhood\n",
      "Sword Art Online\n",
      "Code Geass: Hangyaku no Lelouch\n",
      "One Punch Man\n",
      "Tokyo Ghoul\n",
      "Fairy Tail\n"
     ]
    }
   ],
   "source": [
    "for p in prediction_list_names: print(p)"
   ]
  },
  {
   "cell_type": "code",
   "execution_count": 94,
   "id": "fabd9618",
   "metadata": {},
   "outputs": [
    {
     "name": "stdout",
     "output_type": "stream",
     "text": [
      "Naruto: Shippuuden\n",
      "Death Note\n",
      "Bleach\n",
      "Shingeki no Kyojin\n",
      "Fullmetal Alchemist: Brotherhood\n",
      "Sword Art Online\n",
      "Code Geass: Hangyaku no Lelouch\n",
      "One Punch Man\n",
      "Tokyo Ghoul\n",
      "Fairy Tail\n"
     ]
    }
   ],
   "source": [
    "print('\\n'.join(str(p) for p in prediction_list_names))"
   ]
  },
  {
   "cell_type": "code",
   "execution_count": 95,
   "id": "9e61004b",
   "metadata": {},
   "outputs": [
    {
     "data": {
      "text/plain": [
       "'Naruto: Shippuuden\\nDeath Note\\nBleach\\nShingeki no Kyojin\\nFullmetal Alchemist: Brotherhood\\nSword Art Online\\nCode Geass: Hangyaku no Lelouch\\nOne Punch Man\\nTokyo Ghoul\\nFairy Tail'"
      ]
     },
     "execution_count": 95,
     "metadata": {},
     "output_type": "execute_result"
    }
   ],
   "source": [
    "'\\n'.join(str(p) for p in prediction_list_names)"
   ]
  },
  {
   "cell_type": "code",
   "execution_count": 97,
   "id": "d6320a27",
   "metadata": {},
   "outputs": [],
   "source": [
    "prediction_list_names_df = pd.DataFrame(prediction_list_names)"
   ]
  },
  {
   "cell_type": "code",
   "execution_count": 98,
   "id": "3cafcbc1",
   "metadata": {},
   "outputs": [
    {
     "data": {
      "text/html": [
       "<div>\n",
       "<style scoped>\n",
       "    .dataframe tbody tr th:only-of-type {\n",
       "        vertical-align: middle;\n",
       "    }\n",
       "\n",
       "    .dataframe tbody tr th {\n",
       "        vertical-align: top;\n",
       "    }\n",
       "\n",
       "    .dataframe thead th {\n",
       "        text-align: right;\n",
       "    }\n",
       "</style>\n",
       "<table border=\"1\" class=\"dataframe\">\n",
       "  <thead>\n",
       "    <tr style=\"text-align: right;\">\n",
       "      <th></th>\n",
       "      <th>0</th>\n",
       "    </tr>\n",
       "  </thead>\n",
       "  <tbody>\n",
       "    <tr>\n",
       "      <th>0</th>\n",
       "      <td>Naruto: Shippuuden</td>\n",
       "    </tr>\n",
       "    <tr>\n",
       "      <th>1</th>\n",
       "      <td>Death Note</td>\n",
       "    </tr>\n",
       "    <tr>\n",
       "      <th>2</th>\n",
       "      <td>Bleach</td>\n",
       "    </tr>\n",
       "    <tr>\n",
       "      <th>3</th>\n",
       "      <td>Shingeki no Kyojin</td>\n",
       "    </tr>\n",
       "    <tr>\n",
       "      <th>4</th>\n",
       "      <td>Fullmetal Alchemist: Brotherhood</td>\n",
       "    </tr>\n",
       "    <tr>\n",
       "      <th>5</th>\n",
       "      <td>Sword Art Online</td>\n",
       "    </tr>\n",
       "    <tr>\n",
       "      <th>6</th>\n",
       "      <td>Code Geass: Hangyaku no Lelouch</td>\n",
       "    </tr>\n",
       "    <tr>\n",
       "      <th>7</th>\n",
       "      <td>One Punch Man</td>\n",
       "    </tr>\n",
       "    <tr>\n",
       "      <th>8</th>\n",
       "      <td>Tokyo Ghoul</td>\n",
       "    </tr>\n",
       "    <tr>\n",
       "      <th>9</th>\n",
       "      <td>Fairy Tail</td>\n",
       "    </tr>\n",
       "  </tbody>\n",
       "</table>\n",
       "</div>"
      ],
      "text/plain": [
       "                                  0\n",
       "0                Naruto: Shippuuden\n",
       "1                        Death Note\n",
       "2                            Bleach\n",
       "3                Shingeki no Kyojin\n",
       "4  Fullmetal Alchemist: Brotherhood\n",
       "5                  Sword Art Online\n",
       "6   Code Geass: Hangyaku no Lelouch\n",
       "7                     One Punch Man\n",
       "8                       Tokyo Ghoul\n",
       "9                        Fairy Tail"
      ]
     },
     "execution_count": 98,
     "metadata": {},
     "output_type": "execute_result"
    }
   ],
   "source": [
    "prediction_list_names_df"
   ]
  },
  {
   "cell_type": "code",
   "execution_count": 101,
   "id": "b64a4251",
   "metadata": {},
   "outputs": [
    {
     "data": {
      "text/plain": [
       "[0, 1, 2, 3, 4, 5, 6, 7, 8, 9]"
      ]
     },
     "execution_count": 101,
     "metadata": {},
     "output_type": "execute_result"
    }
   ],
   "source": [
    "prediction_list_names_df.index.tolist()"
   ]
  },
  {
   "cell_type": "code",
   "execution_count": 103,
   "id": "b7b95a33",
   "metadata": {},
   "outputs": [
    {
     "name": "stdout",
     "output_type": "stream",
     "text": [
      " Naruto: Shippuuden\n",
      " Death Note\n",
      " Bleach\n",
      " Shingeki no Kyojin\n",
      " Fullmetal Alchemist: Brotherhood\n",
      " Sword Art Online\n",
      " Code Geass: Hangyaku no Lelouch\n",
      " One Punch Man\n",
      " Tokyo Ghoul\n",
      " Fairy Tail\n"
     ]
    }
   ],
   "source": [
    "for row in prediction_list_names:\n",
    "    print(\"- \" + row)"
   ]
  },
  {
   "cell_type": "code",
   "execution_count": 99,
   "id": "e9e0c987",
   "metadata": {},
   "outputs": [
    {
     "ename": "NameError",
     "evalue": "name 'df' is not defined",
     "output_type": "error",
     "traceback": [
      "\u001b[0;31m---------------------------------------------------------------------------\u001b[0m",
      "\u001b[0;31mNameError\u001b[0m                                 Traceback (most recent call last)",
      "\u001b[0;32m/tmp/ipykernel_38555/2286447974.py\u001b[0m in \u001b[0;36m<module>\u001b[0;34m\u001b[0m\n\u001b[0;32m----> 1\u001b[0;31m \u001b[0mst\u001b[0m\u001b[0;34m.\u001b[0m\u001b[0mmarkdown\u001b[0m\u001b[0;34m(\u001b[0m\u001b[0mdf\u001b[0m\u001b[0;34m.\u001b[0m\u001b[0mindex\u001b[0m\u001b[0;34m.\u001b[0m\u001b[0mtolist\u001b[0m\u001b[0;34m(\u001b[0m\u001b[0;34m)\u001b[0m\u001b[0;34m)\u001b[0m\u001b[0;34m\u001b[0m\u001b[0;34m\u001b[0m\u001b[0m\n\u001b[0m",
      "\u001b[0;31mNameError\u001b[0m: name 'df' is not defined"
     ]
    }
   ],
   "source": [
    "\n",
    "st.markdown(df.index.tolist())"
   ]
  },
  {
   "cell_type": "code",
   "execution_count": null,
   "id": "c72e6be5",
   "metadata": {},
   "outputs": [],
   "source": []
  },
  {
   "cell_type": "code",
   "execution_count": 76,
   "id": "c03994fd",
   "metadata": {},
   "outputs": [],
   "source": [
    "def genre_to_anime(genre):\n",
    "    anime_output = \"\"\n",
    "    if genre == \"Battle Shounen\":\n",
    "        anime_output = \"Fullmetal Alchemist: Brotherhood\"\n",
    "    elif genre == \"Drama\":\n",
    "        anime_output = \"Kimi no Na wa.\"\n",
    "    elif genre == \"Romance\":\n",
    "        anime_output = \"Toradora\"\n",
    "    elif genre == \"Fantasy\":\n",
    "        anime_output = \"Little Witch Academia\"  \n",
    "    elif genre == \"Science-Fiction\":\n",
    "        anime_output = \"Cowboy Bebop\"   \n",
    "    elif genre == \"Robots\":\n",
    "        anime_output = \"Neon Genesis Evangelion\"   \n",
    "    elif genre == \"Slice of Life\":\n",
    "        anime_output = \"Aria the Animation\" \n",
    "\n",
    "    return anime_output"
   ]
  },
  {
   "cell_type": "code",
   "execution_count": 78,
   "id": "2a9d695a",
   "metadata": {},
   "outputs": [
    {
     "data": {
      "text/plain": [
       "'Cowboy Bebop'"
      ]
     },
     "execution_count": 78,
     "metadata": {},
     "output_type": "execute_result"
    }
   ],
   "source": [
    "genre_to_anime(\"Science-Fiction\")"
   ]
  },
  {
   "cell_type": "code",
   "execution_count": null,
   "id": "fb051625",
   "metadata": {},
   "outputs": [],
   "source": []
  }
 ],
 "metadata": {
  "kernelspec": {
   "display_name": "anime_map",
   "language": "python",
   "name": "anime_map"
  },
  "language_info": {
   "codemirror_mode": {
    "name": "ipython",
    "version": 3
   },
   "file_extension": ".py",
   "mimetype": "text/x-python",
   "name": "python",
   "nbconvert_exporter": "python",
   "pygments_lexer": "ipython3",
   "version": "3.9.6"
  },
  "toc": {
   "base_numbering": 1,
   "nav_menu": {},
   "number_sections": true,
   "sideBar": true,
   "skip_h1_title": false,
   "title_cell": "Table of Contents",
   "title_sidebar": "Contents",
   "toc_cell": false,
   "toc_position": {},
   "toc_section_display": true,
   "toc_window_display": false
  }
 },
 "nbformat": 4,
 "nbformat_minor": 5
}
