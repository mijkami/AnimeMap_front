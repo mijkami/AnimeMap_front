{
 "cells": [
  {
   "cell_type": "markdown",
   "id": "b20f997b",
   "metadata": {},
   "source": []
  },
  {
   "cell_type": "markdown",
   "id": "5e06b587",
   "metadata": {
    "heading_collapsed": true
   },
   "source": [
    "# imports"
   ]
  },
  {
   "cell_type": "markdown",
   "id": "b9d0f411",
   "metadata": {
    "hidden": true
   },
   "source": [
    "## dependencies"
   ]
  },
  {
   "cell_type": "code",
   "execution_count": 1,
   "id": "71d60610",
   "metadata": {
    "hidden": true
   },
   "outputs": [],
   "source": [
    "import joblib\n",
    "import pandas as pd\n",
    "from sklearn.neighbors import NearestNeighbors"
   ]
  },
  {
   "cell_type": "code",
   "execution_count": 2,
   "id": "82339621",
   "metadata": {
    "hidden": true
   },
   "outputs": [],
   "source": [
    "#!pip install scikit-learn==0.24.2"
   ]
  },
  {
   "cell_type": "markdown",
   "id": "2ad650e6",
   "metadata": {
    "hidden": true
   },
   "source": [
    "## files"
   ]
  },
  {
   "cell_type": "code",
   "execution_count": 3,
   "id": "3d9d3145",
   "metadata": {
    "hidden": true
   },
   "outputs": [],
   "source": [
    "model_path = \"../data/models_anime_map_knn_model.joblib\""
   ]
  },
  {
   "cell_type": "code",
   "execution_count": 4,
   "id": "d175393d",
   "metadata": {
    "hidden": true
   },
   "outputs": [],
   "source": [
    "def get_anime():\n",
    "    anime_df_relevant_PG = pd.read_csv(\"../data/anime_df_relevant_PG.csv\")\n",
    "    return anime_df_relevant_PG.rename(columns={'MAL_ID' : 'anime_id'})"
   ]
  },
  {
   "cell_type": "code",
   "execution_count": 5,
   "id": "8aa3be18",
   "metadata": {
    "hidden": true
   },
   "outputs": [],
   "source": [
    "def get_data(name_file):\n",
    "    data = pd.read_csv(f'../data/{name_file}.csv')\n",
    "    return data\n"
   ]
  },
  {
   "cell_type": "code",
   "execution_count": 6,
   "id": "94f019f4",
   "metadata": {
    "hidden": true
   },
   "outputs": [],
   "source": [
    "model = joblib.load(model_path)"
   ]
  },
  {
   "cell_type": "code",
   "execution_count": 7,
   "id": "7f8ea2cb",
   "metadata": {
    "hidden": true
   },
   "outputs": [],
   "source": [
    "def process_data(name_file):\n",
    "    data_users_df = get_data(name_file)\n",
    "    data_users_df['rating'] = data_users_df['rating']/10\n",
    "    \n",
    "    anime_df_relevant_PG = get_anime()\n",
    "    anime_name_df = anime_df_relevant_PG[['anime_id','Name']]\n",
    "    data_users_df_merge = data_users_df.merge(anime_name_df, on = 'anime_id', how='inner')\n",
    "    pivot_df = data_users_df_merge.pivot_table(index='anime_id',columns='user_id',values='rating').fillna(0)\n",
    "    \n",
    "    anime_Genres_df = anime_df_relevant_PG[['anime_id','Genres']]\n",
    "    anime_Genres_df_encoded = pd.concat(objs = [anime_Genres_df.drop(columns = 'Genres', axis =1), anime_Genres_df['Genres'].str.get_dummies(sep=\", \")], axis = 1)\n",
    "    anime_Genres_df_encoded = anime_Genres_df_encoded.set_index('anime_id')\n",
    "    \n",
    "    pivot_df = pivot_df.merge(anime_Genres_df_encoded, how='inner',left_index=True, right_index=True)\n",
    "    anime_name_pivot_df = data_users_df_merge[['anime_id','Name']].drop_duplicates()\n",
    "    anime_name_pivot_df = anime_name_pivot_df.sort_values('anime_id')\n",
    "    anime_name_pivot_df = anime_name_pivot_df.reset_index().drop(columns = 'index')\n",
    "    \n",
    "    return pivot_df, anime_name_pivot_df"
   ]
  },
  {
   "cell_type": "code",
   "execution_count": 8,
   "id": "26909853",
   "metadata": {
    "hidden": true
   },
   "outputs": [],
   "source": [
    "pivot_df, anime_name_pivot_df = process_data('active_users_df_10PlusRatings_partial')"
   ]
  },
  {
   "cell_type": "markdown",
   "id": "3ed5eb42",
   "metadata": {},
   "source": [
    "# predict"
   ]
  },
  {
   "cell_type": "code",
   "execution_count": 9,
   "id": "a1ecbb69",
   "metadata": {},
   "outputs": [],
   "source": [
    "def recomendation_10PlusRatings(anime_name, nb_recomendation = 10):\n",
    "    index_nb = anime_name_pivot_df.index[anime_name_pivot_df['Name'] == anime_name].tolist()[0]\n",
    "    distances, indices = model.kneighbors(pivot_df.iloc[index_nb,:].values.reshape(1, -1), n_neighbors = nb_recomendation + 1)\n",
    "\n",
    "    prediction = []\n",
    "    for i in range(0, len(distances.flatten())):\n",
    "        if i == 0:\n",
    "            prediction.append([pivot_df.index[indices.flatten()[i]],0])\n",
    "        else:\n",
    "            prediction.append([pivot_df.index[indices.flatten()[i]],distances.flatten()[i]])\n",
    "    results = []\n",
    "    for i in range(len(prediction)):\n",
    "        anime_name = anime_name_pivot_df.query(f'anime_id == {prediction[i][0]}').iloc[0].Name\n",
    "        distance = prediction[i][1]\n",
    "        results.append([anime_name,distance])\n",
    "    return results"
   ]
  },
  {
   "cell_type": "code",
   "execution_count": 15,
   "id": "3d784de0",
   "metadata": {},
   "outputs": [
    {
     "data": {
      "text/plain": [
       "[['Naruto', 0],\n",
       " ['Naruto: Shippuuden', 0.18049078542744768],\n",
       " ['Death Note', 0.32724375187989996],\n",
       " ['Bleach', 0.35922338431707146],\n",
       " ['Shingeki no Kyojin', 0.3764965221555553],\n",
       " ['Fullmetal Alchemist: Brotherhood', 0.4092187913883153],\n",
       " ['Code Geass: Hangyaku no Lelouch', 0.4141593159792041],\n",
       " ['Sword Art Online', 0.4145034622526954],\n",
       " ['One Piece', 0.4324693299705893],\n",
       " ['Fairy Tail', 0.43374727465720364],\n",
       " ['One Punch Man', 0.440672137299862]]"
      ]
     },
     "execution_count": 15,
     "metadata": {},
     "output_type": "execute_result"
    }
   ],
   "source": [
    "recomendation_10PlusRatings('Naruto')"
   ]
  },
  {
   "cell_type": "code",
   "execution_count": null,
   "id": "c05c3c84",
   "metadata": {},
   "outputs": [],
   "source": []
  }
 ],
 "metadata": {
  "kernelspec": {
   "display_name": "anime_map",
   "language": "python",
   "name": "anime_map"
  },
  "language_info": {
   "codemirror_mode": {
    "name": "ipython",
    "version": 3
   },
   "file_extension": ".py",
   "mimetype": "text/x-python",
   "name": "python",
   "nbconvert_exporter": "python",
   "pygments_lexer": "ipython3",
   "version": "3.9.6"
  },
  "toc": {
   "base_numbering": 1,
   "nav_menu": {},
   "number_sections": true,
   "sideBar": true,
   "skip_h1_title": false,
   "title_cell": "Table of Contents",
   "title_sidebar": "Contents",
   "toc_cell": false,
   "toc_position": {},
   "toc_section_display": true,
   "toc_window_display": false
  }
 },
 "nbformat": 4,
 "nbformat_minor": 5
}
