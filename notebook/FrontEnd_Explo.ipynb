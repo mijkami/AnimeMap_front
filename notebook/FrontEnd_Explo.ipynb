{
 "cells": [
  {
   "cell_type": "markdown",
   "id": "8d268201",
   "metadata": {},
   "source": [
    "Bare minimum for \n",
    "- consumption of model.joblib\n",
    "- export of properly formatted .json"
   ]
  },
  {
   "cell_type": "markdown",
   "id": "3c8348b9",
   "metadata": {},
   "source": [
    "# imports"
   ]
  },
  {
   "cell_type": "markdown",
   "id": "b375ad67",
   "metadata": {},
   "source": [
    "## dependencies"
   ]
  },
  {
   "cell_type": "code",
   "execution_count": 1,
   "id": "972e3d34",
   "metadata": {},
   "outputs": [],
   "source": [
    "import joblib\n",
    "import pandas as pd\n",
    "from sklearn.neighbors import NearestNeighbors"
   ]
  },
  {
   "cell_type": "code",
   "execution_count": 2,
   "id": "79cb9be1",
   "metadata": {},
   "outputs": [],
   "source": [
    "#!pip install scikit-learn==0.24.2"
   ]
  },
  {
   "cell_type": "markdown",
   "id": "e2fc3bfe",
   "metadata": {},
   "source": [
    "## files"
   ]
  },
  {
   "cell_type": "code",
   "execution_count": 3,
   "id": "770e488d",
   "metadata": {},
   "outputs": [],
   "source": [
    "model_path = \"../data/models_anime_map_knn_model.joblib\""
   ]
  },
  {
   "cell_type": "code",
   "execution_count": 4,
   "id": "47da0632",
   "metadata": {},
   "outputs": [],
   "source": [
    "def get_anime():\n",
    "    anime_df_relevant_PG = pd.read_csv(\"../data/anime_df_relevant_PG.csv\")\n",
    "    return anime_df_relevant_PG.rename(columns={'MAL_ID' : 'anime_id'})"
   ]
  },
  {
   "cell_type": "code",
   "execution_count": 5,
   "id": "8095d321",
   "metadata": {},
   "outputs": [],
   "source": [
    "def get_data(name_file):\n",
    "    data = pd.read_csv(f'../data/{name_file}.csv')\n",
    "    return data\n"
   ]
  },
  {
   "cell_type": "code",
   "execution_count": 6,
   "id": "beb5f096",
   "metadata": {},
   "outputs": [],
   "source": [
    "def get_model(path):\n",
    "    return joblib.load(model_path)"
   ]
  },
  {
   "cell_type": "code",
   "execution_count": 7,
   "id": "3675c467",
   "metadata": {},
   "outputs": [],
   "source": [
    "def process_data(name_file):\n",
    "    data_users_df = get_data(name_file)\n",
    "    data_users_df['rating'] = data_users_df['rating']/10\n",
    "    \n",
    "    anime_df_relevant_PG = get_anime()\n",
    "    anime_name_df = anime_df_relevant_PG[['anime_id','Name']]\n",
    "    data_users_df_merge = data_users_df.merge(anime_name_df, on = 'anime_id', how='inner')\n",
    "    pivot_df = data_users_df_merge.pivot_table(index='anime_id',columns='user_id',values='rating').fillna(0)\n",
    "    \n",
    "    anime_Genres_df = anime_df_relevant_PG[['anime_id','Genres']]\n",
    "    anime_Genres_df_encoded = pd.concat(objs = [anime_Genres_df.drop(columns = 'Genres', axis =1), anime_Genres_df['Genres'].str.get_dummies(sep=\", \")], axis = 1)\n",
    "    anime_Genres_df_encoded = anime_Genres_df_encoded.set_index('anime_id')\n",
    "    \n",
    "    pivot_df = pivot_df.merge(anime_Genres_df_encoded, how='inner',left_index=True, right_index=True)\n",
    "    anime_name_pivot_df = data_users_df_merge[['anime_id','Name']].drop_duplicates()\n",
    "    anime_name_pivot_df = anime_name_pivot_df.sort_values('anime_id')\n",
    "    anime_name_pivot_df = anime_name_pivot_df.reset_index().drop(columns = 'index')\n",
    "    \n",
    "    return pivot_df, anime_name_pivot_df"
   ]
  },
  {
   "cell_type": "markdown",
   "id": "4eb729a3",
   "metadata": {},
   "source": [
    "# predict"
   ]
  },
  {
   "cell_type": "code",
   "execution_count": 8,
   "id": "f926e261",
   "metadata": {},
   "outputs": [],
   "source": [
    "def recommendation_10PlusRatings(anime_name, nb_recomendation = 10):\n",
    "    pivot_df, anime_name_pivot_df = process_data('active_users_df_10PlusRatings_partial')\n",
    "    model = get_model(model_path)\n",
    "    index_nb = anime_name_pivot_df.index[anime_name_pivot_df['Name'] == anime_name].tolist()[0]\n",
    "    distances, indices = model.kneighbors(pivot_df.iloc[index_nb,:].values.reshape(1, -1), n_neighbors = nb_recomendation + 1)\n",
    "\n",
    "    prediction = []\n",
    "    for i in range(1, len(distances.flatten())):\n",
    "        prediction.append([pivot_df.index[indices.flatten()[i]],distances.flatten()[i]])\n",
    "    results = {}\n",
    "    for i in range(len(prediction)):\n",
    "        anime_name = anime_name_pivot_df.query(f'anime_id == {prediction[i][0]}').iloc[0].Name\n",
    "        distance = prediction[i][1]\n",
    "        results[f'{anime_name}'] = distance\n",
    "    return results"
   ]
  },
  {
   "cell_type": "code",
   "execution_count": 13,
   "id": "5c29bea8",
   "metadata": {
    "scrolled": true
   },
   "outputs": [],
   "source": [
    "predict_Naruto = recommendation_10PlusRatings('Naruto', 30)"
   ]
  },
  {
   "cell_type": "code",
   "execution_count": 14,
   "id": "e368e63e",
   "metadata": {
    "scrolled": true
   },
   "outputs": [
    {
     "data": {
      "text/plain": [
       "{'Naruto: Shippuuden': 0.18049078542744768,\n",
       " 'Death Note': 0.32724375187989996,\n",
       " 'Bleach': 0.35922338431707146,\n",
       " 'Shingeki no Kyojin': 0.3764965221555553,\n",
       " 'Fullmetal Alchemist: Brotherhood': 0.4092187913883153,\n",
       " 'Code Geass: Hangyaku no Lelouch': 0.4141593159792041,\n",
       " 'Sword Art Online': 0.4145034622526954,\n",
       " 'One Piece': 0.4324693299705893,\n",
       " 'Fairy Tail': 0.43374727465720364,\n",
       " 'One Punch Man': 0.440672137299862,\n",
       " 'Code Geass: Hangyaku no Lelouch R2': 0.44317776537599496,\n",
       " 'Tokyo Ghoul': 0.4478750610328671,\n",
       " 'Boku no Hero Academia': 0.4509773475530082,\n",
       " 'Fullmetal Alchemist': 0.45734048611945144,\n",
       " 'Ao no Exorcist': 0.459692800542125,\n",
       " 'Hunter x Hunter (2011)': 0.4624201558967598,\n",
       " 'Angel Beats!': 0.4655259992943921,\n",
       " 'Dragon Ball Z': 0.4667113626750077,\n",
       " 'Boku no Hero Academia 2nd Season': 0.4783955337192296,\n",
       " 'No Game No Life': 0.4788718820530793,\n",
       " 'Toradora!': 0.4801106307799001,\n",
       " 'Highschool of the Dead': 0.48100086207446635,\n",
       " 'Nanatsu no Taizai': 0.48689829546741004,\n",
       " 'Shingeki no Kyojin Season 2': 0.4915849201936243,\n",
       " 'Dragon Ball': 0.49655748096688745,\n",
       " 'Steins;Gate': 0.49761125098822256,\n",
       " 'Kimi no Na wa.': 0.49816763836642963,\n",
       " 'Mirai Nikki': 0.49899928655264003,\n",
       " 'Noragami': 0.499624470310991,\n",
       " 'Soul Eater': 0.4998431131507832}"
      ]
     },
     "execution_count": 14,
     "metadata": {},
     "output_type": "execute_result"
    }
   ],
   "source": [
    "predict_Naruto"
   ]
  },
  {
   "cell_type": "markdown",
   "id": "ef37a581",
   "metadata": {
    "heading_collapsed": true
   },
   "source": [
    "# Export model.joblib as pickle / sav file"
   ]
  },
  {
   "cell_type": "code",
   "execution_count": 97,
   "id": "a73ed824",
   "metadata": {
    "hidden": true
   },
   "outputs": [],
   "source": [
    "model_joblib = get_model(model_path)"
   ]
  },
  {
   "cell_type": "code",
   "execution_count": 98,
   "id": "e06f6a80",
   "metadata": {
    "hidden": true
   },
   "outputs": [
    {
     "data": {
      "text/plain": [
       "NearestNeighbors(metric='cosine')"
      ]
     },
     "execution_count": 98,
     "metadata": {},
     "output_type": "execute_result"
    }
   ],
   "source": [
    "model_joblib"
   ]
  },
  {
   "cell_type": "code",
   "execution_count": 99,
   "id": "690e08a2",
   "metadata": {
    "hidden": true
   },
   "outputs": [],
   "source": [
    "import pickle"
   ]
  },
  {
   "cell_type": "code",
   "execution_count": 102,
   "id": "72e133fc",
   "metadata": {
    "hidden": true
   },
   "outputs": [],
   "source": [
    "pickle.dump(model_joblib, open('model.sav',\"wb\"))"
   ]
  },
  {
   "cell_type": "code",
   "execution_count": 103,
   "id": "79806a56",
   "metadata": {
    "hidden": true
   },
   "outputs": [
    {
     "name": "stdout",
     "output_type": "stream",
     "text": [
      "FrontEnd_Explo.ipynb  model.sav\r\n"
     ]
    }
   ],
   "source": [
    "ls"
   ]
  },
  {
   "cell_type": "code",
   "execution_count": 104,
   "id": "e4690c9e",
   "metadata": {
    "hidden": true
   },
   "outputs": [
    {
     "data": {
      "text/plain": [
       "'/home/mijka/code/mijkami/AnimeMap_front/notebook'"
      ]
     },
     "execution_count": 104,
     "metadata": {},
     "output_type": "execute_result"
    }
   ],
   "source": [
    "pwd\n"
   ]
  },
  {
   "cell_type": "code",
   "execution_count": null,
   "id": "be37d463",
   "metadata": {
    "hidden": true
   },
   "outputs": [],
   "source": []
  }
 ],
 "metadata": {
  "kernelspec": {
   "display_name": "anime_map",
   "language": "python",
   "name": "anime_map"
  },
  "language_info": {
   "codemirror_mode": {
    "name": "ipython",
    "version": 3
   },
   "file_extension": ".py",
   "mimetype": "text/x-python",
   "name": "python",
   "nbconvert_exporter": "python",
   "pygments_lexer": "ipython3",
   "version": "3.9.6"
  },
  "toc": {
   "base_numbering": 1,
   "nav_menu": {},
   "number_sections": true,
   "sideBar": true,
   "skip_h1_title": false,
   "title_cell": "Table of Contents",
   "title_sidebar": "Contents",
   "toc_cell": false,
   "toc_position": {},
   "toc_section_display": true,
   "toc_window_display": false
  }
 },
 "nbformat": 4,
 "nbformat_minor": 5
}
