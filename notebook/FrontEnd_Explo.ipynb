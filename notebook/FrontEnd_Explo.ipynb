{
 "cells": [
  {
   "cell_type": "markdown",
   "id": "8d268201",
   "metadata": {},
   "source": [
    "Bare minimum for \n",
    "- consumption of model.joblib\n",
    "- export of properly formatted .json"
   ]
  },
  {
   "cell_type": "markdown",
   "id": "3c8348b9",
   "metadata": {},
   "source": [
    "# imports"
   ]
  },
  {
   "cell_type": "code",
   "execution_count": 2,
   "id": "972e3d34",
   "metadata": {},
   "outputs": [],
   "source": [
    "import streamlit as st\n",
    "import requests\n",
    "import numpy as np\n",
    "import pandas as pd"
   ]
  },
  {
   "cell_type": "code",
   "execution_count": 23,
   "id": "770e488d",
   "metadata": {},
   "outputs": [],
   "source": [
    "# needs to run an api from AnimeList_API repo on github\n",
    "url_api ='http://0.0.0.0:8000/predict'"
   ]
  },
  {
   "cell_type": "markdown",
   "id": "4eb729a3",
   "metadata": {},
   "source": [
    "# get and show data from api"
   ]
  },
  {
   "cell_type": "markdown",
   "id": "27cc73d6",
   "metadata": {},
   "source": [
    "## get data "
   ]
  },
  {
   "cell_type": "code",
   "execution_count": 5,
   "id": "a73ed824",
   "metadata": {},
   "outputs": [],
   "source": [
    "anime_input = 'Naruto'\n",
    "predict_size_input = 10\n",
    "model_input = 'notation'\n",
    "params = {\n",
    "    'anime' : anime_input,\n",
    "    'length' : predict_size_input,\n",
    "    'model' : model_input\n",
    "}\n",
    "\n",
    "response = requests.get(url_api, params=params).json()\n",
    "prediction = response['prediction']"
   ]
  },
  {
   "cell_type": "code",
   "execution_count": 6,
   "id": "e06f6a80",
   "metadata": {},
   "outputs": [
    {
     "data": {
      "text/plain": [
       "{'Naruto: Shippuuden': 0.16479568859309957,\n",
       " 'Death Note': 0.28978191191199754,\n",
       " 'Bleach': 0.31862997487679345,\n",
       " 'Shingeki no Kyojin': 0.3200006084059118,\n",
       " 'Fullmetal Alchemist: Brotherhood': 0.34244184214998474,\n",
       " 'Sword Art Online': 0.3471770420949094,\n",
       " 'Code Geass: Hangyaku no Lelouch': 0.36965757726627224,\n",
       " 'One Punch Man': 0.37465993577686285,\n",
       " 'Tokyo Ghoul': 0.3842327761099542,\n",
       " 'Fairy Tail': 0.38772256888731504}"
      ]
     },
     "execution_count": 6,
     "metadata": {},
     "output_type": "execute_result"
    }
   ],
   "source": [
    "prediction"
   ]
  },
  {
   "cell_type": "code",
   "execution_count": 10,
   "id": "2f4f69a1",
   "metadata": {},
   "outputs": [
    {
     "data": {
      "text/plain": [
       "dict"
      ]
     },
     "execution_count": 10,
     "metadata": {},
     "output_type": "execute_result"
    }
   ],
   "source": [
    "type(prediction)"
   ]
  },
  {
   "cell_type": "markdown",
   "id": "7a8dfe7c",
   "metadata": {},
   "source": [
    "## convert dict from json to list"
   ]
  },
  {
   "cell_type": "code",
   "execution_count": 17,
   "id": "37f69d22",
   "metadata": {},
   "outputs": [],
   "source": [
    "def convert_dict_to_list(dict):\n",
    "    temp = []\n",
    "    dictList = []\n",
    "    for key, value in dict.items():\n",
    "        temp = [key,value]\n",
    "        dictList.append(temp)\n",
    "    return dictList"
   ]
  },
  {
   "cell_type": "code",
   "execution_count": 18,
   "id": "b2c74e53",
   "metadata": {},
   "outputs": [],
   "source": [
    "prediction_convert = convert_dict_to_list(prediction)"
   ]
  },
  {
   "cell_type": "code",
   "execution_count": 21,
   "id": "0e5a3ce8",
   "metadata": {},
   "outputs": [
    {
     "data": {
      "text/plain": [
       "[['Naruto: Shippuuden', 0.16479568859309957],\n",
       " ['Death Note', 0.28978191191199754],\n",
       " ['Bleach', 0.31862997487679345],\n",
       " ['Shingeki no Kyojin', 0.3200006084059118],\n",
       " ['Fullmetal Alchemist: Brotherhood', 0.34244184214998474],\n",
       " ['Sword Art Online', 0.3471770420949094],\n",
       " ['Code Geass: Hangyaku no Lelouch', 0.36965757726627224],\n",
       " ['One Punch Man', 0.37465993577686285],\n",
       " ['Tokyo Ghoul', 0.3842327761099542],\n",
       " ['Fairy Tail', 0.38772256888731504]]"
      ]
     },
     "execution_count": 21,
     "metadata": {},
     "output_type": "execute_result"
    }
   ],
   "source": [
    "prediction_convert"
   ]
  },
  {
   "cell_type": "markdown",
   "id": "11440708",
   "metadata": {},
   "source": [
    "## print list properly"
   ]
  },
  {
   "cell_type": "code",
   "execution_count": 28,
   "id": "1adc2b71",
   "metadata": {},
   "outputs": [
    {
     "data": {
      "text/plain": [
       "'Naruto: Shippuuden'"
      ]
     },
     "execution_count": 28,
     "metadata": {},
     "output_type": "execute_result"
    }
   ],
   "source": [
    "prediction_convert[0][0]"
   ]
  },
  {
   "cell_type": "code",
   "execution_count": 31,
   "id": "95a126b7",
   "metadata": {},
   "outputs": [
    {
     "data": {
      "text/plain": [
       "'Death Note'"
      ]
     },
     "execution_count": 31,
     "metadata": {},
     "output_type": "execute_result"
    }
   ],
   "source": [
    "prediction_convert[1][0]"
   ]
  },
  {
   "cell_type": "code",
   "execution_count": 34,
   "id": "2a0527b6",
   "metadata": {},
   "outputs": [
    {
     "ename": "SyntaxError",
     "evalue": "Missing parentheses in call to 'print'. Did you mean print(prediction_convert[x], end=\" \")? (859047408.py, line 2)",
     "output_type": "error",
     "traceback": [
      "\u001b[0;36m  File \u001b[0;32m\"/tmp/ipykernel_38555/859047408.py\"\u001b[0;36m, line \u001b[0;32m2\u001b[0m\n\u001b[0;31m    print prediction_convert[x],\u001b[0m\n\u001b[0m          ^\u001b[0m\n\u001b[0;31mSyntaxError\u001b[0m\u001b[0;31m:\u001b[0m Missing parentheses in call to 'print'. Did you mean print(prediction_convert[x], end=\" \")?\n"
     ]
    }
   ],
   "source": [
    "for x in range(len(prediction_convert)):\n",
    "    print prediction_convert[x],"
   ]
  },
  {
   "cell_type": "code",
   "execution_count": 37,
   "id": "e8fe3106",
   "metadata": {},
   "outputs": [
    {
     "name": "stdout",
     "output_type": "stream",
     "text": [
      "['Naruto: Shippuuden', 0.16479568859309957] ['Death Note', 0.28978191191199754] ['Bleach', 0.31862997487679345] ['Shingeki no Kyojin', 0.3200006084059118] ['Fullmetal Alchemist: Brotherhood', 0.34244184214998474] ['Sword Art Online', 0.3471770420949094] ['Code Geass: Hangyaku no Lelouch', 0.36965757726627224] ['One Punch Man', 0.37465993577686285] ['Tokyo Ghoul', 0.3842327761099542] ['Fairy Tail', 0.38772256888731504]\n"
     ]
    }
   ],
   "source": [
    "print(' '.join(map(str, prediction_convert))) "
   ]
  },
  {
   "cell_type": "code",
   "execution_count": 40,
   "id": "02594707",
   "metadata": {},
   "outputs": [
    {
     "ename": "AttributeError",
     "evalue": "'dict' object has no attribute 'index'",
     "output_type": "error",
     "traceback": [
      "\u001b[0;31m---------------------------------------------------------------------------\u001b[0m",
      "\u001b[0;31mAttributeError\u001b[0m                            Traceback (most recent call last)",
      "\u001b[0;32m/tmp/ipykernel_38555/490543220.py\u001b[0m in \u001b[0;36m<module>\u001b[0;34m\u001b[0m\n\u001b[0;32m----> 1\u001b[0;31m \u001b[0mprint\u001b[0m\u001b[0;34m(\u001b[0m\u001b[0mprediction\u001b[0m\u001b[0;34m.\u001b[0m\u001b[0mindex\u001b[0m\u001b[0;34m.\u001b[0m\u001b[0mtolist\u001b[0m\u001b[0;34m(\u001b[0m\u001b[0;34m)\u001b[0m\u001b[0;34m)\u001b[0m\u001b[0;34m\u001b[0m\u001b[0;34m\u001b[0m\u001b[0m\n\u001b[0m",
      "\u001b[0;31mAttributeError\u001b[0m: 'dict' object has no attribute 'index'"
     ]
    }
   ],
   "source": [
    "print(prediction.index.tolist())"
   ]
  },
  {
   "cell_type": "code",
   "execution_count": 62,
   "id": "d0b75595",
   "metadata": {
    "scrolled": true
   },
   "outputs": [
    {
     "ename": "TypeError",
     "evalue": "'list' object cannot be interpreted as an integer",
     "output_type": "error",
     "traceback": [
      "\u001b[0;31m---------------------------------------------------------------------------\u001b[0m",
      "\u001b[0;31mTypeError\u001b[0m                                 Traceback (most recent call last)",
      "\u001b[0;32m/tmp/ipykernel_38555/2972921836.py\u001b[0m in \u001b[0;36m<module>\u001b[0;34m\u001b[0m\n\u001b[0;32m----> 1\u001b[0;31m \u001b[0mprint\u001b[0m\u001b[0;34m(\u001b[0m\u001b[0mprediction_convert\u001b[0m\u001b[0;34m[\u001b[0m\u001b[0mi\u001b[0m\u001b[0;34m]\u001b[0m \u001b[0;32mfor\u001b[0m \u001b[0mi\u001b[0m \u001b[0;32min\u001b[0m \u001b[0mrange\u001b[0m\u001b[0;34m(\u001b[0m\u001b[0;36m0\u001b[0m\u001b[0;34m,\u001b[0m \u001b[0mprediction_convert\u001b[0m\u001b[0;34m)\u001b[0m\u001b[0;34m)\u001b[0m\u001b[0;34m\u001b[0m\u001b[0;34m\u001b[0m\u001b[0m\n\u001b[0m",
      "\u001b[0;31mTypeError\u001b[0m: 'list' object cannot be interpreted as an integer"
     ]
    }
   ],
   "source": [
    "print(prediction_convert[i] for i in range(0, prediction_convert))"
   ]
  },
  {
   "cell_type": "code",
   "execution_count": 71,
   "id": "50685455",
   "metadata": {},
   "outputs": [
    {
     "name": "stdout",
     "output_type": "stream",
     "text": [
      "Naruto: Shippuuden\n",
      "Death Note\n",
      "Bleach\n",
      "Shingeki no Kyojin\n",
      "Fullmetal Alchemist: Brotherhood\n",
      "Sword Art Online\n",
      "Code Geass: Hangyaku no Lelouch\n",
      "One Punch Man\n",
      "Tokyo Ghoul\n",
      "Fairy Tail\n"
     ]
    }
   ],
   "source": [
    "for i in range(len(prediction_convert)):\n",
    "    print(prediction_convert[i][0])"
   ]
  },
  {
   "cell_type": "code",
   "execution_count": 87,
   "id": "7e5bd2e8",
   "metadata": {},
   "outputs": [],
   "source": [
    "prediction_list_names = [prediction_convert[i][0] for i in range(len(prediction_convert))]"
   ]
  },
  {
   "cell_type": "code",
   "execution_count": 88,
   "id": "bee47041",
   "metadata": {},
   "outputs": [
    {
     "data": {
      "text/plain": [
       "['Naruto: Shippuuden',\n",
       " 'Death Note',\n",
       " 'Bleach',\n",
       " 'Shingeki no Kyojin',\n",
       " 'Fullmetal Alchemist: Brotherhood',\n",
       " 'Sword Art Online',\n",
       " 'Code Geass: Hangyaku no Lelouch',\n",
       " 'One Punch Man',\n",
       " 'Tokyo Ghoul',\n",
       " 'Fairy Tail']"
      ]
     },
     "execution_count": 88,
     "metadata": {},
     "output_type": "execute_result"
    }
   ],
   "source": [
    "prediction_list_names"
   ]
  },
  {
   "cell_type": "code",
   "execution_count": null,
   "id": "fa448b18",
   "metadata": {},
   "outputs": [],
   "source": [
    "# print list elements\n",
    "# https://stackoverflow.com/questions/15769246/pythonic-way-to-print-list-items"
   ]
  },
  {
   "cell_type": "code",
   "execution_count": 89,
   "id": "78d3d732",
   "metadata": {},
   "outputs": [
    {
     "name": "stdout",
     "output_type": "stream",
     "text": [
      "Naruto: Shippuuden\n",
      "Death Note\n",
      "Bleach\n",
      "Shingeki no Kyojin\n",
      "Fullmetal Alchemist: Brotherhood\n",
      "Sword Art Online\n",
      "Code Geass: Hangyaku no Lelouch\n",
      "One Punch Man\n",
      "Tokyo Ghoul\n",
      "Fairy Tail\n"
     ]
    }
   ],
   "source": [
    "print(*prediction_list_names, sep='\\n')"
   ]
  },
  {
   "cell_type": "code",
   "execution_count": 90,
   "id": "2cebe159",
   "metadata": {},
   "outputs": [
    {
     "name": "stdout",
     "output_type": "stream",
     "text": [
      "Naruto: Shippuuden\n",
      "Death Note\n",
      "Bleach\n",
      "Shingeki no Kyojin\n",
      "Fullmetal Alchemist: Brotherhood\n",
      "Sword Art Online\n",
      "Code Geass: Hangyaku no Lelouch\n",
      "One Punch Man\n",
      "Tokyo Ghoul\n",
      "Fairy Tail\n"
     ]
    }
   ],
   "source": [
    "for p in prediction_list_names: print(p)"
   ]
  },
  {
   "cell_type": "code",
   "execution_count": 94,
   "id": "8f7037ed",
   "metadata": {},
   "outputs": [
    {
     "name": "stdout",
     "output_type": "stream",
     "text": [
      "Naruto: Shippuuden\n",
      "Death Note\n",
      "Bleach\n",
      "Shingeki no Kyojin\n",
      "Fullmetal Alchemist: Brotherhood\n",
      "Sword Art Online\n",
      "Code Geass: Hangyaku no Lelouch\n",
      "One Punch Man\n",
      "Tokyo Ghoul\n",
      "Fairy Tail\n"
     ]
    }
   ],
   "source": [
    "print('\\n'.join(str(p) for p in prediction_list_names))"
   ]
  },
  {
   "cell_type": "code",
   "execution_count": 95,
   "id": "8421c75a",
   "metadata": {},
   "outputs": [
    {
     "data": {
      "text/plain": [
       "'Naruto: Shippuuden\\nDeath Note\\nBleach\\nShingeki no Kyojin\\nFullmetal Alchemist: Brotherhood\\nSword Art Online\\nCode Geass: Hangyaku no Lelouch\\nOne Punch Man\\nTokyo Ghoul\\nFairy Tail'"
      ]
     },
     "execution_count": 95,
     "metadata": {},
     "output_type": "execute_result"
    }
   ],
   "source": [
    "'\\n'.join(str(p) for p in prediction_list_names)"
   ]
  },
  {
   "cell_type": "code",
   "execution_count": 97,
   "id": "f0ed04f1",
   "metadata": {},
   "outputs": [],
   "source": [
    "prediction_list_names_df = pd.DataFrame(prediction_list_names)"
   ]
  },
  {
   "cell_type": "code",
   "execution_count": 98,
   "id": "3184e729",
   "metadata": {},
   "outputs": [
    {
     "data": {
      "text/html": [
       "<div>\n",
       "<style scoped>\n",
       "    .dataframe tbody tr th:only-of-type {\n",
       "        vertical-align: middle;\n",
       "    }\n",
       "\n",
       "    .dataframe tbody tr th {\n",
       "        vertical-align: top;\n",
       "    }\n",
       "\n",
       "    .dataframe thead th {\n",
       "        text-align: right;\n",
       "    }\n",
       "</style>\n",
       "<table border=\"1\" class=\"dataframe\">\n",
       "  <thead>\n",
       "    <tr style=\"text-align: right;\">\n",
       "      <th></th>\n",
       "      <th>0</th>\n",
       "    </tr>\n",
       "  </thead>\n",
       "  <tbody>\n",
       "    <tr>\n",
       "      <th>0</th>\n",
       "      <td>Naruto: Shippuuden</td>\n",
       "    </tr>\n",
       "    <tr>\n",
       "      <th>1</th>\n",
       "      <td>Death Note</td>\n",
       "    </tr>\n",
       "    <tr>\n",
       "      <th>2</th>\n",
       "      <td>Bleach</td>\n",
       "    </tr>\n",
       "    <tr>\n",
       "      <th>3</th>\n",
       "      <td>Shingeki no Kyojin</td>\n",
       "    </tr>\n",
       "    <tr>\n",
       "      <th>4</th>\n",
       "      <td>Fullmetal Alchemist: Brotherhood</td>\n",
       "    </tr>\n",
       "    <tr>\n",
       "      <th>5</th>\n",
       "      <td>Sword Art Online</td>\n",
       "    </tr>\n",
       "    <tr>\n",
       "      <th>6</th>\n",
       "      <td>Code Geass: Hangyaku no Lelouch</td>\n",
       "    </tr>\n",
       "    <tr>\n",
       "      <th>7</th>\n",
       "      <td>One Punch Man</td>\n",
       "    </tr>\n",
       "    <tr>\n",
       "      <th>8</th>\n",
       "      <td>Tokyo Ghoul</td>\n",
       "    </tr>\n",
       "    <tr>\n",
       "      <th>9</th>\n",
       "      <td>Fairy Tail</td>\n",
       "    </tr>\n",
       "  </tbody>\n",
       "</table>\n",
       "</div>"
      ],
      "text/plain": [
       "                                  0\n",
       "0                Naruto: Shippuuden\n",
       "1                        Death Note\n",
       "2                            Bleach\n",
       "3                Shingeki no Kyojin\n",
       "4  Fullmetal Alchemist: Brotherhood\n",
       "5                  Sword Art Online\n",
       "6   Code Geass: Hangyaku no Lelouch\n",
       "7                     One Punch Man\n",
       "8                       Tokyo Ghoul\n",
       "9                        Fairy Tail"
      ]
     },
     "execution_count": 98,
     "metadata": {},
     "output_type": "execute_result"
    }
   ],
   "source": [
    "prediction_list_names_df"
   ]
  },
  {
   "cell_type": "code",
   "execution_count": 101,
   "id": "2eecb3cd",
   "metadata": {},
   "outputs": [
    {
     "data": {
      "text/plain": [
       "[0, 1, 2, 3, 4, 5, 6, 7, 8, 9]"
      ]
     },
     "execution_count": 101,
     "metadata": {},
     "output_type": "execute_result"
    }
   ],
   "source": [
    "prediction_list_names_df.index.tolist()"
   ]
  },
  {
   "cell_type": "code",
   "execution_count": 104,
   "id": "7d5331b0",
   "metadata": {},
   "outputs": [
    {
     "name": "stdout",
     "output_type": "stream",
     "text": [
      "- Naruto: Shippuuden\n",
      "- Death Note\n",
      "- Bleach\n",
      "- Shingeki no Kyojin\n",
      "- Fullmetal Alchemist: Brotherhood\n",
      "- Sword Art Online\n",
      "- Code Geass: Hangyaku no Lelouch\n",
      "- One Punch Man\n",
      "- Tokyo Ghoul\n",
      "- Fairy Tail\n"
     ]
    }
   ],
   "source": [
    "for row in prediction_list_names:\n",
    "    print(\"- \" + row)"
   ]
  },
  {
   "cell_type": "code",
   "execution_count": 99,
   "id": "1f3b6d41",
   "metadata": {},
   "outputs": [
    {
     "ename": "NameError",
     "evalue": "name 'df' is not defined",
     "output_type": "error",
     "traceback": [
      "\u001b[0;31m---------------------------------------------------------------------------\u001b[0m",
      "\u001b[0;31mNameError\u001b[0m                                 Traceback (most recent call last)",
      "\u001b[0;32m/tmp/ipykernel_38555/2286447974.py\u001b[0m in \u001b[0;36m<module>\u001b[0;34m\u001b[0m\n\u001b[0;32m----> 1\u001b[0;31m \u001b[0mst\u001b[0m\u001b[0;34m.\u001b[0m\u001b[0mmarkdown\u001b[0m\u001b[0;34m(\u001b[0m\u001b[0mdf\u001b[0m\u001b[0;34m.\u001b[0m\u001b[0mindex\u001b[0m\u001b[0;34m.\u001b[0m\u001b[0mtolist\u001b[0m\u001b[0;34m(\u001b[0m\u001b[0;34m)\u001b[0m\u001b[0;34m)\u001b[0m\u001b[0;34m\u001b[0m\u001b[0;34m\u001b[0m\u001b[0m\n\u001b[0m",
      "\u001b[0;31mNameError\u001b[0m: name 'df' is not defined"
     ]
    }
   ],
   "source": [
    "\n",
    "st.markdown(df.index.tolist())"
   ]
  },
  {
   "cell_type": "code",
   "execution_count": null,
   "id": "1c3e40fd",
   "metadata": {},
   "outputs": [],
   "source": []
  },
  {
   "cell_type": "code",
   "execution_count": 76,
   "id": "ad996b98",
   "metadata": {},
   "outputs": [],
   "source": [
    "def genre_to_anime(genre):\n",
    "    anime_output = \"\"\n",
    "    if genre == \"Battle Shounen\":\n",
    "        anime_output = \"Fullmetal Alchemist: Brotherhood\"\n",
    "    elif genre == \"Drama\":\n",
    "        anime_output = \"Kimi no Na wa.\"\n",
    "    elif genre == \"Romance\":\n",
    "        anime_output = \"Toradora\"\n",
    "    elif genre == \"Fantasy\":\n",
    "        anime_output = \"Little Witch Academia\"  \n",
    "    elif genre == \"Science-Fiction\":\n",
    "        anime_output = \"Cowboy Bebop\"   \n",
    "    elif genre == \"Robots\":\n",
    "        anime_output = \"Neon Genesis Evangelion\"   \n",
    "    elif genre == \"Slice of Life\":\n",
    "        anime_output = \"Aria the Animation\" \n",
    "\n",
    "    return anime_output"
   ]
  },
  {
   "cell_type": "code",
   "execution_count": 78,
   "id": "2e1d64af",
   "metadata": {},
   "outputs": [
    {
     "data": {
      "text/plain": [
       "'Cowboy Bebop'"
      ]
     },
     "execution_count": 78,
     "metadata": {},
     "output_type": "execute_result"
    }
   ],
   "source": [
    "genre_to_anime(\"Science-Fiction\")"
   ]
  },
  {
   "cell_type": "markdown",
   "id": "d8684280",
   "metadata": {},
   "source": [
    "# Work on autocomplete form"
   ]
  },
  {
   "cell_type": "code",
   "execution_count": 4,
   "id": "faf7536e",
   "metadata": {},
   "outputs": [],
   "source": [
    "# get anime names information\n",
    "anime_names = pd.read_csv(\"../data/anime_map_data_animelist_100plus_PG_anime_name_pivot_df.csv\")"
   ]
  },
  {
   "cell_type": "code",
   "execution_count": 9,
   "id": "640f69f1",
   "metadata": {},
   "outputs": [
    {
     "data": {
      "text/plain": [
       "0                                          Cowboy Bebop\n",
       "1                       Cowboy Bebop: Tengoku no Tobira\n",
       "2                                                Trigun\n",
       "3                                    Witch Hunter Robin\n",
       "4                                        Bouken Ou Beet\n",
       "                              ...                      \n",
       "11043                     Kimetsu Gakuen: Valentine-hen\n",
       "11044                                         Heikousen\n",
       "11045      Nu Wushen de Canzhuo Spring Festival Special\n",
       "11046    Yakusoku no Neverland 2nd Season: Michishirube\n",
       "11047                               SK∞: Crazy Rock Jam\n",
       "Name: Name, Length: 11048, dtype: object"
      ]
     },
     "execution_count": 9,
     "metadata": {},
     "output_type": "execute_result"
    }
   ],
   "source": [
    "anime_names['Name']"
   ]
  },
  {
   "cell_type": "code",
   "execution_count": 8,
   "id": "3da6e704",
   "metadata": {},
   "outputs": [
    {
     "data": {
      "text/html": [
       "<div>\n",
       "<style scoped>\n",
       "    .dataframe tbody tr th:only-of-type {\n",
       "        vertical-align: middle;\n",
       "    }\n",
       "\n",
       "    .dataframe tbody tr th {\n",
       "        vertical-align: top;\n",
       "    }\n",
       "\n",
       "    .dataframe thead th {\n",
       "        text-align: right;\n",
       "    }\n",
       "</style>\n",
       "<table border=\"1\" class=\"dataframe\">\n",
       "  <thead>\n",
       "    <tr style=\"text-align: right;\">\n",
       "      <th></th>\n",
       "      <th>anime_id</th>\n",
       "      <th>Name</th>\n",
       "    </tr>\n",
       "  </thead>\n",
       "  <tbody>\n",
       "    <tr>\n",
       "      <th>0</th>\n",
       "      <td>1</td>\n",
       "      <td>Cowboy Bebop</td>\n",
       "    </tr>\n",
       "    <tr>\n",
       "      <th>1</th>\n",
       "      <td>5</td>\n",
       "      <td>Cowboy Bebop: Tengoku no Tobira</td>\n",
       "    </tr>\n",
       "    <tr>\n",
       "      <th>2</th>\n",
       "      <td>6</td>\n",
       "      <td>Trigun</td>\n",
       "    </tr>\n",
       "    <tr>\n",
       "      <th>3</th>\n",
       "      <td>7</td>\n",
       "      <td>Witch Hunter Robin</td>\n",
       "    </tr>\n",
       "    <tr>\n",
       "      <th>4</th>\n",
       "      <td>8</td>\n",
       "      <td>Bouken Ou Beet</td>\n",
       "    </tr>\n",
       "    <tr>\n",
       "      <th>...</th>\n",
       "      <td>...</td>\n",
       "      <td>...</td>\n",
       "    </tr>\n",
       "    <tr>\n",
       "      <th>11043</th>\n",
       "      <td>47398</td>\n",
       "      <td>Kimetsu Gakuen: Valentine-hen</td>\n",
       "    </tr>\n",
       "    <tr>\n",
       "      <th>11044</th>\n",
       "      <td>47402</td>\n",
       "      <td>Heikousen</td>\n",
       "    </tr>\n",
       "    <tr>\n",
       "      <th>11045</th>\n",
       "      <td>47614</td>\n",
       "      <td>Nu Wushen de Canzhuo Spring Festival Special</td>\n",
       "    </tr>\n",
       "    <tr>\n",
       "      <th>11046</th>\n",
       "      <td>47616</td>\n",
       "      <td>Yakusoku no Neverland 2nd Season: Michishirube</td>\n",
       "    </tr>\n",
       "    <tr>\n",
       "      <th>11047</th>\n",
       "      <td>48456</td>\n",
       "      <td>SK∞: Crazy Rock Jam</td>\n",
       "    </tr>\n",
       "  </tbody>\n",
       "</table>\n",
       "<p>11048 rows × 2 columns</p>\n",
       "</div>"
      ],
      "text/plain": [
       "       anime_id                                            Name\n",
       "0             1                                    Cowboy Bebop\n",
       "1             5                 Cowboy Bebop: Tengoku no Tobira\n",
       "2             6                                          Trigun\n",
       "3             7                              Witch Hunter Robin\n",
       "4             8                                  Bouken Ou Beet\n",
       "...         ...                                             ...\n",
       "11043     47398                   Kimetsu Gakuen: Valentine-hen\n",
       "11044     47402                                       Heikousen\n",
       "11045     47614    Nu Wushen de Canzhuo Spring Festival Special\n",
       "11046     47616  Yakusoku no Neverland 2nd Season: Michishirube\n",
       "11047     48456                             SK∞: Crazy Rock Jam\n",
       "\n",
       "[11048 rows x 2 columns]"
      ]
     },
     "execution_count": 8,
     "metadata": {},
     "output_type": "execute_result"
    }
   ],
   "source": [
    "anime_names"
   ]
  },
  {
   "cell_type": "code",
   "execution_count": 10,
   "id": "53098480",
   "metadata": {},
   "outputs": [],
   "source": [
    "anime_names_sample = anime_names.head(10)"
   ]
  },
  {
   "cell_type": "code",
   "execution_count": 11,
   "id": "05238136",
   "metadata": {},
   "outputs": [
    {
     "data": {
      "text/html": [
       "<div>\n",
       "<style scoped>\n",
       "    .dataframe tbody tr th:only-of-type {\n",
       "        vertical-align: middle;\n",
       "    }\n",
       "\n",
       "    .dataframe tbody tr th {\n",
       "        vertical-align: top;\n",
       "    }\n",
       "\n",
       "    .dataframe thead th {\n",
       "        text-align: right;\n",
       "    }\n",
       "</style>\n",
       "<table border=\"1\" class=\"dataframe\">\n",
       "  <thead>\n",
       "    <tr style=\"text-align: right;\">\n",
       "      <th></th>\n",
       "      <th>anime_id</th>\n",
       "      <th>Name</th>\n",
       "    </tr>\n",
       "  </thead>\n",
       "  <tbody>\n",
       "    <tr>\n",
       "      <th>0</th>\n",
       "      <td>1</td>\n",
       "      <td>Cowboy Bebop</td>\n",
       "    </tr>\n",
       "    <tr>\n",
       "      <th>1</th>\n",
       "      <td>5</td>\n",
       "      <td>Cowboy Bebop: Tengoku no Tobira</td>\n",
       "    </tr>\n",
       "    <tr>\n",
       "      <th>2</th>\n",
       "      <td>6</td>\n",
       "      <td>Trigun</td>\n",
       "    </tr>\n",
       "    <tr>\n",
       "      <th>3</th>\n",
       "      <td>7</td>\n",
       "      <td>Witch Hunter Robin</td>\n",
       "    </tr>\n",
       "    <tr>\n",
       "      <th>4</th>\n",
       "      <td>8</td>\n",
       "      <td>Bouken Ou Beet</td>\n",
       "    </tr>\n",
       "    <tr>\n",
       "      <th>5</th>\n",
       "      <td>15</td>\n",
       "      <td>Eyeshield 21</td>\n",
       "    </tr>\n",
       "    <tr>\n",
       "      <th>6</th>\n",
       "      <td>16</td>\n",
       "      <td>Hachimitsu to Clover</td>\n",
       "    </tr>\n",
       "    <tr>\n",
       "      <th>7</th>\n",
       "      <td>17</td>\n",
       "      <td>Hungry Heart: Wild Striker</td>\n",
       "    </tr>\n",
       "    <tr>\n",
       "      <th>8</th>\n",
       "      <td>18</td>\n",
       "      <td>Initial D Fourth Stage</td>\n",
       "    </tr>\n",
       "    <tr>\n",
       "      <th>9</th>\n",
       "      <td>19</td>\n",
       "      <td>Monster</td>\n",
       "    </tr>\n",
       "  </tbody>\n",
       "</table>\n",
       "</div>"
      ],
      "text/plain": [
       "   anime_id                             Name\n",
       "0         1                     Cowboy Bebop\n",
       "1         5  Cowboy Bebop: Tengoku no Tobira\n",
       "2         6                           Trigun\n",
       "3         7               Witch Hunter Robin\n",
       "4         8                   Bouken Ou Beet\n",
       "5        15                     Eyeshield 21\n",
       "6        16             Hachimitsu to Clover\n",
       "7        17       Hungry Heart: Wild Striker\n",
       "8        18           Initial D Fourth Stage\n",
       "9        19                          Monster"
      ]
     },
     "execution_count": 11,
     "metadata": {},
     "output_type": "execute_result"
    }
   ],
   "source": [
    "anime_names_sample"
   ]
  },
  {
   "cell_type": "code",
   "execution_count": 12,
   "id": "9c54d117",
   "metadata": {},
   "outputs": [],
   "source": [
    "anime_names_sample.to_csv('../data/anime_names_sample.csv', index=False)"
   ]
  },
  {
   "cell_type": "code",
   "execution_count": 13,
   "id": "38dcda2c",
   "metadata": {},
   "outputs": [],
   "source": [
    "anime_names_sample_import = pd.read_csv(\"../data/anime_names_sample.csv\")"
   ]
  },
  {
   "cell_type": "code",
   "execution_count": 14,
   "id": "05c23116",
   "metadata": {},
   "outputs": [
    {
     "data": {
      "text/html": [
       "<div>\n",
       "<style scoped>\n",
       "    .dataframe tbody tr th:only-of-type {\n",
       "        vertical-align: middle;\n",
       "    }\n",
       "\n",
       "    .dataframe tbody tr th {\n",
       "        vertical-align: top;\n",
       "    }\n",
       "\n",
       "    .dataframe thead th {\n",
       "        text-align: right;\n",
       "    }\n",
       "</style>\n",
       "<table border=\"1\" class=\"dataframe\">\n",
       "  <thead>\n",
       "    <tr style=\"text-align: right;\">\n",
       "      <th></th>\n",
       "      <th>anime_id</th>\n",
       "      <th>Name</th>\n",
       "    </tr>\n",
       "  </thead>\n",
       "  <tbody>\n",
       "    <tr>\n",
       "      <th>0</th>\n",
       "      <td>1</td>\n",
       "      <td>Cowboy Bebop</td>\n",
       "    </tr>\n",
       "    <tr>\n",
       "      <th>1</th>\n",
       "      <td>5</td>\n",
       "      <td>Cowboy Bebop: Tengoku no Tobira</td>\n",
       "    </tr>\n",
       "    <tr>\n",
       "      <th>2</th>\n",
       "      <td>6</td>\n",
       "      <td>Trigun</td>\n",
       "    </tr>\n",
       "    <tr>\n",
       "      <th>3</th>\n",
       "      <td>7</td>\n",
       "      <td>Witch Hunter Robin</td>\n",
       "    </tr>\n",
       "    <tr>\n",
       "      <th>4</th>\n",
       "      <td>8</td>\n",
       "      <td>Bouken Ou Beet</td>\n",
       "    </tr>\n",
       "    <tr>\n",
       "      <th>5</th>\n",
       "      <td>15</td>\n",
       "      <td>Eyeshield 21</td>\n",
       "    </tr>\n",
       "    <tr>\n",
       "      <th>6</th>\n",
       "      <td>16</td>\n",
       "      <td>Hachimitsu to Clover</td>\n",
       "    </tr>\n",
       "    <tr>\n",
       "      <th>7</th>\n",
       "      <td>17</td>\n",
       "      <td>Hungry Heart: Wild Striker</td>\n",
       "    </tr>\n",
       "    <tr>\n",
       "      <th>8</th>\n",
       "      <td>18</td>\n",
       "      <td>Initial D Fourth Stage</td>\n",
       "    </tr>\n",
       "    <tr>\n",
       "      <th>9</th>\n",
       "      <td>19</td>\n",
       "      <td>Monster</td>\n",
       "    </tr>\n",
       "  </tbody>\n",
       "</table>\n",
       "</div>"
      ],
      "text/plain": [
       "   anime_id                             Name\n",
       "0         1                     Cowboy Bebop\n",
       "1         5  Cowboy Bebop: Tengoku no Tobira\n",
       "2         6                           Trigun\n",
       "3         7               Witch Hunter Robin\n",
       "4         8                   Bouken Ou Beet\n",
       "5        15                     Eyeshield 21\n",
       "6        16             Hachimitsu to Clover\n",
       "7        17       Hungry Heart: Wild Striker\n",
       "8        18           Initial D Fourth Stage\n",
       "9        19                          Monster"
      ]
     },
     "execution_count": 14,
     "metadata": {},
     "output_type": "execute_result"
    }
   ],
   "source": [
    "anime_names_sample_import"
   ]
  },
  {
   "cell_type": "code",
   "execution_count": 15,
   "id": "851367e0",
   "metadata": {},
   "outputs": [],
   "source": [
    "anime_names_list = anime_names_sample[\"Name\"].tolist()"
   ]
  },
  {
   "cell_type": "code",
   "execution_count": 16,
   "id": "e5249cf1",
   "metadata": {},
   "outputs": [
    {
     "data": {
      "text/plain": [
       "['Cowboy Bebop',\n",
       " 'Cowboy Bebop: Tengoku no Tobira',\n",
       " 'Trigun',\n",
       " 'Witch Hunter Robin',\n",
       " 'Bouken Ou Beet',\n",
       " 'Eyeshield 21',\n",
       " 'Hachimitsu to Clover',\n",
       " 'Hungry Heart: Wild Striker',\n",
       " 'Initial D Fourth Stage',\n",
       " 'Monster']"
      ]
     },
     "execution_count": 16,
     "metadata": {},
     "output_type": "execute_result"
    }
   ],
   "source": [
    "anime_names_list"
   ]
  },
  {
   "cell_type": "code",
   "execution_count": 74,
   "id": "39a23688",
   "metadata": {},
   "outputs": [
    {
     "name": "stdout",
     "output_type": "stream",
     "text": [
      "['Genshi Shounen Ryuu']\n"
     ]
    }
   ],
   "source": [
    "keywords_input = ['Genshi Shounen Ryuu']\n",
    "if keywords_input == '':\n",
    "    print('Make sure to hit \"Enter\" after finding your anime name accordingly to the existing names')\n",
    "else:\n",
    "    print(keywords_input)"
   ]
  },
  {
   "cell_type": "code",
   "execution_count": 68,
   "id": "ced1a45c",
   "metadata": {},
   "outputs": [
    {
     "data": {
      "text/plain": [
       "'Genshi shounen ryuu'"
      ]
     },
     "execution_count": 68,
     "metadata": {},
     "output_type": "execute_result"
    }
   ],
   "source": [
    "keywords_input[0].capitalize()"
   ]
  },
  {
   "cell_type": "code",
   "execution_count": 63,
   "id": "8178e087",
   "metadata": {},
   "outputs": [
    {
     "data": {
      "text/plain": [
       "'g'"
      ]
     },
     "execution_count": 63,
     "metadata": {},
     "output_type": "execute_result"
    }
   ],
   "source": [
    "keywords_input[0]"
   ]
  },
  {
   "cell_type": "code",
   "execution_count": 75,
   "id": "cad0082c",
   "metadata": {},
   "outputs": [],
   "source": [
    "keywords_input_word = keywords_input[0].replace(keywords_input[0][0], keywords_input[0][0].upper(), 1)\n",
    "keywords_input = [keywords_input_word]"
   ]
  },
  {
   "cell_type": "code",
   "execution_count": 76,
   "id": "8ae13451",
   "metadata": {},
   "outputs": [
    {
     "data": {
      "text/plain": [
       "['Genshi Shounen Ryuu']"
      ]
     },
     "execution_count": 76,
     "metadata": {},
     "output_type": "execute_result"
    }
   ],
   "source": [
    "keywords_input"
   ]
  },
  {
   "cell_type": "code",
   "execution_count": 73,
   "id": "2a54dd44",
   "metadata": {},
   "outputs": [
    {
     "data": {
      "text/plain": [
       "'Genshi shounen ryuu'"
      ]
     },
     "execution_count": 73,
     "metadata": {},
     "output_type": "execute_result"
    }
   ],
   "source": [
    "keywords_input[0].capitalize()"
   ]
  },
  {
   "cell_type": "code",
   "execution_count": null,
   "id": "81991e22",
   "metadata": {},
   "outputs": [],
   "source": []
  },
  {
   "cell_type": "code",
   "execution_count": null,
   "id": "7f5365df",
   "metadata": {},
   "outputs": [],
   "source": []
  },
  {
   "cell_type": "code",
   "execution_count": 60,
   "id": "e36299c9",
   "metadata": {},
   "outputs": [],
   "source": [
    "keyword_input_word = keywords_input.replace(keywords_input[0], keywords_input[0].upper(), 1)"
   ]
  },
  {
   "cell_type": "code",
   "execution_count": 61,
   "id": "caa4d40c",
   "metadata": {},
   "outputs": [],
   "source": [
    "keywords_input_list = [keyword_input_word]"
   ]
  },
  {
   "cell_type": "code",
   "execution_count": 62,
   "id": "5bfab440",
   "metadata": {},
   "outputs": [
    {
     "data": {
      "text/plain": [
       "['Genshi Shounen Ryuu']"
      ]
     },
     "execution_count": 62,
     "metadata": {},
     "output_type": "execute_result"
    }
   ],
   "source": [
    "keywords_input_list"
   ]
  },
  {
   "cell_type": "code",
   "execution_count": 44,
   "id": "76dd13c1",
   "metadata": {},
   "outputs": [],
   "source": [
    "keywords_input_list = keywords_input_list[0].replace(keywords_input[0][0], keywords_input[0][0].upper(), 1)"
   ]
  },
  {
   "cell_type": "code",
   "execution_count": 57,
   "id": "18fe11e0",
   "metadata": {},
   "outputs": [
    {
     "data": {
      "text/plain": [
       "['Genshi Shounen Ryuu']"
      ]
     },
     "execution_count": 57,
     "metadata": {},
     "output_type": "execute_result"
    }
   ],
   "source": [
    "keywords_input_list"
   ]
  },
  {
   "cell_type": "code",
   "execution_count": null,
   "id": "dadda483",
   "metadata": {},
   "outputs": [],
   "source": [
    "keywords_input = \"freeCodeCamp is an awesome resource\";\n",
    "const words = mySentence.split(\" \");\n",
    "\n",
    "for (let i = 0; i < words.length; i++) {\n",
    "    words[i] = words[i][0].toUpperCase() + words[i].substr(1);\n",
    "}\n",
    "\n",
    "words.join(\" \");\n"
   ]
  },
  {
   "cell_type": "code",
   "execution_count": null,
   "id": "5f27ff96",
   "metadata": {},
   "outputs": [],
   "source": []
  },
  {
   "cell_type": "code",
   "execution_count": 105,
   "id": "d1112c6d",
   "metadata": {},
   "outputs": [],
   "source": [
    "foobarlist = [\"foo\", \"bar\", \"baz\"]"
   ]
  },
  {
   "cell_type": "code",
   "execution_count": 106,
   "id": "a45d05ec",
   "metadata": {},
   "outputs": [
    {
     "data": {
      "text/plain": [
       "1"
      ]
     },
     "execution_count": 106,
     "metadata": {},
     "output_type": "execute_result"
    }
   ],
   "source": [
    "foobarlist.index(\"bar\")"
   ]
  },
  {
   "cell_type": "code",
   "execution_count": 107,
   "id": "1e21ff7f",
   "metadata": {},
   "outputs": [
    {
     "data": {
      "text/plain": [
       "'bar'"
      ]
     },
     "execution_count": 107,
     "metadata": {},
     "output_type": "execute_result"
    }
   ],
   "source": [
    "foobarlist[1]"
   ]
  },
  {
   "cell_type": "code",
   "execution_count": null,
   "id": "465650a4",
   "metadata": {},
   "outputs": [],
   "source": []
  },
  {
   "cell_type": "code",
   "execution_count": 47,
   "id": "3aa179d5",
   "metadata": {
    "scrolled": true
   },
   "outputs": [
    {
     "data": {
      "text/plain": [
       "False"
      ]
     },
     "execution_count": 47,
     "metadata": {},
     "output_type": "execute_result"
    }
   ],
   "source": [
    "keywords_input_list[0].islower()"
   ]
  },
  {
   "cell_type": "code",
   "execution_count": 89,
   "id": "30778aec",
   "metadata": {},
   "outputs": [],
   "source": [
    "anime_df = pd.read_csv(\"../data/anime_map_data_animelist_100plus_PG_anime_name_pivot_df.csv\")\n",
    "\n",
    "anime_names_list = anime_df[\"Name\"].tolist()\n",
    "anime_names_list_lower = [name.lower() for name in anime_names_list]\n",
    "url_api ='http://0.0.0.0:8000/predict'"
   ]
  },
  {
   "cell_type": "code",
   "execution_count": 118,
   "id": "3bf783bd",
   "metadata": {},
   "outputs": [],
   "source": [
    "keywords_input = [\"cowboy Bebop\"]"
   ]
  },
  {
   "cell_type": "code",
   "execution_count": 98,
   "id": "4ffac545",
   "metadata": {},
   "outputs": [
    {
     "data": {
      "text/plain": [
       "['Cowboy Bebop']"
      ]
     },
     "execution_count": 98,
     "metadata": {},
     "output_type": "execute_result"
    }
   ],
   "source": [
    "keywords_input"
   ]
  },
  {
   "cell_type": "code",
   "execution_count": 109,
   "id": "6baf99cf",
   "metadata": {},
   "outputs": [
    {
     "data": {
      "text/plain": [
       "'Cowboy Bebop'"
      ]
     },
     "execution_count": 109,
     "metadata": {},
     "output_type": "execute_result"
    }
   ],
   "source": [
    "anime_names_list[0]"
   ]
  },
  {
   "cell_type": "code",
   "execution_count": 110,
   "id": "27a4d88a",
   "metadata": {
    "scrolled": true
   },
   "outputs": [
    {
     "data": {
      "text/plain": [
       "0"
      ]
     },
     "execution_count": 110,
     "metadata": {},
     "output_type": "execute_result"
    }
   ],
   "source": [
    "keywords_input.index(keywords_input[0])"
   ]
  },
  {
   "cell_type": "code",
   "execution_count": 112,
   "id": "65629509",
   "metadata": {},
   "outputs": [
    {
     "data": {
      "text/plain": [
       "'Cowboy Bebop'"
      ]
     },
     "execution_count": 112,
     "metadata": {},
     "output_type": "execute_result"
    }
   ],
   "source": [
    "keywords_input[keywords_input.index(keywords_input[0])]"
   ]
  },
  {
   "cell_type": "code",
   "execution_count": 119,
   "id": "fc9e733f",
   "metadata": {},
   "outputs": [
    {
     "name": "stdout",
     "output_type": "stream",
     "text": [
      "['cowboy bebop']\n"
     ]
    }
   ],
   "source": [
    "if keywords_input != []:\n",
    "            # keywords_input_word = keywords_input[0].replace(keywords_input[0][0], keywords_input[0][0].upper(), 1)\n",
    "            keywords_input_word = keywords_input[0].lower()\n",
    "            keywords_input_lower = [keywords_input_word]\n",
    "            # st.write(keywords_input)\n",
    "            # anime_names_list_lower\n",
    "            print(keywords_input_lower)\n"
   ]
  },
  {
   "cell_type": "code",
   "execution_count": 120,
   "id": "19c44a20",
   "metadata": {},
   "outputs": [
    {
     "ename": "ValueError",
     "evalue": "'cowboy bebop' is not in list",
     "output_type": "error",
     "traceback": [
      "\u001b[0;31m---------------------------------------------------------------------------\u001b[0m",
      "\u001b[0;31mValueError\u001b[0m                                Traceback (most recent call last)",
      "\u001b[0;32m/tmp/ipykernel_7638/467833174.py\u001b[0m in \u001b[0;36m<module>\u001b[0;34m\u001b[0m\n\u001b[1;32m     20\u001b[0m \u001b[0;32melse\u001b[0m\u001b[0;34m:\u001b[0m\u001b[0;34m\u001b[0m\u001b[0;34m\u001b[0m\u001b[0m\n\u001b[1;32m     21\u001b[0m     params_text_input = {\n\u001b[0;32m---> 22\u001b[0;31m     \u001b[0;34m'anime'\u001b[0m \u001b[0;34m:\u001b[0m \u001b[0mkeywords_input\u001b[0m\u001b[0;34m.\u001b[0m\u001b[0mindex\u001b[0m\u001b[0;34m(\u001b[0m\u001b[0mkeywords_input_lower\u001b[0m\u001b[0;34m[\u001b[0m\u001b[0;36m0\u001b[0m\u001b[0;34m]\u001b[0m\u001b[0;34m)\u001b[0m\u001b[0;34m,\u001b[0m\u001b[0;34m\u001b[0m\u001b[0;34m\u001b[0m\u001b[0m\n\u001b[0m\u001b[1;32m     23\u001b[0m     \u001b[0;34m'length'\u001b[0m \u001b[0;34m:\u001b[0m \u001b[0;36m10\u001b[0m\u001b[0;34m,\u001b[0m\u001b[0;34m\u001b[0m\u001b[0;34m\u001b[0m\u001b[0m\n\u001b[1;32m     24\u001b[0m     \u001b[0;34m'model'\u001b[0m \u001b[0;34m:\u001b[0m \u001b[0;34m'notation'\u001b[0m\u001b[0;34m\u001b[0m\u001b[0;34m\u001b[0m\u001b[0m\n",
      "\u001b[0;31mValueError\u001b[0m: 'cowboy bebop' is not in list"
     ]
    }
   ],
   "source": [
    "if keywords_input != []:\n",
    "    # keywords_input_word = keywords_input[0].replace(keywords_input[0][0], keywords_input[0][0].upper(), 1)\n",
    "    keywords_input_word = keywords_input[0].lower()\n",
    "    keywords_input_lower = [keywords_input_word]\n",
    "    # st.write(keywords_input)\n",
    "    # anime_names_list_lower\n",
    "else:\n",
    "    keywords_input_lower = keywords_input\n",
    "\n",
    "if keywords_input_lower[0] not in anime_names_list_lower:\n",
    "    print(\"\"\"\n",
    "            ### This anime name is not in our anime list!\n",
    "            #### 1. The name should be similar than the ones on [MyAnimeList](https://myanimelist.net/topanime.php)\n",
    "            #### 2. Please try to use the names given by the auto-completion. \n",
    "            #### 3. Hit the TAB button to select quickly auto-completed text.\n",
    "\n",
    "\n",
    "            _______________\n",
    "            \"\"\")\n",
    "else:\n",
    "    params_text_input = {\n",
    "    'anime' : keywords_input.index(keywords_input_lower[0]),\n",
    "    'length' : 10,\n",
    "    'model' : 'notation'\n",
    "    }\n",
    "\n",
    "    response_text_input = requests.get(url_api, params=params_text_input).json()\n",
    "    prediction_list_text_input = convert_dict_to_list(response_text_input['prediction'])\n",
    "    prediction_list_names_text_input = [prediction_list_text_input[i][0] for i in range(len(prediction_list_text_input))]\n",
    "    i = 1\n",
    "    for row in prediction_list_names_text_input:\n",
    "        print(f\"{i} - \" + row)\n",
    "        i+=1\n"
   ]
  },
  {
   "cell_type": "code",
   "execution_count": 121,
   "id": "4f4e5848",
   "metadata": {},
   "outputs": [
    {
     "data": {
      "text/plain": [
       "'cowboy bebop'"
      ]
     },
     "execution_count": 121,
     "metadata": {},
     "output_type": "execute_result"
    }
   ],
   "source": [
    "keywords_input_lower[0]"
   ]
  },
  {
   "cell_type": "code",
   "execution_count": 122,
   "id": "f1280b0e",
   "metadata": {},
   "outputs": [
    {
     "data": {
      "text/plain": [
       "['cowboy bebop',\n",
       " 'cowboy bebop: tengoku no tobira',\n",
       " 'trigun',\n",
       " 'witch hunter robin',\n",
       " 'bouken ou beet',\n",
       " 'eyeshield 21',\n",
       " 'hachimitsu to clover',\n",
       " 'hungry heart: wild striker',\n",
       " 'initial d fourth stage',\n",
       " 'monster',\n",
       " 'naruto',\n",
       " 'one piece',\n",
       " 'tennis no ouji-sama',\n",
       " 'ring ni kakero 1',\n",
       " 'school rumble',\n",
       " 'sunabouzu',\n",
       " 'texhnolyze',\n",
       " 'trinity blood',\n",
       " 'yakitate!! japan',\n",
       " 'zipang',\n",
       " 'neon genesis evangelion',\n",
       " 'neon genesis evangelion: death & rebirth',\n",
       " 'neon genesis evangelion: the end of evangelion',\n",
       " 'kenpuu denki berserk',\n",
       " 'koukaku kidoutai',\n",
       " 'rurouni kenshin: meiji kenkaku romantan - tsuioku-hen',\n",
       " 'rurouni kenshin: meiji kenkaku romantan',\n",
       " 'rurouni kenshin: meiji kenkaku romantan - ishinshishi e no chinkonka',\n",
       " 'akira',\n",
       " '.hack//sign',\n",
       " 'aa! megami-sama!',\n",
       " 'aa! megami-sama! (tv)',\n",
       " 'tenshi kinryouku',\n",
       " 'kidou tenshi angelic layer',\n",
       " 'ai yori aoshi',\n",
       " 'appleseed (movie)',\n",
       " 'arc the lad',\n",
       " 'avenger',\n",
       " 'beck',\n",
       " 'blue gender',\n",
       " 'chobits',\n",
       " 'chrno crusade',\n",
       " 'd.n.angel',\n",
       " 'd.c.: da capo',\n",
       " 'dears',\n",
       " 'rozen maiden',\n",
       " 'rozen maiden: träumend',\n",
       " 'azumanga daioh',\n",
       " 'basilisk: kouga ninpou chou',\n",
       " 'black cat (tv)',\n",
       " 'cluster edge',\n",
       " 'full metal panic!',\n",
       " 'full metal panic? fumoffu',\n",
       " 'full metal panic! the second raid',\n",
       " 'gakuen alice',\n",
       " 'soukyuu no fafner: dead aggressor',\n",
       " 'mahou shoujo lyrical nanoha',\n",
       " \"mahou shoujo lyrical nanoha a's\",\n",
       " 'shuffle!',\n",
       " 'mobile suit gundam',\n",
       " 'mobile suit gundam: the 08th ms team',\n",
       " 'mobile suit gundam 0080: war in the pocket',\n",
       " \"mobile suit gundam: the 08th ms team - miller's report\",\n",
       " 'mobile suit gundam 0083: stardust memory',\n",
       " 'mobile suit zeta gundam',\n",
       " 'mobile suit gundam zz',\n",
       " \"mobile suit gundam: char's counterattack\",\n",
       " 'mobile suit gundam f91',\n",
       " 'mobile suit victory gundam',\n",
       " 'mobile suit gundam wing',\n",
       " 'mobile suit gundam wing: endless waltz',\n",
       " 'after war gundam x',\n",
       " 'mobile suit gundam seed',\n",
       " 'mobile suit gundam seed destiny',\n",
       " 'turn a gundam',\n",
       " 'mobile fighter g gundam',\n",
       " 'last exile',\n",
       " 'mai-hime',\n",
       " 'mai-otome',\n",
       " 'shin shirayuki-hime densetsu prétear',\n",
       " 'air',\n",
       " 'aishiteruze baby★★',\n",
       " 'akazukin chacha',\n",
       " 'ayashi no ceres',\n",
       " 'boys be...',\n",
       " 'hana yori dango',\n",
       " 'ou dorobou jing',\n",
       " 'ou dorobou jing in seventh heaven',\n",
       " 'bakuretsu tenshi',\n",
       " 'chuuka ichiban!',\n",
       " 'corrector yui',\n",
       " 'chou henshin cosprayers',\n",
       " 'uchuu no stellvia',\n",
       " 'sakigake!! cromartie koukou',\n",
       " 'el hazard: the alternative world',\n",
       " 'el hazard: the wanderers',\n",
       " 'el hazard: the magnificent world',\n",
       " 'el hazard 2: the magnificent world',\n",
       " 'final approach',\n",
       " 'fruits basket',\n",
       " 'fullmetal alchemist',\n",
       " 'full moon wo sagashite',\n",
       " 'fushigi yuugi',\n",
       " 'fushigi yuugi: eikouden',\n",
       " 'futakoi',\n",
       " 'futakoi alternative',\n",
       " 'gate keepers',\n",
       " 'gate keepers 21',\n",
       " 'gensoumaden saiyuuki',\n",
       " 'saiyuuki reload',\n",
       " 'saiyuuki reload gunlock',\n",
       " 'getbackers',\n",
       " 'green green',\n",
       " 'gunslinger girl',\n",
       " 'hikaru no go',\n",
       " 'hunter x hunter',\n",
       " 'hunter x hunter: original video animation',\n",
       " 'hunter x hunter: greed island',\n",
       " 'hunter x hunter: greed island final',\n",
       " 'jinki:extend',\n",
       " 'kamikaze kaitou jeanne',\n",
       " 'kannazuki no miko',\n",
       " 'kanon',\n",
       " 'kareshi kanojo no jijou',\n",
       " 'kono minikuku mo utsukushii sekai',\n",
       " 'kimi ga nozomu eien',\n",
       " 'kita e.: diamond dust drops',\n",
       " 'loveless',\n",
       " 'blood+',\n",
       " 're: cutey honey',\n",
       " 'solty rei',\n",
       " 'juuni kokuki',\n",
       " 'shaman king',\n",
       " 'x/1999',\n",
       " 'x',\n",
       " 'mahou sensei negima!',\n",
       " 'maria-sama ga miteru',\n",
       " 'boukyaku no senritsu',\n",
       " 'ima, soko ni iru boku',\n",
       " 'peace maker kurogane',\n",
       " 'pita ten',\n",
       " 'power stone',\n",
       " 'mononoke hime',\n",
       " 'rahxephon',\n",
       " 'samurai 7',\n",
       " 'scrapped princess',\n",
       " 's.cry.ed',\n",
       " 'shingetsutan tsukihime',\n",
       " 'slam dunk',\n",
       " 'strange dawn',\n",
       " 'tactics',\n",
       " 'tenjou tenge',\n",
       " 'tokyo underground',\n",
       " 'triangle heart: sweet songs forever',\n",
       " 'tsubasa chronicle',\n",
       " 'ultra maniac',\n",
       " 'ultra maniac ova',\n",
       " 'vandread',\n",
       " 'vandread: the second stage',\n",
       " 'tenkuu no escaflowne',\n",
       " 'whistle!',\n",
       " 'xenosaga the animation',\n",
       " 'initial d first stage',\n",
       " 'initial d second stage',\n",
       " 'initial d third stage',\n",
       " 'love hina',\n",
       " 'love hina again',\n",
       " 'love hina christmas special: silent eve',\n",
       " 'love hina haru special: kimi sakura chiru nakare!!',\n",
       " 'maburaho',\n",
       " 'macross zero',\n",
       " 'onegai☆teacher',\n",
       " 'onegai☆twins',\n",
       " 'rizelmine',\n",
       " 'speed grapher',\n",
       " 'sen to chihiro no kamikakushi',\n",
       " 'tenshi na konamaiki',\n",
       " 'video girl ai',\n",
       " \"wolf's rain\",\n",
       " 'yumeria',\n",
       " 'samurai champloo',\n",
       " 'lodoss-tou senki: eiyuu kishi den',\n",
       " 'lodoss-tou senki',\n",
       " 'r.o.d: read or die',\n",
       " 'r.o.d: the tv',\n",
       " 'ranma ½',\n",
       " 'project a-ko',\n",
       " 'pia carrot e youkoso!! 2 dx',\n",
       " 'pia carrot e youkoso!!: sayaka no koi monogatari',\n",
       " 'kidou senkan nadesico',\n",
       " 'kidou senkan nadesico: the prince of darkness',\n",
       " 'mezzo dsa',\n",
       " 'dragon ball',\n",
       " 'dragon ball gt',\n",
       " 'elfen lied',\n",
       " 'flcl',\n",
       " 'jigoku shoujo',\n",
       " 'ninin ga shinobuden',\n",
       " 'air master',\n",
       " 'asagiri no miko',\n",
       " 'cardcaptor sakura',\n",
       " 'daa! daa! daa!',\n",
       " 'dan doh!!',\n",
       " 'detective conan',\n",
       " \"e's otherwise\",\n",
       " 'koukyoushihen eureka seven',\n",
       " 'rekka no honoo',\n",
       " 'gankutsuou',\n",
       " 'genshiken',\n",
       " 'girls bravo: first season',\n",
       " 'gokusen',\n",
       " 'gravitation',\n",
       " 'agatha christie no meitantei poirot to marple',\n",
       " 'great teacher onizuka',\n",
       " 'groove adventure rave',\n",
       " 'harukanaru toki no naka de: hachiyou shou',\n",
       " 'ichigo 100%',\n",
       " 'inuyasha',\n",
       " 'konjiki no gash bell!!',\n",
       " 'kyou kara maou!',\n",
       " 'madlax',\n",
       " 'jungle wa itsumo hare nochi guu',\n",
       " 'jungle wa itsumo hare nochi guu deluxe',\n",
       " 'jungle wa itsumo hare nochi guu final',\n",
       " 'hoshi no koe',\n",
       " 'ikkitousen',\n",
       " 'hitsuji no uta',\n",
       " 'happy☆lesson',\n",
       " 'happy☆lesson (tv)',\n",
       " 'happy☆lesson: advance',\n",
       " 'happy☆lesson: the final',\n",
       " 'hajime no ippo',\n",
       " 'hajime no ippo: champion road',\n",
       " 'hajime no ippo: mashiba vs. kimura',\n",
       " 'gunparade march: arata naru kougunka',\n",
       " 'gungrave',\n",
       " 'golden boy',\n",
       " 'bleach',\n",
       " 'hellsing',\n",
       " 'gad guard',\n",
       " 'noir',\n",
       " 'mahoutsukai ni taisetsu na koto',\n",
       " 'kiddy grade',\n",
       " 'love♥love?',\n",
       " 'mahoromatic: automatic maiden',\n",
       " 'mahoromatic: motto utsukushii mono',\n",
       " 'viewtiful joe',\n",
       " 'kyougoku natsuhiko: kousetsu hyaku monogatari',\n",
       " 'animal yokochou',\n",
       " 'akane maniax',\n",
       " 'angel heart',\n",
       " 'akage no anne',\n",
       " 'area 88 (tv)',\n",
       " 'argento soma',\n",
       " \"b't x\",\n",
       " 'grappler baki (tv)',\n",
       " 'bakuten shoot beyblade',\n",
       " 'comic party',\n",
       " 'seikai no monshou',\n",
       " 'd.c.s.s: da capo second season',\n",
       " 'dear boys',\n",
       " 'di gi charat',\n",
       " 'divergence eve',\n",
       " 'divergence eve 2: misaki chronicles',\n",
       " 'dragon drive',\n",
       " 'grenadier: hohoemi no senshi',\n",
       " '.hack//tasogare no udewa densetsu',\n",
       " '.hack//liminality',\n",
       " '3x3 eyes',\n",
       " 'cinderella boy',\n",
       " 'mirai shounen conan',\n",
       " 'aa! megami-sama!: chichaitte koto wa benri da ne',\n",
       " 'aa! megami-sama! movie',\n",
       " 'abashiri ikka',\n",
       " 'abenobashi mahou☆shoutengai',\n",
       " 'kerokko demetan',\n",
       " 'zettai shounen',\n",
       " 'akahori gedou hour rabuge',\n",
       " 'chiisana obake: acchi, kocchi, socchi',\n",
       " 'ace wo nerae!',\n",
       " 'ace wo nerae!: final stage',\n",
       " 'ace wo nerae! (1979)',\n",
       " 'ace wo nerae! 2',\n",
       " 'xiao qian',\n",
       " 'final fantasy vii: advent children',\n",
       " 'hand maid may',\n",
       " 'happy world!',\n",
       " 'najica dengeki sakusen',\n",
       " 'paradise kiss',\n",
       " 'mousou dairinin',\n",
       " 'kidou keisatsu patlabor: on television',\n",
       " 'peach girl',\n",
       " 'petshop of horrors',\n",
       " 'puchi pri*yucie',\n",
       " 'piano (tv)',\n",
       " 'planetes',\n",
       " 'midori no hibi',\n",
       " 'mahoujin guruguru',\n",
       " 'dokidoki♡densetsu: mahoujin guruguru',\n",
       " 'mama wa shougaku 4 nensei',\n",
       " 'marmalade boy',\n",
       " 'matantei loki ragnarok',\n",
       " 'ginyuu mokushiroku meine liebe',\n",
       " 'psychic academy',\n",
       " 'versailles no bara',\n",
       " 'serial experiments lain',\n",
       " 'mutsu enmei ryuu gaiden: shura no toki',\n",
       " 'spiral: suiri no kizuna',\n",
       " 'starship operators',\n",
       " 'tsukuyomi: moon phase',\n",
       " 'futatsu no spica',\n",
       " 'eikoku koi monogatari emma',\n",
       " 'w: wish',\n",
       " 'wild arms: twilight venom',\n",
       " 'binzume yousei',\n",
       " 'magical canan',\n",
       " 'ojamajo doremi',\n",
       " 'ojamajo doremi sharp',\n",
       " 'motto! ojamajo doremi',\n",
       " 'ojamajo doremi dokkaan!',\n",
       " 'ug☆ultimate girls',\n",
       " 'shakugan no shana',\n",
       " 'fate/stay night',\n",
       " 'bokusatsu tenshi dokuro-chan',\n",
       " 'iriya no sora, ufo no natsu',\n",
       " \"i'll/ckbc\",\n",
       " 'himiko-den',\n",
       " 'memories off',\n",
       " 'memories off 2nd',\n",
       " 'memories off 3.5',\n",
       " 'gallery fake',\n",
       " 'fake',\n",
       " 'aika',\n",
       " 'akazukin chacha ova',\n",
       " 'boogiepop wa warawanai',\n",
       " 'burn up excess',\n",
       " 'cardcaptor sakura movie 1',\n",
       " 'cardcaptor sakura movie 2: fuuin sareta card',\n",
       " 'bannou bunka neko-musume',\n",
       " 'bannou bunka neko-musume dash!',\n",
       " 'bannou bunka neko-musume (1998)',\n",
       " 'elfen lied: tooriame nite arui wa, shoujo wa ikani shite sono shinjou ni itatta ka? - regenschauer',\n",
       " 'ex-driver',\n",
       " 'ex-driver the movie',\n",
       " 'heppoko jikken animation excel♥saga',\n",
       " 'fushigi yuugi ova',\n",
       " 'fushigi yuugi: dai ni bu',\n",
       " 'futari ecchi',\n",
       " 'galaxy angel',\n",
       " 'gantz',\n",
       " 'gilgamesh',\n",
       " 'h2',\n",
       " 'haibane renmei',\n",
       " 'capeta',\n",
       " 'karas',\n",
       " 'suzuka',\n",
       " 'tales of phantasia the animation',\n",
       " 'yuu☆yuu☆hakusho',\n",
       " 'escaflowne',\n",
       " 'ai yori aoshi: enishi',\n",
       " 'gantz 2nd stage',\n",
       " 'seikai no senki',\n",
       " 'seikai no senki ii',\n",
       " 'seikai no senki iii',\n",
       " 'seikai no senki special',\n",
       " 'seihou bukyou outlaw star',\n",
       " 'rurouni kenshin: meiji kenkaku romantan - seisou-hen',\n",
       " 'otogi juushi akazukin ova',\n",
       " 'hanaukyou maid-tai',\n",
       " 'bastard!!: ankoku no hakaishin',\n",
       " 'blood: the last vampire',\n",
       " 'buzzer beater',\n",
       " 'tantei gakuen q',\n",
       " 'final fantasy vii: last order',\n",
       " 'gun x sword',\n",
       " 'kore ga watashi no goshujinsama',\n",
       " 'hametsu no mars',\n",
       " 'tonari no yamada-kun',\n",
       " 'kurenai no buta',\n",
       " 'ragnarök the animation',\n",
       " 'ranma ½: chuugoku nekonron daikessen! okite yaburi no gekitou-hen!!',\n",
       " 'samurai deeper kyou',\n",
       " 'spriggan',\n",
       " 'stratos 4',\n",
       " 'stratos 4 ova',\n",
       " 'stratos 4 advance',\n",
       " 'dirty pair',\n",
       " 'shiritsu araiso koutougakkou seitokai shikkoubu',\n",
       " 'final fantasy',\n",
       " 'kaleido star',\n",
       " 'kaleido star: aratanaru tsubasa - extra stage',\n",
       " 'kaleido star: legend of phoenix - layla hamilton monogatari',\n",
       " 'fullmetal alchemist: the conqueror of shamballa',\n",
       " 'howl no ugoku shiro',\n",
       " 'iria: zeiram the animation',\n",
       " 'kumo no mukou, yakusoku no basho',\n",
       " 'legend of lemnear: kyokuguro no tsubasa valkisas',\n",
       " 'magic knight rayearth',\n",
       " 'perfect blue',\n",
       " 'phantom the animation',\n",
       " 'rg veda',\n",
       " 'shoujo kakumei utena',\n",
       " 'shoujo kakumei utena: adolescence mokushiroku',\n",
       " 'naruto movie 1: dai katsugeki!! yuki hime shinobu houjou dattebayo!',\n",
       " 'onegai☆teacher: himitsu na futari',\n",
       " 'maria-sama ga miteru: haru',\n",
       " 'tales of eternia the animation',\n",
       " 'weiß kreuz glühen',\n",
       " 'weiß kreuz',\n",
       " 'tenjou tenge: the ultimate fight',\n",
       " 'inuyasha movie 4: guren no houraijima',\n",
       " 'inuyasha movie 2: kagami no naka no mugenjo',\n",
       " 'inuyasha movie 3: tenka hadou no ken',\n",
       " 'inuyasha movie 1: toki wo koeru omoi',\n",
       " '.hack//gift',\n",
       " 'fantastic children',\n",
       " 'gokujou seitokai',\n",
       " 'mushishi',\n",
       " 'buttobi!! cpu',\n",
       " 'one piece movie 1',\n",
       " 'one piece movie 2: nejimaki-jima no daibouken',\n",
       " 'one piece movie 3: chinjuu-jima no chopper oukoku',\n",
       " 'one piece movie 4: dead end no bouken',\n",
       " 'one piece movie 5: norowareta seiken',\n",
       " 'one piece movie 6: omatsuri danshaku to himitsu no shima',\n",
       " 'one piece movie 7: karakuri-jou no mecha kyohei',\n",
       " 'one piece: taose! kaizoku ganzack',\n",
       " 'koukaku kidoutai: stand alone complex',\n",
       " 'innocence',\n",
       " 'karin',\n",
       " 'okusama wa joshikousei (tv)',\n",
       " 'to heart 2',\n",
       " 'to heart',\n",
       " 'tide-line blue',\n",
       " 'macross plus',\n",
       " 'hotori: tada saiwai wo koinegau',\n",
       " 'ginban kaleidoscope',\n",
       " 'aria the animation',\n",
       " 'sousei no aquarion',\n",
       " 'ueki no housoku',\n",
       " 'yu☆gi☆oh! duel monsters',\n",
       " 'yu☆gi☆oh!: duel monsters gx',\n",
       " 'kurau phantom memory',\n",
       " 'gensoumaden saiyuuki movie: requiem - erabarezaru mono e no chinkonka',\n",
       " 'damekko doubutsu',\n",
       " 'kino no tabi: the beautiful world',\n",
       " 'girls bravo: second season',\n",
       " 'ichigo mashimaro',\n",
       " 'kamichu!',\n",
       " 'paniponi dash!',\n",
       " 'armitage iii: dual-matrix',\n",
       " 'armitage iii: poly-matrix',\n",
       " 'bakuretsu hunters',\n",
       " 'kamui no ken',\n",
       " 'yami to boushi to hon no tabibito',\n",
       " 'haja taisei dangaiou',\n",
       " 'makai toshi shinjuku',\n",
       " 'doraemon',\n",
       " 'dragon ball movie 1: shen long no densetsu',\n",
       " 'eien no aselia',\n",
       " 'fatal fury: the motion picture',\n",
       " 'fushigiboshi no☆futagohime',\n",
       " 'glass no kamen',\n",
       " 'gravitation: lyrics of love',\n",
       " 'tottoko hamtarou',\n",
       " 'i my me! strawberry eggs',\n",
       " 'kakyuusei 2: hitomi no naka no shoujo-tachi',\n",
       " 'kidou shinsengumi moeyo ken tv',\n",
       " 'majo no takkyuubin',\n",
       " 'tenkuu no shiro laputa',\n",
       " 'cossette no shouzou',\n",
       " 'hajimari no boukensha-tachi: legend of crystania',\n",
       " 'keroro gunsou',\n",
       " 'school rumble: ichi gakki hoshuu',\n",
       " 'mahou no princess minky momo',\n",
       " 'mahoraba: heartful days',\n",
       " 'marmalade boy movie',\n",
       " 'mermaid melody pichi pichi pitch',\n",
       " 'metropolis',\n",
       " 'tonari no totoro',\n",
       " 'onegai☆twins: natsu wa owaranai',\n",
       " 'otogizoushi',\n",
       " 'boku no chikyuu wo mamotte',\n",
       " 'pokemon',\n",
       " 'pokemon movie 01: mewtwo no gyakushuu',\n",
       " 'saishuu heiki kanojo',\n",
       " 'bishoujo senshi sailor moon',\n",
       " 'bishoujo senshi sailor moon r: the movie',\n",
       " 'bishoujo senshi sailor moon s',\n",
       " 'sensei no ojikan: doki doki school hours',\n",
       " 'slayers',\n",
       " 'slayers next',\n",
       " 'slayers: the motion picture',\n",
       " 'tekken',\n",
       " 'shin tenchi muyou!',\n",
       " 'tenchi muyou! ryououki',\n",
       " 'tenchi muyou! ryououki 2nd season',\n",
       " 'tenchi muyou! ryououki 3rd season',\n",
       " 'vampire hunter d (2000)',\n",
       " 'venus senki',\n",
       " 'mousou kagaku series: wandaba style',\n",
       " 'wind: a breath of heart (tv)',\n",
       " 'wind: a breath of heart ova',\n",
       " 'wonderful days',\n",
       " 'yu☆gi☆oh!',\n",
       " 'grappler baki: saidai tournament-hen',\n",
       " 'digimon adventure',\n",
       " 'yami no matsuei',\n",
       " 'koutetsu tenshi kurumi',\n",
       " 'koutetsu tenshi kurumi 2',\n",
       " 'koutetsu tenshi kurumi zero',\n",
       " 'koutetsu tenshi kurumi encore',\n",
       " 'major s2',\n",
       " 'rahxephon: kansoukyoku/kanojo to kanojo jishin to - thatness and thereness',\n",
       " 'soukyuu no fafner: right of left - single program',\n",
       " 'sakura taisen',\n",
       " 'sakura taisen: le nouveau paris',\n",
       " 'dna²',\n",
       " 'puni puni☆poemii',\n",
       " 'steamboy',\n",
       " 'tetsuwan birdy',\n",
       " 'the big o',\n",
       " 'bubblegum crisis tokyo 2040',\n",
       " 'musekinin kanchou tylor',\n",
       " 'jin-rou',\n",
       " 'moldiver',\n",
       " 'kaze no tani no nausicaä',\n",
       " 'saber marionette j',\n",
       " 'rean no tsubasa',\n",
       " 'magikano',\n",
       " 'kagi hime monogatari: eikyuu alice rondo',\n",
       " 'hotaru no haka',\n",
       " 'battle programmer shirase',\n",
       " 'kogepan',\n",
       " 'honoo no labyrinth',\n",
       " 'sexy commando gaiden: sugoi yo!! masaru-san',\n",
       " 'noein: mou hitori no kimi e',\n",
       " 'mimi wo sumaseba',\n",
       " 'ayakashi: japanese classic horror',\n",
       " 'hanbun no tsuki ga noboru sora',\n",
       " 'itsudatte my santa!',\n",
       " 'ginga nagareboshi gin',\n",
       " 'kage kara mamoru!',\n",
       " 'amaenaide yo!!',\n",
       " 'popolocrois',\n",
       " 'mugen no ryvius',\n",
       " 'naruto: takigakure no shitou - ore ga eiyuu dattebayo!',\n",
       " 'x ova',\n",
       " 'chobits: chibits',\n",
       " 'neko no ongaeshi',\n",
       " 'jinzou ningen kikaider the animation',\n",
       " 'yuugen kaisha',\n",
       " 'legend of duo',\n",
       " 'nekojiru-sou',\n",
       " 'ko seiki beast sanjuushi',\n",
       " 'futari wa precure',\n",
       " 'mahou no stage fancy lala',\n",
       " 'tenshi ni narumon!',\n",
       " 'kazemakase tsukikage ran',\n",
       " 'otogi juushi akazukin',\n",
       " 'sakura taisen: katsudou shashin',\n",
       " 'saishuu heiki kanojo: another love song',\n",
       " 'popotan',\n",
       " 'platonic chain',\n",
       " 'petopeto-san',\n",
       " 'onmyou taisenki',\n",
       " 'okusama wa mahou shoujo',\n",
       " 'nurse witch komugi-chan magikarte',\n",
       " 'nurse angel ririka sos',\n",
       " 'juubee ninpuuchou',\n",
       " 'juubee ninpuuchou: ryuuhougyoku-hen',\n",
       " 'ninja ryuukenden',\n",
       " 'takahashi rumiko gekijou ningyo no mori',\n",
       " 'night walker: mayonaka no tantei',\n",
       " 'natsu-iro no sunadokei',\n",
       " 'shichinin no nana',\n",
       " 'mouse',\n",
       " 'moekan the animation',\n",
       " 'mamotte shugogetten!',\n",
       " 'major s1',\n",
       " 'mahoutsukai tai!',\n",
       " 'mahoutsukai tai! (tv)',\n",
       " 'mahoromatic summer special',\n",
       " 'mahoromatic end year special',\n",
       " 'legend of basara',\n",
       " 'koi kaze',\n",
       " 'juubee-chan: lovely gantai no himitsu',\n",
       " 'juubee-chan 2: siberia yagyuu no gyakushuu',\n",
       " 'iketeru futari',\n",
       " 'ichigo 100% special 2',\n",
       " 'ichigo 100%: koi ga hajimaru?! satsuei gasshuku - yureru kokoro ga higashi e nishi e',\n",
       " 'hachimitsu to clover specials',\n",
       " 'hikaru no go: hokuto hai e no michi',\n",
       " 'haunted junction',\n",
       " 'harukanaru toki no naka de: ajisai yumegatari',\n",
       " 'tsuki wa higashi ni hi wa nishi ni: operation sanctuary',\n",
       " 'hanaukyou maid-tai: la verite',\n",
       " 'gunsmith cats',\n",
       " 'galaxy angel z',\n",
       " 'galaxy angel 3',\n",
       " 'galaxy angel 3 specials',\n",
       " 'galaxy angel 4',\n",
       " 'air in summer',\n",
       " 'touhai densetsu akagi: yami ni maiorita tensai',\n",
       " 'azumanga daioh: gekijou tanpen',\n",
       " 'denshin mamotte shugogetten',\n",
       " 'elf-ban kakyuusei: anata dake wo mitsumete...',\n",
       " 'fullmetal alchemist: reflections',\n",
       " 'jojo no kimyou na bouken: adventure',\n",
       " 'jojo no kimyou na bouken',\n",
       " 'kashimashi: girl meets girl',\n",
       " 'koi koi 7',\n",
       " 'kujibiki unbalance',\n",
       " 'lamune',\n",
       " 'lemon angel project',\n",
       " 'mai-hime specials',\n",
       " 'one: kagayaku kisetsu e',\n",
       " 'refrain blue',\n",
       " 'sentimental journey',\n",
       " 'shadow skill: eigi',\n",
       " 'shadow skill (1996)',\n",
       " 'tenbatsu angel rabbie☆',\n",
       " 'otogi story tenshi no shippo',\n",
       " 'otogi story tenshi no shippo specials',\n",
       " 'tenshi no shippo chu!',\n",
       " 'to heart: remember my memories',\n",
       " 'to heart: remember my memories specials',\n",
       " 'tokyo mew mew',\n",
       " 'uta∽kata',\n",
       " 'uta∽kata: shotou no futanatsu',\n",
       " 'kyuuketsuhime miyu (tv)',\n",
       " 'yawara!',\n",
       " 'burn up scramble',\n",
       " 'canvas 2: niji-iro no sketch',\n",
       " 'canvas: sepia-iro no motif',\n",
       " 'tenchi muyou!',\n",
       " 'kanon kazahana',\n",
       " 'chou henshin cosprayers vs. ankoku uchuu shougun the movie',\n",
       " 'comic party revolution',\n",
       " 'comic party specials',\n",
       " 'patapata hikousen no bouken',\n",
       " 'mujin wakusei survive',\n",
       " 'rec',\n",
       " 'uchuu senkan yamato (movie)',\n",
       " 'zoids genesis',\n",
       " 'air movie',\n",
       " 'high school! kimengumi',\n",
       " 'yume de aetara',\n",
       " 'yume de aetara (tv)',\n",
       " 'princess tutu',\n",
       " 'baby☆love',\n",
       " 'candy candy (movie)',\n",
       " 'first kiss monogatari',\n",
       " 'kingyo chuuihou!',\n",
       " 'hiatari ryoukou!',\n",
       " 'houkago no shokuinshitsu',\n",
       " 'interstella5555: the 5tory of the 5ecret 5tar 5ystem',\n",
       " 'vampire hunter d',\n",
       " 'mär',\n",
       " 'bishoujo senshi sailor moon r',\n",
       " 'umi ga kikoeru',\n",
       " 'trouble chocolate',\n",
       " 'true love story',\n",
       " 'nanami-chan',\n",
       " 'binchou-tan',\n",
       " 'bomberman jetters',\n",
       " 'osakana wa ami no naka',\n",
       " 'yuki no joou (tv)',\n",
       " 'school days ona',\n",
       " 'kaze wo mita shounen',\n",
       " 'rahxephon: tagen hensoukyoku',\n",
       " 'tokyo godfathers',\n",
       " 'tenjou tenge: the past chapter',\n",
       " 'naruto: akaki yotsuba no clover wo sagase',\n",
       " 'bleach: memories in the rain',\n",
       " 'zoids',\n",
       " 'zoids shinseiki/zero',\n",
       " 'chou henshin cosprayers specials',\n",
       " 'kishin houkou demonbane',\n",
       " 'burn up!',\n",
       " 'burn up! w',\n",
       " 'pale cocoon',\n",
       " 'ginyuu mokushiroku meine liebe wieder',\n",
       " 'tenamonya voyagers',\n",
       " 'nanaka 6/17',\n",
       " 'hellsing ultimate',\n",
       " 'detective conan movie 01: the timed skyscraper',\n",
       " 'detective conan movie 02: the fourteenth target',\n",
       " 'detective conan movie 03: the last wizard of the century',\n",
       " 'gasaraki',\n",
       " 'miami guns',\n",
       " 'otaku no video',\n",
       " 'pugyuru',\n",
       " 'eiken: eikenbu yori ai wo komete',\n",
       " 'shinigami no ballad.',\n",
       " 'ergo proxy',\n",
       " 'arion',\n",
       " 'ranma ½: kessen tougenkyou! hanayome wo torimodose!',\n",
       " 'xxxholic movie: manatsu no yoru no yume',\n",
       " 'oniisama e...',\n",
       " 'mahoujin guru guru movie',\n",
       " 'hanaukyou maid-tai ova',\n",
       " 'yomigaeru sora: rescue wings',\n",
       " 'kokoro toshokan',\n",
       " 'niea under 7',\n",
       " 'koukaku kidoutai: stand alone complex 2nd gig',\n",
       " 'tsubasa chronicle: tori kago no kuni no himegimi',\n",
       " 'bakuretsu hunters ova',\n",
       " 'android ana maico 2010',\n",
       " \"i''s pure\",\n",
       " 'chikyuu shoujo arjuna',\n",
       " 'dragon ball z',\n",
       " 'tennis no ouji-sama: atobe kara no okurimono - kimi ni sasageru tennis prince matsuri',\n",
       " 'tennis no ouji-sama movie 1: futari no samurai - the first game',\n",
       " 'nanako kaitai shinsho',\n",
       " 'tactical roar',\n",
       " 'sakura tsuushin',\n",
       " 'boku wa imouto ni koi wo suru',\n",
       " 'ginga eiyuu densetsu',\n",
       " 'initial d battle stage',\n",
       " 'initial d extra stage',\n",
       " 'guardian hearts',\n",
       " 'king of fighters: another day',\n",
       " 'chicchana yukitsukai sugar',\n",
       " 'ginsoukikou ordian',\n",
       " 'choujuushin gravion',\n",
       " 'bleach: the sealed sword frenzy',\n",
       " 'sister princess: re pure',\n",
       " 'sister princess',\n",
       " 'kyou no 5 no 2',\n",
       " 'narutaru: mukuro naru hoshi tama taru ko',\n",
       " 'samurai spirits 2: asura zanmaden',\n",
       " 'narue no sekai',\n",
       " 'colorful',\n",
       " 'ushio to tora',\n",
       " 'konjiki no gash bell!!: 101 banme no mamono',\n",
       " 'kiba',\n",
       " 'school rumble ni gakki',\n",
       " 'jinki:extend - sorekara',\n",
       " 'suzumiya haruhi no yuuutsu',\n",
       " 'gakuen heaven',\n",
       " 'kyou kara ore wa!!',\n",
       " 'gokinjo monogatari',\n",
       " 'ouran koukou host club',\n",
       " 'soul link',\n",
       " 'strawberry panic',\n",
       " 'utawarerumono',\n",
       " 'air gear',\n",
       " 'gunparade orchestra',\n",
       " 'digimon savers',\n",
       " 'makai senki disgaea',\n",
       " 'xxxholic',\n",
       " \"joshikousei: girl's high\",\n",
       " 'mobile suit gundam seed msv astray',\n",
       " 'kikou senki dragonar',\n",
       " 'slayers premium',\n",
       " 'slayers gorgeous',\n",
       " 'slayers great',\n",
       " 'slayers return',\n",
       " 'dragon half',\n",
       " 'mahou shoujo-tai arusu',\n",
       " '.hack//roots',\n",
       " 'digimon tamers',\n",
       " 'mind game',\n",
       " 'street fighter ii v',\n",
       " 'nana',\n",
       " 'zegapain',\n",
       " 'simoun',\n",
       " 'aa! megami-sama!: sorezore no tsubasa',\n",
       " 'green green ova',\n",
       " 'yuu☆yuu☆hakusho (movie)',\n",
       " 'yuu☆yuu☆hakusho: meikai shitou-hen - honoo no kizuna',\n",
       " 'shin angyo onshi',\n",
       " 'tenshi no tamago',\n",
       " 'amaenaide yo!! katsu!!',\n",
       " 'megami kouhosei special curriculum',\n",
       " 'megami kouhosei',\n",
       " 'black lagoon',\n",
       " 'yuusha-ou gaogaigar',\n",
       " 'dragon ball movie 2: majinjou no nemurihime',\n",
       " 'dragon ball movie 3: makafushigi daibouken',\n",
       " 'dragon ball movie 4: saikyou e no michi',\n",
       " 'dragon ball z movie 01: ora no gohan wo kaese!!',\n",
       " 'dragon ball z movie 02: kono yo de ichiban tsuyoi yatsu',\n",
       " 'dragon ball z movie 03: chikyuu marugoto choukessen',\n",
       " 'dragon ball z movie 04: super saiyajin da son gokuu',\n",
       " 'dragon ball z movie 05: tobikkiri no saikyou tai saikyou',\n",
       " 'dragon ball z movie 06: gekitotsu!! 100-oku power no senshi-tachi',\n",
       " 'dragon ball z movie 07: kyokugen battle!! sandai super saiyajin',\n",
       " 'dragon ball z movie 08: moetsukiro!! nessen, ressen, chougekisen',\n",
       " 'dragon ball z movie 09: ginga girigiri!! bucchigiri no sugoi yatsu',\n",
       " 'dragon ball z movie 10: kiken na futari! super senshi wa nemurenai',\n",
       " 'dragon ball z movie 11: super senshi gekiha!! katsu no wa ore da',\n",
       " 'dragon ball z movie 12: fukkatsu no fusion!! gokuu to vegeta',\n",
       " 'dragon ball z movie 13: ryuuken bakuhatsu!! gokuu ga yaraneba dare ga yaru',\n",
       " 'princess princess',\n",
       " 'fullmetal alchemist: premium collection',\n",
       " 'geneshaft',\n",
       " 'himawari!',\n",
       " 'konjiki no gash bell!!: mecha vulkan no raishuu',\n",
       " 'ninkuu',\n",
       " 'kakutou bijin wulong',\n",
       " 'ike! ina-chuu takkyuubu',\n",
       " 'ginga densetsu weed',\n",
       " 'tokkou',\n",
       " 'riding bean',\n",
       " 'gintama',\n",
       " 'ray the animation',\n",
       " 'nurse witch komugi-chan magikarte special',\n",
       " 'nurse witch komugi-chan magikarte z',\n",
       " 'transformers: choujin master force',\n",
       " 'transformers: the☆headmasters',\n",
       " 'tatakae! chou robot seimeitai transformers victory',\n",
       " 'transformers superlink',\n",
       " 'transformers galaxy force',\n",
       " 'seisenshi dunbine',\n",
       " 'densetsu kyojin ideon',\n",
       " 'ichigeki sacchuu!! hoihoi-san',\n",
       " 'dai mahou touge',\n",
       " 'higurashi no naku koro ni',\n",
       " 'witchblade',\n",
       " 'naruto movie 2: dai gekitotsu! maboroshi no chiteiiseki dattebayo!',\n",
       " 'appleseed',\n",
       " 'shin getter robo tai neo getter robo',\n",
       " 'inukami!',\n",
       " 'renkin san-kyuu magical? pokaan',\n",
       " 'nishi no yoki majo: astraea testament',\n",
       " 'yume tsukai',\n",
       " 'the third: aoi hitomi no shoujo',\n",
       " 'top wo nerae! gunbuster',\n",
       " 'street fighter alpha: generations',\n",
       " 'chibi maruko-chan',\n",
       " 'magical nyan nyan taruto',\n",
       " 'jyu oh sei',\n",
       " 'daikuu maryuu gaiking',\n",
       " 'saiunkoku monogatari',\n",
       " 'heatguy j',\n",
       " 'shin chou kyou ryo: condor hero',\n",
       " 'shin chou kyou ryo: condor hero ii',\n",
       " 'virtua fighter',\n",
       " 'aria the natural',\n",
       " 'love hina: motoko no sentaku, koi ka ken... \"naku na\"',\n",
       " 'hit wo nerae!',\n",
       " 'yoshinaga-sanchi no gargoyle',\n",
       " 'crayon shin-chan',\n",
       " 'hokuto no ken',\n",
       " 'kakutou bijin wulong: rebirth',\n",
       " 'tsubasa chronicle 2nd season',\n",
       " 'yokoyama mitsuteru sangokushi',\n",
       " 'astro boy: tetsuwan atom',\n",
       " \"glass no kantai: la legende du vent de l'univers\",\n",
       " 'dead leaves',\n",
       " 'yokohama kaidashi kikou',\n",
       " 'yokohama kaidashi kikou: quiet country cafe',\n",
       " 'change!! getter robo: sekai saigo no hi',\n",
       " 'street fighter zero the animation',\n",
       " 'rikujou bouei-tai mao-chan',\n",
       " 'ichigo 100% ova',\n",
       " 'cosplay complex',\n",
       " 'cosplay complex: extra identification',\n",
       " 'dragon ball z: saiya-jin zetsumetsu keikaku',\n",
       " 'dragon ball z special 2: zetsubou e no hankou!! nokosareta chousenshi - gohan to trunks',\n",
       " 'dragon ball z special 1: tatta hitori no saishuu kessen',\n",
       " 'dragon ball gt: gokuu gaiden! yuuki no akashi wa suushinchuu',\n",
       " 'shinshaku sengoku eiyuu densetsu: sanada juu yuushi the animation',\n",
       " 'shinshaku sengoku eiyuu densetsu: sanada juu yuushi',\n",
       " 'kamisama kazoku',\n",
       " 'usagi-chan de cue!!',\n",
       " 'dual! parallel lun-lun monogatari',\n",
       " 'dual! parallel runrun monogatari special;',\n",
       " 'sin in the rain',\n",
       " 'tennis no ouji-sama: zenkoku taikai-hen',\n",
       " 'bishoujo senshi sailor moon: sailor stars',\n",
       " 'bishoujo senshi sailor moon s: kaguya-hime no koibito',\n",
       " 'blue seed',\n",
       " 'blue seed 2',\n",
       " 'uchuu kaizoku captain herlock',\n",
       " 'tide-line blue: kyoudai',\n",
       " 'top wo nerae 2! diebuster',\n",
       " 'aa! megami-sama! (tv) specials',\n",
       " 'kanojo to kanojo no neko',\n",
       " 'star ocean ex',\n",
       " 'tenchi muyou! in love',\n",
       " 'ranma ½ ova',\n",
       " 'ranma ½: yomigaeru kioku',\n",
       " 'battle spirits: ryuuko no ken',\n",
       " 'ranma ½: chou musabetsu kessen! ranma team vs. densetsu no houou',\n",
       " 'ranma ½ super',\n",
       " 'sexy commando gaiden: sugoi yo!! masaru-san specials',\n",
       " \"le chevalier d'eon\",\n",
       " 'chicchana yukitsukai sugar specials',\n",
       " 'full metal panic! the second raid: wari to hima na sentaichou no ichinichi',\n",
       " 'gunnm',\n",
       " 'majutsushi orphen',\n",
       " 'majutsushi orphen: revenge',\n",
       " 'honoo no mirage',\n",
       " 'honoo no mirage: minagiwa no hangyakusha',\n",
       " 'kaikan phrase',\n",
       " 'generator gawl',\n",
       " \"wolf's rain ova\",\n",
       " 'weiß kreuz ova',\n",
       " 'kachou ouji',\n",
       " 'yakumotatsu',\n",
       " 'psychic force',\n",
       " 'arete hime',\n",
       " 'omoide poroporo',\n",
       " 'heisei tanuki gassen ponpoko',\n",
       " 'hanare toride no yonna',\n",
       " 'kumo no you ni kaze no you ni',\n",
       " 'sennen joyuu',\n",
       " 'ouritsu uchuugun: honneamise no tsubasa',\n",
       " 'patalliro saiyuuki!',\n",
       " 'kashou no tsuki: aki kyougen',\n",
       " 'saint beast: seijuu kourin-hen',\n",
       " 'mizuiro (2003)',\n",
       " 'mizuiro jidai',\n",
       " 'tokyo babylon',\n",
       " 'taiyou no ouji: horus no daibouken',\n",
       " 'elf wo karu mono-tachi',\n",
       " 'elf wo karu mono-tachi ii',\n",
       " 'on your mark',\n",
       " 'the soultaker: tamashii-gari',\n",
       " 'cello hiki no gauche (1982)',\n",
       " 'bobobo-bo bo-bobo',\n",
       " 'ao no 6-gou',\n",
       " 'tokyo juushouden',\n",
       " 'tokyo daigaku monogatari',\n",
       " 'blame!',\n",
       " 'good morning call',\n",
       " 'ippatsu kiki musume',\n",
       " 'kidou shinsengumi moeyo ken',\n",
       " 'mutant turtles: choujin densetsu-hen',\n",
       " 'oruchuban ebichu',\n",
       " 'nekojiru gekijou jirujiru original',\n",
       " 'mazinkaiser',\n",
       " 'touch',\n",
       " 'shakugan no shana-tan',\n",
       " 'kishin houkou demonbane (tv)',\n",
       " 'chou denji robo combattler v',\n",
       " 'chou denji machine voltes v',\n",
       " 'love get chu',\n",
       " 'memories off #5 togireta film the animation',\n",
       " 'sweat punch',\n",
       " 'naruto narutimate hero 3: tsuini gekitotsu! jounin vs. genin!! musabetsu dairansen taikai kaisai!!',\n",
       " 'netrun-mon the movie',\n",
       " 'wizardry',\n",
       " 'cardcaptor sakura: kero-chan ni omakase!',\n",
       " 'armitage iii',\n",
       " 'sentou yousei yukikaze',\n",
       " 'space pirate captain herlock: outside legend - the endless odyssey',\n",
       " 'hikari to mizu no daphne',\n",
       " 'human crossing',\n",
       " \"i''s\",\n",
       " 'interlude',\n",
       " 'kenran butou sai: the mars daybreak',\n",
       " 'kimagure orange☆road',\n",
       " 'macross',\n",
       " 'macross: do you remember love?',\n",
       " 'mobile suit gundam i',\n",
       " 'mobile suit gundam ii: soldiers of sorrow',\n",
       " 'mobile suit gundam iii: encounters in space',\n",
       " 'oishinbo',\n",
       " 'one piece: umi no heso no daibouken-hen',\n",
       " 'kidou keisatsu patlabor the movie',\n",
       " 'kidou keisatsu patlabor 2 the movie',\n",
       " 'lime-iro senkitan',\n",
       " 'samurai girl real bout high school',\n",
       " 'shadow skill: kurudaryuu kousatsuhou no himitsu',\n",
       " 'soreyuke! uchuu senkan yamamoto yohko',\n",
       " 'tenchi muyou! manatsu no eve',\n",
       " 'urda',\n",
       " 'shinkon gattai godannar!!',\n",
       " 'shinkon gattai godannar!! 2nd season',\n",
       " 'digital juice',\n",
       " 'eikyuu kazoku',\n",
       " 'youjuu toshi',\n",
       " 'senkaiden houshin engi',\n",
       " 'monster extra: hottan',\n",
       " 'mermaid melody pichi pichi pitch pure',\n",
       " 'vandread: gekitou-hen',\n",
       " 'vandread: taidou-hen',\n",
       " 'handsome girl',\n",
       " 'junkers come here',\n",
       " 'pokemon movie 02: maboroshi no pokemon lugia bakutan',\n",
       " 'pokemon movie 03: kesshoutou no teiou entei',\n",
       " 'pokemon movie 04: celebi toki wo koeta deai',\n",
       " 'pokemon movie 05: mizu no miyako no mamorigami latias to latios',\n",
       " 'pokemon movie 06: nanayo no negaiboshi jirachi',\n",
       " 'pokemon movie 07: rekkuu no houmonsha deoxys',\n",
       " 'bouken ou beet excellion',\n",
       " 'seikai no danshou: tanjou',\n",
       " 'figure 17: tsubasa & hikaru',\n",
       " 'ufo princess valkyrie',\n",
       " 'ufo princess valkyrie 2: juunigatsu no yasoukyoku',\n",
       " 'ufo princess valkyrie: shichiten battou hanayome shuugyou',\n",
       " 'windaria',\n",
       " 'digimon frontier',\n",
       " 'tenchi muyou! gxp',\n",
       " 'munto: toki no kabe wo koete',\n",
       " 'betterman',\n",
       " ...]"
      ]
     },
     "execution_count": 122,
     "metadata": {},
     "output_type": "execute_result"
    }
   ],
   "source": [
    "anime_names_list_lower"
   ]
  },
  {
   "cell_type": "code",
   "execution_count": 123,
   "id": "c95fdd2e",
   "metadata": {},
   "outputs": [
    {
     "data": {
      "text/plain": [
       "True"
      ]
     },
     "execution_count": 123,
     "metadata": {},
     "output_type": "execute_result"
    }
   ],
   "source": [
    "keywords_input_lower[0] in anime_names_list_lower"
   ]
  },
  {
   "cell_type": "code",
   "execution_count": 125,
   "id": "38377d3c",
   "metadata": {},
   "outputs": [
    {
     "data": {
      "text/plain": [
       "'cowboy Bebop'"
      ]
     },
     "execution_count": 125,
     "metadata": {},
     "output_type": "execute_result"
    }
   ],
   "source": [
    "keywords_input[keywords_input.index(keywords_input[0])]"
   ]
  },
  {
   "cell_type": "code",
   "execution_count": 130,
   "id": "f8d792c0",
   "metadata": {
    "scrolled": true
   },
   "outputs": [
    {
     "data": {
      "text/plain": [
       "'cowboy bebop'"
      ]
     },
     "execution_count": 130,
     "metadata": {},
     "output_type": "execute_result"
    }
   ],
   "source": [
    "keywords_input_lower[0]"
   ]
  },
  {
   "cell_type": "code",
   "execution_count": 133,
   "id": "8d2c8ae1",
   "metadata": {
    "scrolled": true
   },
   "outputs": [
    {
     "data": {
      "text/plain": [
       "0"
      ]
     },
     "execution_count": 133,
     "metadata": {},
     "output_type": "execute_result"
    }
   ],
   "source": [
    "keywords_input_lower.index(keywords_input_lower[0])"
   ]
  },
  {
   "cell_type": "code",
   "execution_count": null,
   "id": "1e52fd88",
   "metadata": {},
   "outputs": [],
   "source": []
  },
  {
   "cell_type": "code",
   "execution_count": null,
   "id": "84c76fe4",
   "metadata": {},
   "outputs": [],
   "source": []
  },
  {
   "cell_type": "code",
   "execution_count": null,
   "id": "1af3b32d",
   "metadata": {},
   "outputs": [],
   "source": []
  },
  {
   "cell_type": "code",
   "execution_count": null,
   "id": "4082640c",
   "metadata": {},
   "outputs": [],
   "source": []
  },
  {
   "cell_type": "code",
   "execution_count": 124,
   "id": "e45d7342",
   "metadata": {},
   "outputs": [
    {
     "data": {
      "text/plain": [
       "0"
      ]
     },
     "execution_count": 124,
     "metadata": {},
     "output_type": "execute_result"
    }
   ],
   "source": [
    "keywords_input.index(keywords_input[0])"
   ]
  },
  {
   "cell_type": "code",
   "execution_count": 128,
   "id": "c6734a38",
   "metadata": {},
   "outputs": [
    {
     "data": {
      "text/plain": [
       "True"
      ]
     },
     "execution_count": 128,
     "metadata": {},
     "output_type": "execute_result"
    }
   ],
   "source": [
    "anime_names_list[0] in anime_names_list"
   ]
  },
  {
   "cell_type": "code",
   "execution_count": null,
   "id": "95c0b285",
   "metadata": {},
   "outputs": [],
   "source": []
  }
 ],
 "metadata": {
  "kernelspec": {
   "display_name": "anime_map",
   "language": "python",
   "name": "anime_map"
  },
  "language_info": {
   "codemirror_mode": {
    "name": "ipython",
    "version": 3
   },
   "file_extension": ".py",
   "mimetype": "text/x-python",
   "name": "python",
   "nbconvert_exporter": "python",
   "pygments_lexer": "ipython3",
   "version": "3.9.6"
  },
  "toc": {
   "base_numbering": 1,
   "nav_menu": {},
   "number_sections": true,
   "sideBar": true,
   "skip_h1_title": false,
   "title_cell": "Table of Contents",
   "title_sidebar": "Contents",
   "toc_cell": false,
   "toc_position": {},
   "toc_section_display": true,
   "toc_window_display": false
  }
 },
 "nbformat": 4,
 "nbformat_minor": 5
}
