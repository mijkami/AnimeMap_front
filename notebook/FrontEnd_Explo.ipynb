{
 "cells": [
  {
   "cell_type": "markdown",
   "id": "8d268201",
   "metadata": {},
   "source": [
    "Bare minimum for \n",
    "- consumption of model.joblib\n",
    "- export of properly formatted .json"
   ]
  },
  {
   "cell_type": "markdown",
   "id": "3c8348b9",
   "metadata": {},
   "source": [
    "# imports"
   ]
  },
  {
   "cell_type": "code",
   "execution_count": 1,
   "id": "972e3d34",
   "metadata": {},
   "outputs": [],
   "source": [
    "import streamlit as st\n",
    "import requests\n",
    "import numpy as np\n",
    "import pandas as pd"
   ]
  },
  {
   "cell_type": "code",
   "execution_count": 23,
   "id": "770e488d",
   "metadata": {},
   "outputs": [],
   "source": [
    "# needs to run an api from AnimeList_API repo on github\n",
    "url_api ='http://0.0.0.0:8000/predict'"
   ]
  },
  {
   "cell_type": "markdown",
   "id": "4eb729a3",
   "metadata": {},
   "source": [
    "# get and show data from api"
   ]
  },
  {
   "cell_type": "markdown",
   "id": "03f55085",
   "metadata": {},
   "source": [
    "## get data "
   ]
  },
  {
   "cell_type": "code",
   "execution_count": 5,
   "id": "a73ed824",
   "metadata": {},
   "outputs": [],
   "source": [
    "anime_input = 'Naruto'\n",
    "predict_size_input = 10\n",
    "model_input = 'notation'\n",
    "params = {\n",
    "    'anime' : anime_input,\n",
    "    'length' : predict_size_input,\n",
    "    'model' : model_input\n",
    "}\n",
    "\n",
    "response = requests.get(url_api, params=params).json()\n",
    "prediction = response['prediction']"
   ]
  },
  {
   "cell_type": "code",
   "execution_count": 6,
   "id": "e06f6a80",
   "metadata": {},
   "outputs": [
    {
     "data": {
      "text/plain": [
       "{'Naruto: Shippuuden': 0.16479568859309957,\n",
       " 'Death Note': 0.28978191191199754,\n",
       " 'Bleach': 0.31862997487679345,\n",
       " 'Shingeki no Kyojin': 0.3200006084059118,\n",
       " 'Fullmetal Alchemist: Brotherhood': 0.34244184214998474,\n",
       " 'Sword Art Online': 0.3471770420949094,\n",
       " 'Code Geass: Hangyaku no Lelouch': 0.36965757726627224,\n",
       " 'One Punch Man': 0.37465993577686285,\n",
       " 'Tokyo Ghoul': 0.3842327761099542,\n",
       " 'Fairy Tail': 0.38772256888731504}"
      ]
     },
     "execution_count": 6,
     "metadata": {},
     "output_type": "execute_result"
    }
   ],
   "source": [
    "prediction"
   ]
  },
  {
   "cell_type": "code",
   "execution_count": 10,
   "id": "c3e69e00",
   "metadata": {},
   "outputs": [
    {
     "data": {
      "text/plain": [
       "dict"
      ]
     },
     "execution_count": 10,
     "metadata": {},
     "output_type": "execute_result"
    }
   ],
   "source": [
    "type(prediction)"
   ]
  },
  {
   "cell_type": "markdown",
   "id": "0b791408",
   "metadata": {},
   "source": [
    "## convert dict from json to list"
   ]
  },
  {
   "cell_type": "code",
   "execution_count": 17,
   "id": "bcd01201",
   "metadata": {},
   "outputs": [],
   "source": [
    "def convert_dict_to_list(dict):\n",
    "    temp = []\n",
    "    dictList = []\n",
    "    for key, value in dict.items():\n",
    "        temp = [key,value]\n",
    "        dictList.append(temp)\n",
    "    return dictList"
   ]
  },
  {
   "cell_type": "code",
   "execution_count": 18,
   "id": "27303675",
   "metadata": {},
   "outputs": [],
   "source": [
    "prediction_convert = convert_dict_to_list(prediction)"
   ]
  },
  {
   "cell_type": "code",
   "execution_count": 21,
   "id": "950b7c11",
   "metadata": {},
   "outputs": [
    {
     "data": {
      "text/plain": [
       "[['Naruto: Shippuuden', 0.16479568859309957],\n",
       " ['Death Note', 0.28978191191199754],\n",
       " ['Bleach', 0.31862997487679345],\n",
       " ['Shingeki no Kyojin', 0.3200006084059118],\n",
       " ['Fullmetal Alchemist: Brotherhood', 0.34244184214998474],\n",
       " ['Sword Art Online', 0.3471770420949094],\n",
       " ['Code Geass: Hangyaku no Lelouch', 0.36965757726627224],\n",
       " ['One Punch Man', 0.37465993577686285],\n",
       " ['Tokyo Ghoul', 0.3842327761099542],\n",
       " ['Fairy Tail', 0.38772256888731504]]"
      ]
     },
     "execution_count": 21,
     "metadata": {},
     "output_type": "execute_result"
    }
   ],
   "source": [
    "prediction_convert"
   ]
  },
  {
   "cell_type": "markdown",
   "id": "1d9bc3d9",
   "metadata": {},
   "source": [
    "## print list properly"
   ]
  },
  {
   "cell_type": "code",
   "execution_count": 28,
   "id": "f9946b4b",
   "metadata": {},
   "outputs": [
    {
     "data": {
      "text/plain": [
       "'Naruto: Shippuuden'"
      ]
     },
     "execution_count": 28,
     "metadata": {},
     "output_type": "execute_result"
    }
   ],
   "source": [
    "prediction_convert[0][0]"
   ]
  },
  {
   "cell_type": "code",
   "execution_count": 31,
   "id": "d9dd638f",
   "metadata": {},
   "outputs": [
    {
     "data": {
      "text/plain": [
       "'Death Note'"
      ]
     },
     "execution_count": 31,
     "metadata": {},
     "output_type": "execute_result"
    }
   ],
   "source": [
    "prediction_convert[1][0]"
   ]
  },
  {
   "cell_type": "code",
   "execution_count": 34,
   "id": "1eda4471",
   "metadata": {},
   "outputs": [
    {
     "ename": "SyntaxError",
     "evalue": "Missing parentheses in call to 'print'. Did you mean print(prediction_convert[x], end=\" \")? (859047408.py, line 2)",
     "output_type": "error",
     "traceback": [
      "\u001b[0;36m  File \u001b[0;32m\"/tmp/ipykernel_38555/859047408.py\"\u001b[0;36m, line \u001b[0;32m2\u001b[0m\n\u001b[0;31m    print prediction_convert[x],\u001b[0m\n\u001b[0m          ^\u001b[0m\n\u001b[0;31mSyntaxError\u001b[0m\u001b[0;31m:\u001b[0m Missing parentheses in call to 'print'. Did you mean print(prediction_convert[x], end=\" \")?\n"
     ]
    }
   ],
   "source": [
    "for x in range(len(prediction_convert)):\n",
    "    print prediction_convert[x],"
   ]
  },
  {
   "cell_type": "code",
   "execution_count": 37,
   "id": "7754624d",
   "metadata": {},
   "outputs": [
    {
     "name": "stdout",
     "output_type": "stream",
     "text": [
      "['Naruto: Shippuuden', 0.16479568859309957] ['Death Note', 0.28978191191199754] ['Bleach', 0.31862997487679345] ['Shingeki no Kyojin', 0.3200006084059118] ['Fullmetal Alchemist: Brotherhood', 0.34244184214998474] ['Sword Art Online', 0.3471770420949094] ['Code Geass: Hangyaku no Lelouch', 0.36965757726627224] ['One Punch Man', 0.37465993577686285] ['Tokyo Ghoul', 0.3842327761099542] ['Fairy Tail', 0.38772256888731504]\n"
     ]
    }
   ],
   "source": [
    "print(' '.join(map(str, prediction_convert))) "
   ]
  },
  {
   "cell_type": "code",
   "execution_count": 40,
   "id": "fdf3f117",
   "metadata": {},
   "outputs": [
    {
     "ename": "AttributeError",
     "evalue": "'dict' object has no attribute 'index'",
     "output_type": "error",
     "traceback": [
      "\u001b[0;31m---------------------------------------------------------------------------\u001b[0m",
      "\u001b[0;31mAttributeError\u001b[0m                            Traceback (most recent call last)",
      "\u001b[0;32m/tmp/ipykernel_38555/490543220.py\u001b[0m in \u001b[0;36m<module>\u001b[0;34m\u001b[0m\n\u001b[0;32m----> 1\u001b[0;31m \u001b[0mprint\u001b[0m\u001b[0;34m(\u001b[0m\u001b[0mprediction\u001b[0m\u001b[0;34m.\u001b[0m\u001b[0mindex\u001b[0m\u001b[0;34m.\u001b[0m\u001b[0mtolist\u001b[0m\u001b[0;34m(\u001b[0m\u001b[0;34m)\u001b[0m\u001b[0;34m)\u001b[0m\u001b[0;34m\u001b[0m\u001b[0;34m\u001b[0m\u001b[0m\n\u001b[0m",
      "\u001b[0;31mAttributeError\u001b[0m: 'dict' object has no attribute 'index'"
     ]
    }
   ],
   "source": [
    "print(prediction.index.tolist())"
   ]
  },
  {
   "cell_type": "code",
   "execution_count": 62,
   "id": "d40effc3",
   "metadata": {
    "scrolled": true
   },
   "outputs": [
    {
     "ename": "TypeError",
     "evalue": "'list' object cannot be interpreted as an integer",
     "output_type": "error",
     "traceback": [
      "\u001b[0;31m---------------------------------------------------------------------------\u001b[0m",
      "\u001b[0;31mTypeError\u001b[0m                                 Traceback (most recent call last)",
      "\u001b[0;32m/tmp/ipykernel_38555/2972921836.py\u001b[0m in \u001b[0;36m<module>\u001b[0;34m\u001b[0m\n\u001b[0;32m----> 1\u001b[0;31m \u001b[0mprint\u001b[0m\u001b[0;34m(\u001b[0m\u001b[0mprediction_convert\u001b[0m\u001b[0;34m[\u001b[0m\u001b[0mi\u001b[0m\u001b[0;34m]\u001b[0m \u001b[0;32mfor\u001b[0m \u001b[0mi\u001b[0m \u001b[0;32min\u001b[0m \u001b[0mrange\u001b[0m\u001b[0;34m(\u001b[0m\u001b[0;36m0\u001b[0m\u001b[0;34m,\u001b[0m \u001b[0mprediction_convert\u001b[0m\u001b[0;34m)\u001b[0m\u001b[0;34m)\u001b[0m\u001b[0;34m\u001b[0m\u001b[0;34m\u001b[0m\u001b[0m\n\u001b[0m",
      "\u001b[0;31mTypeError\u001b[0m: 'list' object cannot be interpreted as an integer"
     ]
    }
   ],
   "source": [
    "print(prediction_convert[i] for i in range(0, prediction_convert))"
   ]
  },
  {
   "cell_type": "code",
   "execution_count": 71,
   "id": "bd8363fe",
   "metadata": {},
   "outputs": [
    {
     "name": "stdout",
     "output_type": "stream",
     "text": [
      "Naruto: Shippuuden\n",
      "Death Note\n",
      "Bleach\n",
      "Shingeki no Kyojin\n",
      "Fullmetal Alchemist: Brotherhood\n",
      "Sword Art Online\n",
      "Code Geass: Hangyaku no Lelouch\n",
      "One Punch Man\n",
      "Tokyo Ghoul\n",
      "Fairy Tail\n"
     ]
    }
   ],
   "source": [
    "for i in range(len(prediction_convert)):\n",
    "    print(prediction_convert[i][0])"
   ]
  },
  {
   "cell_type": "code",
   "execution_count": 75,
   "id": "f8e59e68",
   "metadata": {},
   "outputs": [
    {
     "data": {
      "text/plain": [
       "['Naruto: Shippuuden',\n",
       " 'Death Note',\n",
       " 'Bleach',\n",
       " 'Shingeki no Kyojin',\n",
       " 'Fullmetal Alchemist: Brotherhood',\n",
       " 'Sword Art Online',\n",
       " 'Code Geass: Hangyaku no Lelouch',\n",
       " 'One Punch Man',\n",
       " 'Tokyo Ghoul',\n",
       " 'Fairy Tail']"
      ]
     },
     "execution_count": 75,
     "metadata": {},
     "output_type": "execute_result"
    }
   ],
   "source": [
    "[prediction_convert[i][0] for i in range(len(prediction_convert))]"
   ]
  },
  {
   "cell_type": "code",
   "execution_count": null,
   "id": "fbf29795",
   "metadata": {},
   "outputs": [],
   "source": []
  },
  {
   "cell_type": "code",
   "execution_count": 52,
   "id": "639d0ee2",
   "metadata": {},
   "outputs": [
    {
     "name": "stdout",
     "output_type": "stream",
     "text": [
      "[0, 1, 4, 9, 16, 25, 36, 49, 64, 81]\n"
     ]
    }
   ],
   "source": [
    "print([i**2 for i in range(10)])"
   ]
  },
  {
   "cell_type": "code",
   "execution_count": null,
   "id": "91aacf4f",
   "metadata": {},
   "outputs": [],
   "source": []
  }
 ],
 "metadata": {
  "kernelspec": {
   "display_name": "anime_map",
   "language": "python",
   "name": "anime_map"
  },
  "language_info": {
   "codemirror_mode": {
    "name": "ipython",
    "version": 3
   },
   "file_extension": ".py",
   "mimetype": "text/x-python",
   "name": "python",
   "nbconvert_exporter": "python",
   "pygments_lexer": "ipython3",
   "version": "3.9.6"
  },
  "toc": {
   "base_numbering": 1,
   "nav_menu": {},
   "number_sections": true,
   "sideBar": true,
   "skip_h1_title": false,
   "title_cell": "Table of Contents",
   "title_sidebar": "Contents",
   "toc_cell": false,
   "toc_position": {},
   "toc_section_display": true,
   "toc_window_display": false
  }
 },
 "nbformat": 4,
 "nbformat_minor": 5
}
