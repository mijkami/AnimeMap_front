{
 "cells": [
  {
   "cell_type": "markdown",
   "id": "8d268201",
   "metadata": {},
   "source": [
    "Bare minimum for \n",
    "- consumption of model.joblib\n",
    "- export of properly formatted .json"
   ]
  },
  {
   "cell_type": "markdown",
   "id": "3c8348b9",
   "metadata": {},
   "source": [
    "# imports"
   ]
  },
  {
   "cell_type": "code",
   "execution_count": 2,
   "id": "972e3d34",
   "metadata": {},
   "outputs": [],
   "source": [
    "import streamlit as st\n",
    "import requests\n",
    "import numpy as np\n",
    "import pandas as pd"
   ]
  },
  {
   "cell_type": "code",
   "execution_count": 23,
   "id": "770e488d",
   "metadata": {},
   "outputs": [],
   "source": [
    "# needs to run an api from AnimeList_API repo on github\n",
    "url_api ='http://0.0.0.0:8000/predict'"
   ]
  },
  {
   "cell_type": "markdown",
   "id": "4eb729a3",
   "metadata": {},
   "source": [
    "# get and show data from api"
   ]
  },
  {
   "cell_type": "markdown",
   "id": "27cc73d6",
   "metadata": {},
   "source": [
    "## get data "
   ]
  },
  {
   "cell_type": "code",
   "execution_count": 5,
   "id": "a73ed824",
   "metadata": {},
   "outputs": [],
   "source": [
    "anime_input = 'Naruto'\n",
    "predict_size_input = 10\n",
    "model_input = 'notation'\n",
    "params = {\n",
    "    'anime' : anime_input,\n",
    "    'length' : predict_size_input,\n",
    "    'model' : model_input\n",
    "}\n",
    "\n",
    "response = requests.get(url_api, params=params).json()\n",
    "prediction = response['prediction']"
   ]
  },
  {
   "cell_type": "code",
   "execution_count": 6,
   "id": "e06f6a80",
   "metadata": {},
   "outputs": [
    {
     "data": {
      "text/plain": [
       "{'Naruto: Shippuuden': 0.16479568859309957,\n",
       " 'Death Note': 0.28978191191199754,\n",
       " 'Bleach': 0.31862997487679345,\n",
       " 'Shingeki no Kyojin': 0.3200006084059118,\n",
       " 'Fullmetal Alchemist: Brotherhood': 0.34244184214998474,\n",
       " 'Sword Art Online': 0.3471770420949094,\n",
       " 'Code Geass: Hangyaku no Lelouch': 0.36965757726627224,\n",
       " 'One Punch Man': 0.37465993577686285,\n",
       " 'Tokyo Ghoul': 0.3842327761099542,\n",
       " 'Fairy Tail': 0.38772256888731504}"
      ]
     },
     "execution_count": 6,
     "metadata": {},
     "output_type": "execute_result"
    }
   ],
   "source": [
    "prediction"
   ]
  },
  {
   "cell_type": "code",
   "execution_count": 10,
   "id": "2f4f69a1",
   "metadata": {},
   "outputs": [
    {
     "data": {
      "text/plain": [
       "dict"
      ]
     },
     "execution_count": 10,
     "metadata": {},
     "output_type": "execute_result"
    }
   ],
   "source": [
    "type(prediction)"
   ]
  },
  {
   "cell_type": "markdown",
   "id": "7a8dfe7c",
   "metadata": {},
   "source": [
    "## convert dict from json to list"
   ]
  },
  {
   "cell_type": "code",
   "execution_count": 17,
   "id": "37f69d22",
   "metadata": {},
   "outputs": [],
   "source": [
    "def convert_dict_to_list(dict):\n",
    "    temp = []\n",
    "    dictList = []\n",
    "    for key, value in dict.items():\n",
    "        temp = [key,value]\n",
    "        dictList.append(temp)\n",
    "    return dictList"
   ]
  },
  {
   "cell_type": "code",
   "execution_count": 18,
   "id": "b2c74e53",
   "metadata": {},
   "outputs": [],
   "source": [
    "prediction_convert = convert_dict_to_list(prediction)"
   ]
  },
  {
   "cell_type": "code",
   "execution_count": 21,
   "id": "0e5a3ce8",
   "metadata": {},
   "outputs": [
    {
     "data": {
      "text/plain": [
       "[['Naruto: Shippuuden', 0.16479568859309957],\n",
       " ['Death Note', 0.28978191191199754],\n",
       " ['Bleach', 0.31862997487679345],\n",
       " ['Shingeki no Kyojin', 0.3200006084059118],\n",
       " ['Fullmetal Alchemist: Brotherhood', 0.34244184214998474],\n",
       " ['Sword Art Online', 0.3471770420949094],\n",
       " ['Code Geass: Hangyaku no Lelouch', 0.36965757726627224],\n",
       " ['One Punch Man', 0.37465993577686285],\n",
       " ['Tokyo Ghoul', 0.3842327761099542],\n",
       " ['Fairy Tail', 0.38772256888731504]]"
      ]
     },
     "execution_count": 21,
     "metadata": {},
     "output_type": "execute_result"
    }
   ],
   "source": [
    "prediction_convert"
   ]
  },
  {
   "cell_type": "markdown",
   "id": "11440708",
   "metadata": {},
   "source": [
    "## print list properly"
   ]
  },
  {
   "cell_type": "code",
   "execution_count": 28,
   "id": "1adc2b71",
   "metadata": {},
   "outputs": [
    {
     "data": {
      "text/plain": [
       "'Naruto: Shippuuden'"
      ]
     },
     "execution_count": 28,
     "metadata": {},
     "output_type": "execute_result"
    }
   ],
   "source": [
    "prediction_convert[0][0]"
   ]
  },
  {
   "cell_type": "code",
   "execution_count": 31,
   "id": "95a126b7",
   "metadata": {},
   "outputs": [
    {
     "data": {
      "text/plain": [
       "'Death Note'"
      ]
     },
     "execution_count": 31,
     "metadata": {},
     "output_type": "execute_result"
    }
   ],
   "source": [
    "prediction_convert[1][0]"
   ]
  },
  {
   "cell_type": "code",
   "execution_count": 34,
   "id": "2a0527b6",
   "metadata": {},
   "outputs": [
    {
     "ename": "SyntaxError",
     "evalue": "Missing parentheses in call to 'print'. Did you mean print(prediction_convert[x], end=\" \")? (859047408.py, line 2)",
     "output_type": "error",
     "traceback": [
      "\u001b[0;36m  File \u001b[0;32m\"/tmp/ipykernel_38555/859047408.py\"\u001b[0;36m, line \u001b[0;32m2\u001b[0m\n\u001b[0;31m    print prediction_convert[x],\u001b[0m\n\u001b[0m          ^\u001b[0m\n\u001b[0;31mSyntaxError\u001b[0m\u001b[0;31m:\u001b[0m Missing parentheses in call to 'print'. Did you mean print(prediction_convert[x], end=\" \")?\n"
     ]
    }
   ],
   "source": [
    "for x in range(len(prediction_convert)):\n",
    "    print prediction_convert[x],"
   ]
  },
  {
   "cell_type": "code",
   "execution_count": 37,
   "id": "e8fe3106",
   "metadata": {},
   "outputs": [
    {
     "name": "stdout",
     "output_type": "stream",
     "text": [
      "['Naruto: Shippuuden', 0.16479568859309957] ['Death Note', 0.28978191191199754] ['Bleach', 0.31862997487679345] ['Shingeki no Kyojin', 0.3200006084059118] ['Fullmetal Alchemist: Brotherhood', 0.34244184214998474] ['Sword Art Online', 0.3471770420949094] ['Code Geass: Hangyaku no Lelouch', 0.36965757726627224] ['One Punch Man', 0.37465993577686285] ['Tokyo Ghoul', 0.3842327761099542] ['Fairy Tail', 0.38772256888731504]\n"
     ]
    }
   ],
   "source": [
    "print(' '.join(map(str, prediction_convert))) "
   ]
  },
  {
   "cell_type": "code",
   "execution_count": 40,
   "id": "02594707",
   "metadata": {},
   "outputs": [
    {
     "ename": "AttributeError",
     "evalue": "'dict' object has no attribute 'index'",
     "output_type": "error",
     "traceback": [
      "\u001b[0;31m---------------------------------------------------------------------------\u001b[0m",
      "\u001b[0;31mAttributeError\u001b[0m                            Traceback (most recent call last)",
      "\u001b[0;32m/tmp/ipykernel_38555/490543220.py\u001b[0m in \u001b[0;36m<module>\u001b[0;34m\u001b[0m\n\u001b[0;32m----> 1\u001b[0;31m \u001b[0mprint\u001b[0m\u001b[0;34m(\u001b[0m\u001b[0mprediction\u001b[0m\u001b[0;34m.\u001b[0m\u001b[0mindex\u001b[0m\u001b[0;34m.\u001b[0m\u001b[0mtolist\u001b[0m\u001b[0;34m(\u001b[0m\u001b[0;34m)\u001b[0m\u001b[0;34m)\u001b[0m\u001b[0;34m\u001b[0m\u001b[0;34m\u001b[0m\u001b[0m\n\u001b[0m",
      "\u001b[0;31mAttributeError\u001b[0m: 'dict' object has no attribute 'index'"
     ]
    }
   ],
   "source": [
    "print(prediction.index.tolist())"
   ]
  },
  {
   "cell_type": "code",
   "execution_count": 62,
   "id": "d0b75595",
   "metadata": {
    "scrolled": true
   },
   "outputs": [
    {
     "ename": "TypeError",
     "evalue": "'list' object cannot be interpreted as an integer",
     "output_type": "error",
     "traceback": [
      "\u001b[0;31m---------------------------------------------------------------------------\u001b[0m",
      "\u001b[0;31mTypeError\u001b[0m                                 Traceback (most recent call last)",
      "\u001b[0;32m/tmp/ipykernel_38555/2972921836.py\u001b[0m in \u001b[0;36m<module>\u001b[0;34m\u001b[0m\n\u001b[0;32m----> 1\u001b[0;31m \u001b[0mprint\u001b[0m\u001b[0;34m(\u001b[0m\u001b[0mprediction_convert\u001b[0m\u001b[0;34m[\u001b[0m\u001b[0mi\u001b[0m\u001b[0;34m]\u001b[0m \u001b[0;32mfor\u001b[0m \u001b[0mi\u001b[0m \u001b[0;32min\u001b[0m \u001b[0mrange\u001b[0m\u001b[0;34m(\u001b[0m\u001b[0;36m0\u001b[0m\u001b[0;34m,\u001b[0m \u001b[0mprediction_convert\u001b[0m\u001b[0;34m)\u001b[0m\u001b[0;34m)\u001b[0m\u001b[0;34m\u001b[0m\u001b[0;34m\u001b[0m\u001b[0m\n\u001b[0m",
      "\u001b[0;31mTypeError\u001b[0m: 'list' object cannot be interpreted as an integer"
     ]
    }
   ],
   "source": [
    "print(prediction_convert[i] for i in range(0, prediction_convert))"
   ]
  },
  {
   "cell_type": "code",
   "execution_count": 71,
   "id": "50685455",
   "metadata": {},
   "outputs": [
    {
     "name": "stdout",
     "output_type": "stream",
     "text": [
      "Naruto: Shippuuden\n",
      "Death Note\n",
      "Bleach\n",
      "Shingeki no Kyojin\n",
      "Fullmetal Alchemist: Brotherhood\n",
      "Sword Art Online\n",
      "Code Geass: Hangyaku no Lelouch\n",
      "One Punch Man\n",
      "Tokyo Ghoul\n",
      "Fairy Tail\n"
     ]
    }
   ],
   "source": [
    "for i in range(len(prediction_convert)):\n",
    "    print(prediction_convert[i][0])"
   ]
  },
  {
   "cell_type": "code",
   "execution_count": 87,
   "id": "7e5bd2e8",
   "metadata": {},
   "outputs": [],
   "source": [
    "prediction_list_names = [prediction_convert[i][0] for i in range(len(prediction_convert))]"
   ]
  },
  {
   "cell_type": "code",
   "execution_count": 88,
   "id": "bee47041",
   "metadata": {},
   "outputs": [
    {
     "data": {
      "text/plain": [
       "['Naruto: Shippuuden',\n",
       " 'Death Note',\n",
       " 'Bleach',\n",
       " 'Shingeki no Kyojin',\n",
       " 'Fullmetal Alchemist: Brotherhood',\n",
       " 'Sword Art Online',\n",
       " 'Code Geass: Hangyaku no Lelouch',\n",
       " 'One Punch Man',\n",
       " 'Tokyo Ghoul',\n",
       " 'Fairy Tail']"
      ]
     },
     "execution_count": 88,
     "metadata": {},
     "output_type": "execute_result"
    }
   ],
   "source": [
    "prediction_list_names"
   ]
  },
  {
   "cell_type": "code",
   "execution_count": null,
   "id": "fa448b18",
   "metadata": {},
   "outputs": [],
   "source": [
    "# print list elements\n",
    "# https://stackoverflow.com/questions/15769246/pythonic-way-to-print-list-items"
   ]
  },
  {
   "cell_type": "code",
   "execution_count": 89,
   "id": "78d3d732",
   "metadata": {},
   "outputs": [
    {
     "name": "stdout",
     "output_type": "stream",
     "text": [
      "Naruto: Shippuuden\n",
      "Death Note\n",
      "Bleach\n",
      "Shingeki no Kyojin\n",
      "Fullmetal Alchemist: Brotherhood\n",
      "Sword Art Online\n",
      "Code Geass: Hangyaku no Lelouch\n",
      "One Punch Man\n",
      "Tokyo Ghoul\n",
      "Fairy Tail\n"
     ]
    }
   ],
   "source": [
    "print(*prediction_list_names, sep='\\n')"
   ]
  },
  {
   "cell_type": "code",
   "execution_count": 90,
   "id": "2cebe159",
   "metadata": {},
   "outputs": [
    {
     "name": "stdout",
     "output_type": "stream",
     "text": [
      "Naruto: Shippuuden\n",
      "Death Note\n",
      "Bleach\n",
      "Shingeki no Kyojin\n",
      "Fullmetal Alchemist: Brotherhood\n",
      "Sword Art Online\n",
      "Code Geass: Hangyaku no Lelouch\n",
      "One Punch Man\n",
      "Tokyo Ghoul\n",
      "Fairy Tail\n"
     ]
    }
   ],
   "source": [
    "for p in prediction_list_names: print(p)"
   ]
  },
  {
   "cell_type": "code",
   "execution_count": 94,
   "id": "8f7037ed",
   "metadata": {},
   "outputs": [
    {
     "name": "stdout",
     "output_type": "stream",
     "text": [
      "Naruto: Shippuuden\n",
      "Death Note\n",
      "Bleach\n",
      "Shingeki no Kyojin\n",
      "Fullmetal Alchemist: Brotherhood\n",
      "Sword Art Online\n",
      "Code Geass: Hangyaku no Lelouch\n",
      "One Punch Man\n",
      "Tokyo Ghoul\n",
      "Fairy Tail\n"
     ]
    }
   ],
   "source": [
    "print('\\n'.join(str(p) for p in prediction_list_names))"
   ]
  },
  {
   "cell_type": "code",
   "execution_count": 95,
   "id": "8421c75a",
   "metadata": {},
   "outputs": [
    {
     "data": {
      "text/plain": [
       "'Naruto: Shippuuden\\nDeath Note\\nBleach\\nShingeki no Kyojin\\nFullmetal Alchemist: Brotherhood\\nSword Art Online\\nCode Geass: Hangyaku no Lelouch\\nOne Punch Man\\nTokyo Ghoul\\nFairy Tail'"
      ]
     },
     "execution_count": 95,
     "metadata": {},
     "output_type": "execute_result"
    }
   ],
   "source": [
    "'\\n'.join(str(p) for p in prediction_list_names)"
   ]
  },
  {
   "cell_type": "code",
   "execution_count": 97,
   "id": "f0ed04f1",
   "metadata": {},
   "outputs": [],
   "source": [
    "prediction_list_names_df = pd.DataFrame(prediction_list_names)"
   ]
  },
  {
   "cell_type": "code",
   "execution_count": 98,
   "id": "3184e729",
   "metadata": {},
   "outputs": [
    {
     "data": {
      "text/html": [
       "<div>\n",
       "<style scoped>\n",
       "    .dataframe tbody tr th:only-of-type {\n",
       "        vertical-align: middle;\n",
       "    }\n",
       "\n",
       "    .dataframe tbody tr th {\n",
       "        vertical-align: top;\n",
       "    }\n",
       "\n",
       "    .dataframe thead th {\n",
       "        text-align: right;\n",
       "    }\n",
       "</style>\n",
       "<table border=\"1\" class=\"dataframe\">\n",
       "  <thead>\n",
       "    <tr style=\"text-align: right;\">\n",
       "      <th></th>\n",
       "      <th>0</th>\n",
       "    </tr>\n",
       "  </thead>\n",
       "  <tbody>\n",
       "    <tr>\n",
       "      <th>0</th>\n",
       "      <td>Naruto: Shippuuden</td>\n",
       "    </tr>\n",
       "    <tr>\n",
       "      <th>1</th>\n",
       "      <td>Death Note</td>\n",
       "    </tr>\n",
       "    <tr>\n",
       "      <th>2</th>\n",
       "      <td>Bleach</td>\n",
       "    </tr>\n",
       "    <tr>\n",
       "      <th>3</th>\n",
       "      <td>Shingeki no Kyojin</td>\n",
       "    </tr>\n",
       "    <tr>\n",
       "      <th>4</th>\n",
       "      <td>Fullmetal Alchemist: Brotherhood</td>\n",
       "    </tr>\n",
       "    <tr>\n",
       "      <th>5</th>\n",
       "      <td>Sword Art Online</td>\n",
       "    </tr>\n",
       "    <tr>\n",
       "      <th>6</th>\n",
       "      <td>Code Geass: Hangyaku no Lelouch</td>\n",
       "    </tr>\n",
       "    <tr>\n",
       "      <th>7</th>\n",
       "      <td>One Punch Man</td>\n",
       "    </tr>\n",
       "    <tr>\n",
       "      <th>8</th>\n",
       "      <td>Tokyo Ghoul</td>\n",
       "    </tr>\n",
       "    <tr>\n",
       "      <th>9</th>\n",
       "      <td>Fairy Tail</td>\n",
       "    </tr>\n",
       "  </tbody>\n",
       "</table>\n",
       "</div>"
      ],
      "text/plain": [
       "                                  0\n",
       "0                Naruto: Shippuuden\n",
       "1                        Death Note\n",
       "2                            Bleach\n",
       "3                Shingeki no Kyojin\n",
       "4  Fullmetal Alchemist: Brotherhood\n",
       "5                  Sword Art Online\n",
       "6   Code Geass: Hangyaku no Lelouch\n",
       "7                     One Punch Man\n",
       "8                       Tokyo Ghoul\n",
       "9                        Fairy Tail"
      ]
     },
     "execution_count": 98,
     "metadata": {},
     "output_type": "execute_result"
    }
   ],
   "source": [
    "prediction_list_names_df"
   ]
  },
  {
   "cell_type": "code",
   "execution_count": 101,
   "id": "2eecb3cd",
   "metadata": {},
   "outputs": [
    {
     "data": {
      "text/plain": [
       "[0, 1, 2, 3, 4, 5, 6, 7, 8, 9]"
      ]
     },
     "execution_count": 101,
     "metadata": {},
     "output_type": "execute_result"
    }
   ],
   "source": [
    "prediction_list_names_df.index.tolist()"
   ]
  },
  {
   "cell_type": "code",
   "execution_count": 104,
   "id": "7d5331b0",
   "metadata": {},
   "outputs": [
    {
     "name": "stdout",
     "output_type": "stream",
     "text": [
      "- Naruto: Shippuuden\n",
      "- Death Note\n",
      "- Bleach\n",
      "- Shingeki no Kyojin\n",
      "- Fullmetal Alchemist: Brotherhood\n",
      "- Sword Art Online\n",
      "- Code Geass: Hangyaku no Lelouch\n",
      "- One Punch Man\n",
      "- Tokyo Ghoul\n",
      "- Fairy Tail\n"
     ]
    }
   ],
   "source": [
    "for row in prediction_list_names:\n",
    "    print(\"- \" + row)"
   ]
  },
  {
   "cell_type": "code",
   "execution_count": 99,
   "id": "1f3b6d41",
   "metadata": {},
   "outputs": [
    {
     "ename": "NameError",
     "evalue": "name 'df' is not defined",
     "output_type": "error",
     "traceback": [
      "\u001b[0;31m---------------------------------------------------------------------------\u001b[0m",
      "\u001b[0;31mNameError\u001b[0m                                 Traceback (most recent call last)",
      "\u001b[0;32m/tmp/ipykernel_38555/2286447974.py\u001b[0m in \u001b[0;36m<module>\u001b[0;34m\u001b[0m\n\u001b[0;32m----> 1\u001b[0;31m \u001b[0mst\u001b[0m\u001b[0;34m.\u001b[0m\u001b[0mmarkdown\u001b[0m\u001b[0;34m(\u001b[0m\u001b[0mdf\u001b[0m\u001b[0;34m.\u001b[0m\u001b[0mindex\u001b[0m\u001b[0;34m.\u001b[0m\u001b[0mtolist\u001b[0m\u001b[0;34m(\u001b[0m\u001b[0;34m)\u001b[0m\u001b[0;34m)\u001b[0m\u001b[0;34m\u001b[0m\u001b[0;34m\u001b[0m\u001b[0m\n\u001b[0m",
      "\u001b[0;31mNameError\u001b[0m: name 'df' is not defined"
     ]
    }
   ],
   "source": [
    "\n",
    "st.markdown(df.index.tolist())"
   ]
  },
  {
   "cell_type": "code",
   "execution_count": null,
   "id": "1c3e40fd",
   "metadata": {},
   "outputs": [],
   "source": []
  },
  {
   "cell_type": "code",
   "execution_count": 76,
   "id": "ad996b98",
   "metadata": {},
   "outputs": [],
   "source": [
    "def genre_to_anime(genre):\n",
    "    anime_output = \"\"\n",
    "    if genre == \"Battle Shounen\":\n",
    "        anime_output = \"Fullmetal Alchemist: Brotherhood\"\n",
    "    elif genre == \"Drama\":\n",
    "        anime_output = \"Kimi no Na wa.\"\n",
    "    elif genre == \"Romance\":\n",
    "        anime_output = \"Toradora\"\n",
    "    elif genre == \"Fantasy\":\n",
    "        anime_output = \"Little Witch Academia\"  \n",
    "    elif genre == \"Science-Fiction\":\n",
    "        anime_output = \"Cowboy Bebop\"   \n",
    "    elif genre == \"Robots\":\n",
    "        anime_output = \"Neon Genesis Evangelion\"   \n",
    "    elif genre == \"Slice of Life\":\n",
    "        anime_output = \"Aria the Animation\" \n",
    "\n",
    "    return anime_output"
   ]
  },
  {
   "cell_type": "code",
   "execution_count": 78,
   "id": "2e1d64af",
   "metadata": {},
   "outputs": [
    {
     "data": {
      "text/plain": [
       "'Cowboy Bebop'"
      ]
     },
     "execution_count": 78,
     "metadata": {},
     "output_type": "execute_result"
    }
   ],
   "source": [
    "genre_to_anime(\"Science-Fiction\")"
   ]
  },
  {
   "cell_type": "markdown",
   "id": "eb62cbd1",
   "metadata": {},
   "source": [
    "# Work on autocomplete form"
   ]
  },
  {
   "cell_type": "code",
   "execution_count": 4,
   "id": "faf7536e",
   "metadata": {},
   "outputs": [],
   "source": [
    "# get anime names information\n",
    "anime_names = pd.read_csv(\"../data/anime_map_data_animelist_100plus_PG_anime_name_pivot_df.csv\")"
   ]
  },
  {
   "cell_type": "code",
   "execution_count": 9,
   "id": "1e77d018",
   "metadata": {},
   "outputs": [
    {
     "data": {
      "text/plain": [
       "0                                          Cowboy Bebop\n",
       "1                       Cowboy Bebop: Tengoku no Tobira\n",
       "2                                                Trigun\n",
       "3                                    Witch Hunter Robin\n",
       "4                                        Bouken Ou Beet\n",
       "                              ...                      \n",
       "11043                     Kimetsu Gakuen: Valentine-hen\n",
       "11044                                         Heikousen\n",
       "11045      Nu Wushen de Canzhuo Spring Festival Special\n",
       "11046    Yakusoku no Neverland 2nd Season: Michishirube\n",
       "11047                               SK∞: Crazy Rock Jam\n",
       "Name: Name, Length: 11048, dtype: object"
      ]
     },
     "execution_count": 9,
     "metadata": {},
     "output_type": "execute_result"
    }
   ],
   "source": [
    "anime_names['Name']"
   ]
  },
  {
   "cell_type": "code",
   "execution_count": 8,
   "id": "2095fd4e",
   "metadata": {},
   "outputs": [
    {
     "data": {
      "text/html": [
       "<div>\n",
       "<style scoped>\n",
       "    .dataframe tbody tr th:only-of-type {\n",
       "        vertical-align: middle;\n",
       "    }\n",
       "\n",
       "    .dataframe tbody tr th {\n",
       "        vertical-align: top;\n",
       "    }\n",
       "\n",
       "    .dataframe thead th {\n",
       "        text-align: right;\n",
       "    }\n",
       "</style>\n",
       "<table border=\"1\" class=\"dataframe\">\n",
       "  <thead>\n",
       "    <tr style=\"text-align: right;\">\n",
       "      <th></th>\n",
       "      <th>anime_id</th>\n",
       "      <th>Name</th>\n",
       "    </tr>\n",
       "  </thead>\n",
       "  <tbody>\n",
       "    <tr>\n",
       "      <th>0</th>\n",
       "      <td>1</td>\n",
       "      <td>Cowboy Bebop</td>\n",
       "    </tr>\n",
       "    <tr>\n",
       "      <th>1</th>\n",
       "      <td>5</td>\n",
       "      <td>Cowboy Bebop: Tengoku no Tobira</td>\n",
       "    </tr>\n",
       "    <tr>\n",
       "      <th>2</th>\n",
       "      <td>6</td>\n",
       "      <td>Trigun</td>\n",
       "    </tr>\n",
       "    <tr>\n",
       "      <th>3</th>\n",
       "      <td>7</td>\n",
       "      <td>Witch Hunter Robin</td>\n",
       "    </tr>\n",
       "    <tr>\n",
       "      <th>4</th>\n",
       "      <td>8</td>\n",
       "      <td>Bouken Ou Beet</td>\n",
       "    </tr>\n",
       "    <tr>\n",
       "      <th>...</th>\n",
       "      <td>...</td>\n",
       "      <td>...</td>\n",
       "    </tr>\n",
       "    <tr>\n",
       "      <th>11043</th>\n",
       "      <td>47398</td>\n",
       "      <td>Kimetsu Gakuen: Valentine-hen</td>\n",
       "    </tr>\n",
       "    <tr>\n",
       "      <th>11044</th>\n",
       "      <td>47402</td>\n",
       "      <td>Heikousen</td>\n",
       "    </tr>\n",
       "    <tr>\n",
       "      <th>11045</th>\n",
       "      <td>47614</td>\n",
       "      <td>Nu Wushen de Canzhuo Spring Festival Special</td>\n",
       "    </tr>\n",
       "    <tr>\n",
       "      <th>11046</th>\n",
       "      <td>47616</td>\n",
       "      <td>Yakusoku no Neverland 2nd Season: Michishirube</td>\n",
       "    </tr>\n",
       "    <tr>\n",
       "      <th>11047</th>\n",
       "      <td>48456</td>\n",
       "      <td>SK∞: Crazy Rock Jam</td>\n",
       "    </tr>\n",
       "  </tbody>\n",
       "</table>\n",
       "<p>11048 rows × 2 columns</p>\n",
       "</div>"
      ],
      "text/plain": [
       "       anime_id                                            Name\n",
       "0             1                                    Cowboy Bebop\n",
       "1             5                 Cowboy Bebop: Tengoku no Tobira\n",
       "2             6                                          Trigun\n",
       "3             7                              Witch Hunter Robin\n",
       "4             8                                  Bouken Ou Beet\n",
       "...         ...                                             ...\n",
       "11043     47398                   Kimetsu Gakuen: Valentine-hen\n",
       "11044     47402                                       Heikousen\n",
       "11045     47614    Nu Wushen de Canzhuo Spring Festival Special\n",
       "11046     47616  Yakusoku no Neverland 2nd Season: Michishirube\n",
       "11047     48456                             SK∞: Crazy Rock Jam\n",
       "\n",
       "[11048 rows x 2 columns]"
      ]
     },
     "execution_count": 8,
     "metadata": {},
     "output_type": "execute_result"
    }
   ],
   "source": [
    "anime_names"
   ]
  },
  {
   "cell_type": "code",
   "execution_count": 10,
   "id": "c57aadcf",
   "metadata": {},
   "outputs": [],
   "source": [
    "anime_names_sample = anime_names.head(10)"
   ]
  },
  {
   "cell_type": "code",
   "execution_count": 11,
   "id": "1ce0afae",
   "metadata": {},
   "outputs": [
    {
     "data": {
      "text/html": [
       "<div>\n",
       "<style scoped>\n",
       "    .dataframe tbody tr th:only-of-type {\n",
       "        vertical-align: middle;\n",
       "    }\n",
       "\n",
       "    .dataframe tbody tr th {\n",
       "        vertical-align: top;\n",
       "    }\n",
       "\n",
       "    .dataframe thead th {\n",
       "        text-align: right;\n",
       "    }\n",
       "</style>\n",
       "<table border=\"1\" class=\"dataframe\">\n",
       "  <thead>\n",
       "    <tr style=\"text-align: right;\">\n",
       "      <th></th>\n",
       "      <th>anime_id</th>\n",
       "      <th>Name</th>\n",
       "    </tr>\n",
       "  </thead>\n",
       "  <tbody>\n",
       "    <tr>\n",
       "      <th>0</th>\n",
       "      <td>1</td>\n",
       "      <td>Cowboy Bebop</td>\n",
       "    </tr>\n",
       "    <tr>\n",
       "      <th>1</th>\n",
       "      <td>5</td>\n",
       "      <td>Cowboy Bebop: Tengoku no Tobira</td>\n",
       "    </tr>\n",
       "    <tr>\n",
       "      <th>2</th>\n",
       "      <td>6</td>\n",
       "      <td>Trigun</td>\n",
       "    </tr>\n",
       "    <tr>\n",
       "      <th>3</th>\n",
       "      <td>7</td>\n",
       "      <td>Witch Hunter Robin</td>\n",
       "    </tr>\n",
       "    <tr>\n",
       "      <th>4</th>\n",
       "      <td>8</td>\n",
       "      <td>Bouken Ou Beet</td>\n",
       "    </tr>\n",
       "    <tr>\n",
       "      <th>5</th>\n",
       "      <td>15</td>\n",
       "      <td>Eyeshield 21</td>\n",
       "    </tr>\n",
       "    <tr>\n",
       "      <th>6</th>\n",
       "      <td>16</td>\n",
       "      <td>Hachimitsu to Clover</td>\n",
       "    </tr>\n",
       "    <tr>\n",
       "      <th>7</th>\n",
       "      <td>17</td>\n",
       "      <td>Hungry Heart: Wild Striker</td>\n",
       "    </tr>\n",
       "    <tr>\n",
       "      <th>8</th>\n",
       "      <td>18</td>\n",
       "      <td>Initial D Fourth Stage</td>\n",
       "    </tr>\n",
       "    <tr>\n",
       "      <th>9</th>\n",
       "      <td>19</td>\n",
       "      <td>Monster</td>\n",
       "    </tr>\n",
       "  </tbody>\n",
       "</table>\n",
       "</div>"
      ],
      "text/plain": [
       "   anime_id                             Name\n",
       "0         1                     Cowboy Bebop\n",
       "1         5  Cowboy Bebop: Tengoku no Tobira\n",
       "2         6                           Trigun\n",
       "3         7               Witch Hunter Robin\n",
       "4         8                   Bouken Ou Beet\n",
       "5        15                     Eyeshield 21\n",
       "6        16             Hachimitsu to Clover\n",
       "7        17       Hungry Heart: Wild Striker\n",
       "8        18           Initial D Fourth Stage\n",
       "9        19                          Monster"
      ]
     },
     "execution_count": 11,
     "metadata": {},
     "output_type": "execute_result"
    }
   ],
   "source": [
    "anime_names_sample"
   ]
  },
  {
   "cell_type": "code",
   "execution_count": 12,
   "id": "33bfb7a5",
   "metadata": {},
   "outputs": [],
   "source": [
    "anime_names_sample.to_csv('../data/anime_names_sample.csv', index=False)"
   ]
  },
  {
   "cell_type": "code",
   "execution_count": 13,
   "id": "260fb4e8",
   "metadata": {},
   "outputs": [],
   "source": [
    "anime_names_sample_import = pd.read_csv(\"../data/anime_names_sample.csv\")"
   ]
  },
  {
   "cell_type": "code",
   "execution_count": 14,
   "id": "c8895847",
   "metadata": {},
   "outputs": [
    {
     "data": {
      "text/html": [
       "<div>\n",
       "<style scoped>\n",
       "    .dataframe tbody tr th:only-of-type {\n",
       "        vertical-align: middle;\n",
       "    }\n",
       "\n",
       "    .dataframe tbody tr th {\n",
       "        vertical-align: top;\n",
       "    }\n",
       "\n",
       "    .dataframe thead th {\n",
       "        text-align: right;\n",
       "    }\n",
       "</style>\n",
       "<table border=\"1\" class=\"dataframe\">\n",
       "  <thead>\n",
       "    <tr style=\"text-align: right;\">\n",
       "      <th></th>\n",
       "      <th>anime_id</th>\n",
       "      <th>Name</th>\n",
       "    </tr>\n",
       "  </thead>\n",
       "  <tbody>\n",
       "    <tr>\n",
       "      <th>0</th>\n",
       "      <td>1</td>\n",
       "      <td>Cowboy Bebop</td>\n",
       "    </tr>\n",
       "    <tr>\n",
       "      <th>1</th>\n",
       "      <td>5</td>\n",
       "      <td>Cowboy Bebop: Tengoku no Tobira</td>\n",
       "    </tr>\n",
       "    <tr>\n",
       "      <th>2</th>\n",
       "      <td>6</td>\n",
       "      <td>Trigun</td>\n",
       "    </tr>\n",
       "    <tr>\n",
       "      <th>3</th>\n",
       "      <td>7</td>\n",
       "      <td>Witch Hunter Robin</td>\n",
       "    </tr>\n",
       "    <tr>\n",
       "      <th>4</th>\n",
       "      <td>8</td>\n",
       "      <td>Bouken Ou Beet</td>\n",
       "    </tr>\n",
       "    <tr>\n",
       "      <th>5</th>\n",
       "      <td>15</td>\n",
       "      <td>Eyeshield 21</td>\n",
       "    </tr>\n",
       "    <tr>\n",
       "      <th>6</th>\n",
       "      <td>16</td>\n",
       "      <td>Hachimitsu to Clover</td>\n",
       "    </tr>\n",
       "    <tr>\n",
       "      <th>7</th>\n",
       "      <td>17</td>\n",
       "      <td>Hungry Heart: Wild Striker</td>\n",
       "    </tr>\n",
       "    <tr>\n",
       "      <th>8</th>\n",
       "      <td>18</td>\n",
       "      <td>Initial D Fourth Stage</td>\n",
       "    </tr>\n",
       "    <tr>\n",
       "      <th>9</th>\n",
       "      <td>19</td>\n",
       "      <td>Monster</td>\n",
       "    </tr>\n",
       "  </tbody>\n",
       "</table>\n",
       "</div>"
      ],
      "text/plain": [
       "   anime_id                             Name\n",
       "0         1                     Cowboy Bebop\n",
       "1         5  Cowboy Bebop: Tengoku no Tobira\n",
       "2         6                           Trigun\n",
       "3         7               Witch Hunter Robin\n",
       "4         8                   Bouken Ou Beet\n",
       "5        15                     Eyeshield 21\n",
       "6        16             Hachimitsu to Clover\n",
       "7        17       Hungry Heart: Wild Striker\n",
       "8        18           Initial D Fourth Stage\n",
       "9        19                          Monster"
      ]
     },
     "execution_count": 14,
     "metadata": {},
     "output_type": "execute_result"
    }
   ],
   "source": [
    "anime_names_sample_import"
   ]
  },
  {
   "cell_type": "code",
   "execution_count": 15,
   "id": "bae0cba8",
   "metadata": {},
   "outputs": [],
   "source": [
    "anime_names_list = anime_names_sample[\"Name\"].tolist()"
   ]
  },
  {
   "cell_type": "code",
   "execution_count": 16,
   "id": "a98ad46d",
   "metadata": {},
   "outputs": [
    {
     "data": {
      "text/plain": [
       "['Cowboy Bebop',\n",
       " 'Cowboy Bebop: Tengoku no Tobira',\n",
       " 'Trigun',\n",
       " 'Witch Hunter Robin',\n",
       " 'Bouken Ou Beet',\n",
       " 'Eyeshield 21',\n",
       " 'Hachimitsu to Clover',\n",
       " 'Hungry Heart: Wild Striker',\n",
       " 'Initial D Fourth Stage',\n",
       " 'Monster']"
      ]
     },
     "execution_count": 16,
     "metadata": {},
     "output_type": "execute_result"
    }
   ],
   "source": [
    "anime_names_list"
   ]
  },
  {
   "cell_type": "code",
   "execution_count": 74,
   "id": "8b8ae586",
   "metadata": {},
   "outputs": [
    {
     "name": "stdout",
     "output_type": "stream",
     "text": [
      "['Genshi Shounen Ryuu']\n"
     ]
    }
   ],
   "source": [
    "keywords_input = ['Genshi Shounen Ryuu']\n",
    "if keywords_input == '':\n",
    "    print('Make sure to hit \"Enter\" after finding your anime name accordingly to the existing names')\n",
    "else:\n",
    "    print(keywords_input)"
   ]
  },
  {
   "cell_type": "code",
   "execution_count": 68,
   "id": "992ac770",
   "metadata": {},
   "outputs": [
    {
     "data": {
      "text/plain": [
       "'Genshi shounen ryuu'"
      ]
     },
     "execution_count": 68,
     "metadata": {},
     "output_type": "execute_result"
    }
   ],
   "source": [
    "keywords_input[0].capitalize()"
   ]
  },
  {
   "cell_type": "code",
   "execution_count": 63,
   "id": "d114a403",
   "metadata": {},
   "outputs": [
    {
     "data": {
      "text/plain": [
       "'g'"
      ]
     },
     "execution_count": 63,
     "metadata": {},
     "output_type": "execute_result"
    }
   ],
   "source": [
    "keywords_input[0]"
   ]
  },
  {
   "cell_type": "code",
   "execution_count": 75,
   "id": "0e9124eb",
   "metadata": {},
   "outputs": [],
   "source": [
    "keywords_input_word = keywords_input[0].replace(keywords_input[0][0], keywords_input[0][0].upper(), 1)\n",
    "keywords_input = [keywords_input_word]"
   ]
  },
  {
   "cell_type": "code",
   "execution_count": 76,
   "id": "3f86c8cb",
   "metadata": {},
   "outputs": [
    {
     "data": {
      "text/plain": [
       "['Genshi Shounen Ryuu']"
      ]
     },
     "execution_count": 76,
     "metadata": {},
     "output_type": "execute_result"
    }
   ],
   "source": [
    "keywords_input"
   ]
  },
  {
   "cell_type": "code",
   "execution_count": 73,
   "id": "4142a6d8",
   "metadata": {},
   "outputs": [
    {
     "data": {
      "text/plain": [
       "'Genshi shounen ryuu'"
      ]
     },
     "execution_count": 73,
     "metadata": {},
     "output_type": "execute_result"
    }
   ],
   "source": [
    "keywords_input[0].capitalize()"
   ]
  },
  {
   "cell_type": "code",
   "execution_count": null,
   "id": "3a3618c6",
   "metadata": {},
   "outputs": [],
   "source": []
  },
  {
   "cell_type": "code",
   "execution_count": null,
   "id": "48438dd4",
   "metadata": {},
   "outputs": [],
   "source": []
  },
  {
   "cell_type": "code",
   "execution_count": 60,
   "id": "99eabdfd",
   "metadata": {},
   "outputs": [],
   "source": [
    "keyword_input_word = keywords_input.replace(keywords_input[0], keywords_input[0].upper(), 1)"
   ]
  },
  {
   "cell_type": "code",
   "execution_count": 61,
   "id": "28ac2088",
   "metadata": {},
   "outputs": [],
   "source": [
    "keywords_input_list = [keyword_input_word]"
   ]
  },
  {
   "cell_type": "code",
   "execution_count": 62,
   "id": "f2983a92",
   "metadata": {},
   "outputs": [
    {
     "data": {
      "text/plain": [
       "['Genshi Shounen Ryuu']"
      ]
     },
     "execution_count": 62,
     "metadata": {},
     "output_type": "execute_result"
    }
   ],
   "source": [
    "keywords_input_list"
   ]
  },
  {
   "cell_type": "code",
   "execution_count": 44,
   "id": "a8aca77d",
   "metadata": {},
   "outputs": [],
   "source": [
    "keywords_input_list = keywords_input_list[0].replace(keywords_input[0][0], keywords_input[0][0].upper(), 1)"
   ]
  },
  {
   "cell_type": "code",
   "execution_count": 57,
   "id": "1ea2f5f3",
   "metadata": {},
   "outputs": [
    {
     "data": {
      "text/plain": [
       "['Genshi Shounen Ryuu']"
      ]
     },
     "execution_count": 57,
     "metadata": {},
     "output_type": "execute_result"
    }
   ],
   "source": [
    "keywords_input_list"
   ]
  },
  {
   "cell_type": "code",
   "execution_count": null,
   "id": "ecc12de4",
   "metadata": {},
   "outputs": [],
   "source": [
    "keywords_input = \"freeCodeCamp is an awesome resource\";\n",
    "const words = mySentence.split(\" \");\n",
    "\n",
    "for (let i = 0; i < words.length; i++) {\n",
    "    words[i] = words[i][0].toUpperCase() + words[i].substr(1);\n",
    "}\n",
    "\n",
    "words.join(\" \");\n"
   ]
  },
  {
   "cell_type": "code",
   "execution_count": null,
   "id": "1f651ead",
   "metadata": {},
   "outputs": [],
   "source": []
  },
  {
   "cell_type": "code",
   "execution_count": 47,
   "id": "0cde1d06",
   "metadata": {},
   "outputs": [
    {
     "data": {
      "text/plain": [
       "False"
      ]
     },
     "execution_count": 47,
     "metadata": {},
     "output_type": "execute_result"
    }
   ],
   "source": [
    "keywords_input_list[0].islower()"
   ]
  },
  {
   "cell_type": "code",
   "execution_count": null,
   "id": "a81be243",
   "metadata": {},
   "outputs": [],
   "source": []
  },
  {
   "cell_type": "code",
   "execution_count": null,
   "id": "0850e658",
   "metadata": {},
   "outputs": [],
   "source": []
  }
 ],
 "metadata": {
  "kernelspec": {
   "display_name": "anime_map",
   "language": "python",
   "name": "anime_map"
  },
  "language_info": {
   "codemirror_mode": {
    "name": "ipython",
    "version": 3
   },
   "file_extension": ".py",
   "mimetype": "text/x-python",
   "name": "python",
   "nbconvert_exporter": "python",
   "pygments_lexer": "ipython3",
   "version": "3.9.6"
  },
  "toc": {
   "base_numbering": 1,
   "nav_menu": {},
   "number_sections": true,
   "sideBar": true,
   "skip_h1_title": false,
   "title_cell": "Table of Contents",
   "title_sidebar": "Contents",
   "toc_cell": false,
   "toc_position": {},
   "toc_section_display": true,
   "toc_window_display": false
  }
 },
 "nbformat": 4,
 "nbformat_minor": 5
}
